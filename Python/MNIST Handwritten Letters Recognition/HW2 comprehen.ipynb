{
 "cells": [
  {
   "cell_type": "markdown",
   "metadata": {},
   "source": [
    "# Computer Exercise"
   ]
  },
  {
   "cell_type": "markdown",
   "metadata": {},
   "source": [
    "In this part, we code Bayesian Decision Rule and K-Nearest Neighbor to recognize the handwritten digit from MNIST.  \n",
    "For Bayesian Decision Rule, we choose 2 methods to deal with it. One is purely utilizing Bayesian Decision Rule, the other one is using Principal Component Analysis to deduct dimension firstly, then using Bayesian Decision Rule with new dataset.  \n",
    "In general, the KNN performs best, then Bayesian Decision Rule ranks number 2, PCA + Bayes ranks third. But based on theoritical knowledge, PCA + Bayes should be better than purely Bayes, so PCA + Bayes has huge potential, which can be our future work.  "
   ]
  },
  {
   "cell_type": "markdown",
   "metadata": {},
   "source": [
    "## Bayesian Decision Rule\n",
    "The accuracy is around 60%. The micro average precision is 0.590, the macro average precision is 0.694, the weighted avg is 0.690.  \n",
    "The following is the detailed information."
   ]
  },
  {
   "cell_type": "code",
   "execution_count": 12,
   "metadata": {},
   "outputs": [
    {
     "name": "stdout",
     "output_type": "stream",
     "text": [
      "Got 5896 / 10000 correct\n",
      "Accuracy = 0.589600\n"
     ]
    }
   ],
   "source": [
    "num_test = len(y_test)\n",
    "num_correct = np.sum(y_pred == y_test)\n",
    "print('Got %d / %d correct' % (num_correct, num_test))\n",
    "print('Accuracy = %f' % (np.mean(y_test == y_pred)))"
   ]
  },
  {
   "cell_type": "code",
   "execution_count": 13,
   "metadata": {},
   "outputs": [
    {
     "name": "stdout",
     "output_type": "stream",
     "text": [
      "[[ 499    6    5  391   10    1   30   15   21    2]\n",
      " [   0 1106    5    8    8    0    5    2    0    1]\n",
      " [   3   60  496  393   27    0   16   23   10    4]\n",
      " [   1   95    6  809    3    2    0   88    1    5]\n",
      " [   0   50   12    5  664    1    3  221    7   19]\n",
      " [   5   65    5  297   52   93   16   56  287   16]\n",
      " [   4   49    5   23    7    3  863    1    3    0]\n",
      " [   0   43    5   13    7    0    0  955    1    4]\n",
      " [   2  245    5  259   33    6    4  107  275   38]\n",
      " [   1   65    4   20   19    0    0  764    0  136]]\n",
      "              precision    recall  f1-score   support\n",
      "\n",
      "           0      0.969     0.509     0.668       980\n",
      "           1      0.620     0.974     0.758      1135\n",
      "           2      0.905     0.481     0.628      1032\n",
      "           3      0.365     0.801     0.501      1010\n",
      "           4      0.800     0.676     0.733       982\n",
      "           5      0.877     0.104     0.186       892\n",
      "           6      0.921     0.901     0.911       958\n",
      "           7      0.428     0.929     0.586      1028\n",
      "           8      0.455     0.282     0.348       974\n",
      "           9      0.604     0.135     0.220      1009\n",
      "\n",
      "   micro avg      0.590     0.590     0.590     10000\n",
      "   macro avg      0.694     0.579     0.554     10000\n",
      "weighted avg      0.690     0.590     0.559     10000\n",
      "\n"
     ]
    }
   ],
   "source": [
    "dict_characters = {0: '0', 1: '1', 2: '2', 3: '3', 4: '4', \n",
    "                   5: '5', 6: '6', 7: '7', 8: '8', 9: '9'}\n",
    "print(confusion_matrix(y_test, y_pred)) \n",
    "print(classification_report(y_test, y_pred,\n",
    "                            target_names=list(dict_characters.values()),digits=3))"
   ]
  },
  {
   "cell_type": "code",
   "execution_count": 14,
   "metadata": {},
   "outputs": [
    {
     "data": {
      "image/png": "[encoded data removed]",
      "text/plain": [
       "<Figure size 576x576 with 2 Axes>"
      ]
     },
     "metadata": {
      "needs_background": "light"
     },
     "output_type": "display_data"
    }
   ],
   "source": [
    "plt.figure(figsize=(8,8))\n",
    "cnf_matrix = confusion_matrix(y_test, y_pred)\n",
    "classes = list(dict_characters.values())\n",
    "plt.imshow(cnf_matrix, interpolation='nearest')\n",
    "plt.colorbar()\n",
    "tick_marks = np.arange(len(classes))\n",
    "_ = plt.xticks(tick_marks, classes, rotation=90)\n",
    "_ = plt.yticks(tick_marks, classes)"
   ]
  },
  {
   "cell_type": "markdown",
   "metadata": {},
   "source": [
    "## Principal Component Analysis + Bayesian Decision Rule\n",
    "The accuracy is around 40.8%. The micro average precision is 0.408, the macro average precision is 0.507, the weighted avg is 0.512. And this result is not constant, sometimes the macro average precision is 0.595.  \n",
    "The following is the detailed information."
   ]
  },
  {
   "cell_type": "code",
   "execution_count": 62,
   "metadata": {},
   "outputs": [
    {
     "name": "stdout",
     "output_type": "stream",
     "text": [
      "Got 4077 / 10000 correct\n",
      "Accuracy = 0.407700\n"
     ]
    }
   ],
   "source": [
    "num_test = len(y_test)\n",
    "num_correct = np.sum(y_pred == y_test)\n",
    "print('Got %d / %d correct' % (num_correct, num_test))\n",
    "print('Accuracy = %f' % (np.mean(y_test == y_pred)))"
   ]
  },
  {
   "cell_type": "code",
   "execution_count": 63,
   "metadata": {},
   "outputs": [
    {
     "name": "stdout",
     "output_type": "stream",
     "text": [
      "[[ 694   18    0   14    0    0  254    0    0    0]\n",
      " [   1 1128    2    0    1    0    3    0    0    0]\n",
      " [ 133  244  302   31    4    0  318    0    0    0]\n",
      " [ 293  359    2  201    4    0  145    1    0    5]\n",
      " [  96  284    5    6  392    0  194    0    0    5]\n",
      " [ 263  251    6  105    5    0  249    1    2   10]\n",
      " [   8   65    2    0    0    0  883    0    0    0]\n",
      " [   8  164    1   64  137    0   15  110    0  529]\n",
      " [  95  623    5   73   26    0  102    0   47    3]\n",
      " [  25  184    3   34  424    0    5   14    0  320]]\n",
      "              precision    recall  f1-score   support\n",
      "\n",
      "           0      0.429     0.708     0.535       980\n",
      "           1      0.340     0.994     0.506      1135\n",
      "           2      0.921     0.293     0.444      1032\n",
      "           3      0.381     0.199     0.261      1010\n",
      "           4      0.395     0.399     0.397       982\n",
      "           5      0.000     0.000     0.000       892\n",
      "           6      0.407     0.922     0.565       958\n",
      "           7      0.873     0.107     0.191      1028\n",
      "           8      0.959     0.048     0.092       974\n",
      "           9      0.367     0.317     0.340      1009\n",
      "\n",
      "   micro avg      0.408     0.408     0.408     10000\n",
      "   macro avg      0.507     0.399     0.333     10000\n",
      "weighted avg      0.512     0.408     0.338     10000\n",
      "\n"
     ]
    }
   ],
   "source": [
    "dict_characters = {0: '0', 1: '1', 2: '2', 3: '3', 4: '4',\n",
    "                   5: '5', 6: '6', 7: '7', 8: '8', 9: '9'}\n",
    "print(confusion_matrix(y_test, y_pred)) \n",
    "print(classification_report(y_test, y_pred,\n",
    "                            target_names=list(dict_characters.values()),digits=3))"
   ]
  },
  {
   "cell_type": "code",
   "execution_count": 64,
   "metadata": {},
   "outputs": [
    {
     "data": {
      "image/png": "[encoded data removed]",
      "text/plain": [
       "<Figure size 576x576 with 2 Axes>"
      ]
     },
     "metadata": {
      "needs_background": "light"
     },
     "output_type": "display_data"
    }
   ],
   "source": [
    "plt.figure(figsize=(8,8))\n",
    "cnf_matrix = sklearn.metrics.confusion_matrix(y_test, y_pred)\n",
    "classes = list(dict_characters.values())\n",
    "plt.imshow(cnf_matrix, interpolation='nearest')\n",
    "plt.colorbar()\n",
    "tick_marks = np.arange(len(classes))\n",
    "_ = plt.xticks(tick_marks, classes, rotation=90)\n",
    "_ = plt.yticks(tick_marks, classes)"
   ]
  },
  {
   "cell_type": "markdown",
   "metadata": {},
   "source": [
    "## K-Nearest Neighbor\n",
    "There are 3 K waiting for selection, K=1, K=3 and K=5. And we find that  \n",
    "k = 1, Accuracy = 0.969100  \n",
    "k = 3, Accuracy = 0.971700  \n",
    "k = 5, Accuracy = 0.969300.  \n",
    "Hence, we set K as 3, since it will contribute to highest accuracy. Next, by running the code, the accuracy is 97%. The micro average precision is 0.972, the macro average precision is 0.972, the weighted avg is 0.972.\n",
    "The following is the detailed information."
   ]
  },
  {
   "cell_type": "code",
   "execution_count": 34,
   "metadata": {},
   "outputs": [
    {
     "name": "stdout",
     "output_type": "stream",
     "text": [
      "Got 9717 / 10000 correct\n",
      "Accuracy = 0.971700\n"
     ]
    }
   ],
   "source": [
    "num_test = len(y_test)\n",
    "num_correct = np.sum(Y_test_pred == y_test)\n",
    "print('Got %d / %d correct' % (num_correct, num_test))\n",
    "print('Accuracy = %f' % (np.mean(y_test == Y_test_pred)))"
   ]
  },
  {
   "cell_type": "code",
   "execution_count": 35,
   "metadata": {},
   "outputs": [
    {
     "name": "stdout",
     "output_type": "stream",
     "text": [
      "[[ 974    1    1    0    0    1    2    1    0    0]\n",
      " [   0 1133    2    0    0    0    0    0    0    0]\n",
      " [   9    7  997    2    0    0    1   14    2    0]\n",
      " [   0    1    4  975    1   13    1    7    4    4]\n",
      " [   0    5    0    0  948    0    5    4    1   19]\n",
      " [   4    1    0   12    2  860    5    1    3    4]\n",
      " [   4    3    0    0    4    3  944    0    0    0]\n",
      " [   0   18    4    0    2    0    0  994    0   10]\n",
      " [   7    0    3   13    5   11    3    4  923    5]\n",
      " [   3    4    2    7    9    4    1    8    2  969]]\n",
      "              precision    recall  f1-score   support\n",
      "\n",
      "           0      0.973     0.994     0.983       980\n",
      "           1      0.966     0.998     0.982      1135\n",
      "           2      0.984     0.966     0.975      1032\n",
      "           3      0.966     0.965     0.966      1010\n",
      "           4      0.976     0.965     0.971       982\n",
      "           5      0.964     0.964     0.964       892\n",
      "           6      0.981     0.985     0.983       958\n",
      "           7      0.962     0.967     0.965      1028\n",
      "           8      0.987     0.948     0.967       974\n",
      "           9      0.958     0.960     0.959      1009\n",
      "\n",
      "   micro avg      0.972     0.972     0.972     10000\n",
      "   macro avg      0.972     0.971     0.972     10000\n",
      "weighted avg      0.972     0.972     0.972     10000\n",
      "\n"
     ]
    }
   ],
   "source": [
    "dict_characters = {0: '0', 1: '1', 2: '2', 3: '3', 4: '4',\n",
    "                   5: '5', 6: '6', 7: '7', 8: '8', 9: '9'}\n",
    "print(confusion_matrix(y_test, Y_test_pred)) \n",
    "print(classification_report(y_test, Y_test_pred,\n",
    "                            target_names=list(dict_characters.values()),digits=3))"
   ]
  },
  {
   "cell_type": "code",
   "execution_count": 37,
   "metadata": {},
   "outputs": [
    {
     "data": {
      "image/png": "[encoded data removed]",
      "text/plain": [
       "<Figure size 576x576 with 2 Axes>"
      ]
     },
     "metadata": {
      "needs_background": "light"
     },
     "output_type": "display_data"
    }
   ],
   "source": [
    "plt.figure(figsize=(8,8))\n",
    "cnf_matrix = confusion_matrix(y_test, Y_test_pred)\n",
    "classes = list(dict_characters.values())\n",
    "plt.imshow(cnf_matrix, interpolation='nearest')\n",
    "plt.colorbar()\n",
    "tick_marks = np.arange(len(classes))\n",
    "_ = plt.xticks(tick_marks, classes, rotation=90)\n",
    "_ = plt.yticks(tick_marks, classes)"
   ]
  },
  {
   "cell_type": "markdown",
   "metadata": {},
   "source": [
    "# Appendix"
   ]
  },
  {
   "cell_type": "code",
   "execution_count": 1,
   "metadata": {},
   "outputs": [],
   "source": [
    "# import dataset and seperate them as train set and test set\n",
    "# index x represents image, index y represents label\n",
    "import os\n",
    "import cv2\n",
    "import random\n",
    "import sklearn\n",
    "import numpy as np\n",
    "import sklearn.metrics\n",
    "import tensorflow as tf\n",
    "from numpy.linalg import *\n",
    "import matplotlib.pyplot as plt\n",
    "from sklearn.metrics import classification_report, confusion_matrix "
   ]
  },
  {
   "cell_type": "code",
   "execution_count": 2,
   "metadata": {},
   "outputs": [],
   "source": [
    "# download MNIST dataset from keras\n",
    "(x_train, y_train), (x_test, y_test) = tf.keras.datasets.mnist.load_data()\n",
    "# convert data type to float 32\n",
    "x_train=np.float32(x_train)\n",
    "x_test=np.float32(x_test)"
   ]
  },
  {
   "cell_type": "markdown",
   "metadata": {},
   "source": [
    "## Bayes Part"
   ]
  },
  {
   "cell_type": "code",
   "execution_count": 3,
   "metadata": {},
   "outputs": [],
   "source": [
    "# add noise to images\n",
    "def add_noisy(image):\n",
    "    ch,row,col = np.shape(image)\n",
    "    mean = 0\n",
    "    var = 0.01\n",
    "    sigma = var**0.5\n",
    "    gauss = np.random.normal(mean,sigma,(ch,row,col))\n",
    "    gauss = np.reshape(gauss,(ch,row,col))\n",
    "    noisy = image + gauss\n",
    "    return noisy"
   ]
  },
  {
   "cell_type": "code",
   "execution_count": 4,
   "metadata": {},
   "outputs": [],
   "source": [
    "# normalize and reconstruct the dataset\n",
    "X_train = add_noisy(x_train) / 255.0\n",
    "X_test = add_noisy(x_test) / 255.0\n",
    "x_train = X_train.reshape(np.shape(X_train)[0], 28*28)\n",
    "x_test = X_test.reshape(np.shape(X_test)[0], 28*28)"
   ]
  },
  {
   "cell_type": "code",
   "execution_count": 6,
   "metadata": {},
   "outputs": [],
   "source": [
    "# construct a Bayesian Decision Rule class\n",
    "class SJBAYES(object):\n",
    "    def __init__(self):\n",
    "        pass\n",
    "\n",
    "    def train(self, X, Y):\n",
    "        self.x_train = X\n",
    "        self.y_train = Y\n",
    "        \n",
    "    def split_category(self, category_name):\n",
    "        xx_train=[]\n",
    "        yy_train=[]\n",
    "        for i in range(len(y_train)):\n",
    "            if (self.y_train[i]==category_name):\n",
    "                xx_train.append(self.x_train[i])\n",
    "                yy_train.append(self.y_train[i])\n",
    "        return xx_train, yy_train\n",
    "    \n",
    "    def MLE_miu_sigma(self, img_col, data):\n",
    "        wait_mean = np.reshape(data,(len(data),img_col))\n",
    "        cate_miu = np.mean(wait_mean, axis=0)\n",
    "        cm=np.reshape(cate_miu,(1,img_col))\n",
    "        b=data-cm\n",
    "        a=np.transpose(b)\n",
    "        sgm=np.dot(a,b)/(len(data)-1)\n",
    "        return cate_miu, sgm\n",
    "\n",
    "    def para_for_case3(self, cate_miu, sgm, data):\n",
    "        cm=np.reshape(cate_miu,(1,img_col))\n",
    "        W=-0.5*pinv(sgm)\n",
    "        w=np.transpose(np.dot(pinv(sgm),np.transpose(cm)))\n",
    "        P_w=len(data)/len(self.x_train)\n",
    "        #det_=np.exp(np.trace(np.log(sgm)))\n",
    "        det_=np.trace(sgm)\n",
    "        #det_=det(sgm)\n",
    "        sigdet=-0.5*np.log(det_)\n",
    "        msm=np.dot(np.dot(cm,pinv(sgm)),np.transpose(cm))\n",
    "        www=-0.5*msm[0][0]+sigdet+np.log(P_w)\n",
    "        #print(www)\n",
    "        return W, w, www\n",
    "    \n",
    "    def discri_fun(self, img_col, x_test, W, w, www):\n",
    "        x_test = np.reshape(x_test,(1,img_col))\n",
    "        g=np.dot(np.dot(x_test,W),x_test.T)+np.dot(w,x_test.T)+www\n",
    "        return g"
   ]
  },
  {
   "cell_type": "code",
   "execution_count": 7,
   "metadata": {},
   "outputs": [],
   "source": [
    "# split the train as 10 categories\n",
    "JS = SJBAYES()\n",
    "JS.train(x_train,y_train)\n",
    "x0_train, y0_train = JS.split_category(0)\n",
    "x1_train, y1_train = JS.split_category(1)\n",
    "x2_train, y2_train = JS.split_category(2)\n",
    "x3_train, y3_train = JS.split_category(3)\n",
    "x4_train, y4_train = JS.split_category(4)\n",
    "x5_train, y5_train = JS.split_category(5)\n",
    "x6_train, y6_train = JS.split_category(6)\n",
    "x7_train, y7_train = JS.split_category(7)\n",
    "x8_train, y8_train = JS.split_category(8)\n",
    "x9_train, y9_train = JS.split_category(9)\n",
    "\n",
    "# get mean and variance matrix for training set\n",
    "img_col = 784\n",
    "miu0,sig0=JS.MLE_miu_sigma(img_col, x0_train)\n",
    "miu1,sig1=JS.MLE_miu_sigma(img_col, x1_train)\n",
    "miu2,sig2=JS.MLE_miu_sigma(img_col, x2_train)\n",
    "miu3,sig3=JS.MLE_miu_sigma(img_col, x3_train)\n",
    "miu4,sig4=JS.MLE_miu_sigma(img_col, x4_train)\n",
    "miu5,sig5=JS.MLE_miu_sigma(img_col, x5_train)\n",
    "miu6,sig6=JS.MLE_miu_sigma(img_col, x6_train)\n",
    "miu7,sig7=JS.MLE_miu_sigma(img_col, x7_train)\n",
    "miu8,sig8=JS.MLE_miu_sigma(img_col, x8_train)\n",
    "miu9,sig9=JS.MLE_miu_sigma(img_col, x9_train)"
   ]
  },
  {
   "cell_type": "code",
   "execution_count": 8,
   "metadata": {},
   "outputs": [],
   "source": [
    "W0, w0, w00 = JS.para_for_case3(miu0, sig0, x0_train)\n",
    "W1, w1, w11 = JS.para_for_case3(miu1, sig1, x1_train)\n",
    "W2, w2, w22 = JS.para_for_case3(miu2, sig2, x2_train)\n",
    "W3, w3, w33 = JS.para_for_case3(miu3, sig3, x3_train)\n",
    "W4, w4, w44 = JS.para_for_case3(miu4, sig4, x4_train)\n",
    "W5, w5, w55 = JS.para_for_case3(miu5, sig5, x5_train)\n",
    "W6, w6, w66 = JS.para_for_case3(miu6, sig6, x6_train)\n",
    "W7, w7, w77 = JS.para_for_case3(miu7, sig7, x7_train)\n",
    "W8, w8, w88 = JS.para_for_case3(miu8, sig8, x8_train)\n",
    "W9, w9, w99 = JS.para_for_case3(miu9, sig9, x9_train)"
   ]
  },
  {
   "cell_type": "code",
   "execution_count": 9,
   "metadata": {},
   "outputs": [],
   "source": [
    "# calculate discriminant function and predict\n",
    "y_pred=[]\n",
    "x_test=np.reshape(x_test,(10000,img_col))\n",
    "for i in range(len(x_test)):\n",
    "    g0=JS.discri_fun(img_col, x_test[i], W0, w0, w00)\n",
    "    g1=JS.discri_fun(img_col, x_test[i], W1, w1, w11)\n",
    "    g2=JS.discri_fun(img_col, x_test[i], W2, w2, w22)\n",
    "    g3=JS.discri_fun(img_col, x_test[i], W3, w3, w33)\n",
    "    g4=JS.discri_fun(img_col, x_test[i], W4, w4, w44)\n",
    "    g5=JS.discri_fun(img_col, x_test[i], W5, w5, w55)\n",
    "    g6=JS.discri_fun(img_col, x_test[i], W6, w6, w66)\n",
    "    g7=JS.discri_fun(img_col, x_test[i], W7, w7, w77)\n",
    "    g8=JS.discri_fun(img_col, x_test[i], W8, w8, w88)\n",
    "    g9=JS.discri_fun(img_col, x_test[i], W9, w9, w99)\n",
    "    \n",
    "    g=[g0[0][0],g1[0][0],g2[0][0],g3[0][0],g4[0][0],\n",
    "       g5[0][0],g6[0][0],g7[0][0],g8[0][0],g9[0][0]] \n",
    "    ind=np.where(g==np.max(g))\n",
    "    y_pred.append(ind[0][0])"
   ]
  },
  {
   "cell_type": "code",
   "execution_count": 10,
   "metadata": {},
   "outputs": [
    {
     "name": "stdout",
     "output_type": "stream",
     "text": [
      "Got 5896 / 10000 correct\n",
      "Accuracy = 0.589600\n"
     ]
    }
   ],
   "source": [
    "num_test = len(y_test)\n",
    "num_correct = np.sum(y_pred == y_test)\n",
    "print('Got %d / %d correct' % (num_correct, num_test))\n",
    "print('Accuracy = %f' % (np.mean(y_test == y_pred)))"
   ]
  },
  {
   "cell_type": "code",
   "execution_count": 11,
   "metadata": {},
   "outputs": [
    {
     "name": "stdout",
     "output_type": "stream",
     "text": [
      "[[ 499    6    5  391   10    1   30   15   21    2]\n",
      " [   0 1106    5    8    8    0    5    2    0    1]\n",
      " [   3   60  496  393   27    0   16   23   10    4]\n",
      " [   1   95    6  809    3    2    0   88    1    5]\n",
      " [   0   50   12    5  664    1    3  221    7   19]\n",
      " [   5   65    5  297   52   93   16   56  287   16]\n",
      " [   4   49    5   23    7    3  863    1    3    0]\n",
      " [   0   43    5   13    7    0    0  955    1    4]\n",
      " [   2  245    5  259   33    6    4  107  275   38]\n",
      " [   1   65    4   20   19    0    0  764    0  136]]\n",
      "              precision    recall  f1-score   support\n",
      "\n",
      "           0      0.969     0.509     0.668       980\n",
      "           1      0.620     0.974     0.758      1135\n",
      "           2      0.905     0.481     0.628      1032\n",
      "           3      0.365     0.801     0.501      1010\n",
      "           4      0.800     0.676     0.733       982\n",
      "           5      0.877     0.104     0.186       892\n",
      "           6      0.921     0.901     0.911       958\n",
      "           7      0.428     0.929     0.586      1028\n",
      "           8      0.455     0.282     0.348       974\n",
      "           9      0.604     0.135     0.220      1009\n",
      "\n",
      "   micro avg      0.590     0.590     0.590     10000\n",
      "   macro avg      0.694     0.579     0.554     10000\n",
      "weighted avg      0.690     0.590     0.559     10000\n",
      "\n"
     ]
    }
   ],
   "source": [
    "dict_characters = {0: '0', 1: '1', 2: '2', 3: '3', 4: '4',\n",
    "                   5: '5', 6: '6', 7: '7', 8: '8', 9: '9'}\n",
    "print(confusion_matrix(y_test, y_pred)) \n",
    "print(classification_report(y_test, y_pred,\n",
    "                            target_names=list(dict_characters.values()),digits=3))"
   ]
  },
  {
   "cell_type": "markdown",
   "metadata": {},
   "source": [
    "## PCA + Bayes Part"
   ]
  },
  {
   "cell_type": "code",
   "execution_count": 50,
   "metadata": {},
   "outputs": [],
   "source": [
    "# download MNIST dataset from keras\n",
    "(x_train, y_train), (x_test, y_test) = tf.keras.datasets.mnist.load_data()\n",
    "# convert data type to float 32\n",
    "x_train=np.float32(x_train)\n",
    "x_test=np.float32(x_test)"
   ]
  },
  {
   "cell_type": "code",
   "execution_count": 51,
   "metadata": {},
   "outputs": [],
   "source": [
    "# add noise to images\n",
    "def add_noisy(image):\n",
    "    ch,row,col = np.shape(image)\n",
    "    mean = 0\n",
    "    var = 0.01\n",
    "    sigma = var**0.5\n",
    "    gauss = np.random.normal(mean,sigma,(ch,row,col))\n",
    "    gauss = np.reshape(gauss,(ch,row,col))\n",
    "    noisy = image + gauss\n",
    "    return noisy"
   ]
  },
  {
   "cell_type": "code",
   "execution_count": 52,
   "metadata": {},
   "outputs": [],
   "source": [
    "# add noise and reconstruct dataset and stack them as a big one for dimension deduction\n",
    "X_train = add_noisy(x_train)\n",
    "X_test = add_noisy(x_test)\n",
    "x_train = X_train.reshape(np.shape(X_train)[0], 28*28)\n",
    "x_test = X_test.reshape(np.shape(X_test)[0], 28*28)\n",
    "big_X=np.vstack((x_train,x_test))"
   ]
  },
  {
   "cell_type": "code",
   "execution_count": 53,
   "metadata": {},
   "outputs": [],
   "source": [
    "# build PCA class\n",
    "class SJPCA(object):\n",
    "    def __init__(self):\n",
    "        pass\n",
    "\n",
    "    def train(self, X):\n",
    "        self.x_train = X\n",
    "    \n",
    "    def compute_mean_covar_eigen(self):\n",
    "        # get average image and get mean image by summing each row\n",
    "        tr_mean = np.mean(self.x_train, axis=0)\n",
    "        tr_mean = np.reshape(tr_mean,(1,np.shape(tr_mean)[0]))\n",
    "\n",
    "        # subtract the mean\n",
    "        xtr_m = self.x_train - tr_mean\n",
    "\n",
    "        # calculate covariance matrix\n",
    "        tr_cov = np.dot(xtr_m.T,xtr_m)\n",
    "        \n",
    "        # get eigenvalue and eigenvector\n",
    "        tr_val, tr_vec = eig(tr_cov)\n",
    "        \n",
    "        return tr_mean, tr_cov, tr_val, tr_vec\n",
    "    \n",
    "    \n",
    "    def get_comp_K(self,tr_val, threshold):\n",
    "        cum_lambda = np.cumsum(tr_val)\n",
    "        total_lamda = cum_lambda[-1]\n",
    "        \n",
    "        # get the principal component number that we want to keep\n",
    "        for keep_dim in range(len(tr_val)):\n",
    "            rate = cum_lambda[keep_dim]/total_lamda\n",
    "            if rate >= threshold: \n",
    "                return keep_dim\n",
    "                break\n",
    "            else: continue\n",
    "            \n",
    "    def deduct_img(self, tr_vec, keep_dim):\n",
    "        x_proj= np.dot(self.x_train, tr_vec.T[:,0:keep_dim])\n",
    "        return x_proj"
   ]
  },
  {
   "cell_type": "code",
   "execution_count": 54,
   "metadata": {},
   "outputs": [],
   "source": [
    "# Deduct Training Set\n",
    "SJ = SJPCA()\n",
    "SJ.train(big_X)\n",
    "tr_mean, tr_cov, tr_val, tr_vec = SJ.compute_mean_covar_eigen()\n",
    "keep_dim = SJ.get_comp_K(tr_val, 0.95)\n",
    "new_big_X = SJ.deduct_img(tr_vec, keep_dim)"
   ]
  },
  {
   "cell_type": "code",
   "execution_count": 55,
   "metadata": {},
   "outputs": [],
   "source": [
    "# resplit the dataset and normalize them with min-max normalization\n",
    "x_train = new_big_X[0:60000,:]\n",
    "x_test = new_big_X[60000:70000,:]\n",
    "tr_min = np.min(x_train,axis=1)\n",
    "tr_cha = np.max(x_train,axis=1)-np.min(x_train,axis=1)\n",
    "te_min = np.min(x_test,axis=1)\n",
    "te_cha = np.max(x_test,axis=1)-np.min(x_test,axis=1)\n",
    "for i in range(60000):\n",
    "    x_train[i]=(x_train[i]-tr_min[i])/tr_cha[i]\n",
    "for i in range(10000):\n",
    "    x_test[i]=(x_test[i]-te_min[i])/tr_cha[i]"
   ]
  },
  {
   "cell_type": "code",
   "execution_count": 56,
   "metadata": {},
   "outputs": [],
   "source": [
    "# build a Bayes class\n",
    "class SJBAYES(object):\n",
    "    def __init__(self):\n",
    "        pass\n",
    "\n",
    "    def train(self, X, Y):\n",
    "        self.x_train = X\n",
    "        self.y_train = Y\n",
    "        \n",
    "    def split_category(self, category_name):\n",
    "        xx_train=[]\n",
    "        yy_train=[]\n",
    "        for i in range(len(y_train)):\n",
    "            if (self.y_train[i]==category_name):\n",
    "                xx_train.append(self.x_train[i])\n",
    "                yy_train.append(self.y_train[i])\n",
    "        return xx_train, yy_train\n",
    "    \n",
    "    def MLE_miu_sigma(self, img_col, data):\n",
    "        wait_mean = np.reshape(data,(len(data),img_col))\n",
    "        cate_miu = np.mean(wait_mean, axis=0)\n",
    "        cm=np.reshape(cate_miu,(1,img_col))\n",
    "        b=data-cm\n",
    "        a=np.transpose(b)\n",
    "        sgm=np.dot(a,b)\n",
    "        return cate_miu, sgm\n",
    "\n",
    "    def para_for_case3(self, cate_miu, sgm, data):\n",
    "        cm=np.reshape(cate_miu,(1,img_col))\n",
    "        W=-0.5*inv(sgm)\n",
    "        w=np.transpose(np.dot(inv(sgm),np.transpose(cm)))\n",
    "        P_w=len(data)/len(self.x_train)\n",
    "        #det_=np.exp(np.trace(np.log(sgm)))\n",
    "        det_=np.trace(sgm)\n",
    "        sigdet=-0.5*np.log(det_)\n",
    "        msm=np.dot(np.dot(cm,inv(sgm)),np.transpose(cm))\n",
    "        www=-0.5*msm[0][0]+sigdet+np.log(P_w)\n",
    "        return W, w, www\n",
    "    \n",
    "    def discri_fun(self, img_col, x_test, W, w, www):\n",
    "        x_test = np.reshape(x_test,(1,img_col))\n",
    "        g=np.dot(np.dot(x_test,W),x_test.T)+np.dot(w,x_test.T)+www\n",
    "        return g"
   ]
  },
  {
   "cell_type": "code",
   "execution_count": 57,
   "metadata": {},
   "outputs": [],
   "source": [
    "# split the train as 10 categories\n",
    "JS = SJBAYES()\n",
    "JS.train(x_train,y_train)\n",
    "x0_train, y0_train = JS.split_category(0)\n",
    "x1_train, y1_train = JS.split_category(1)\n",
    "x2_train, y2_train = JS.split_category(2)\n",
    "x3_train, y3_train = JS.split_category(3)\n",
    "x4_train, y4_train = JS.split_category(4)\n",
    "x5_train, y5_train = JS.split_category(5)\n",
    "x6_train, y6_train = JS.split_category(6)\n",
    "x7_train, y7_train = JS.split_category(7)\n",
    "x8_train, y8_train = JS.split_category(8)\n",
    "x9_train, y9_train = JS.split_category(9)\n",
    "\n",
    "# get mean and variance matrix for training set\n",
    "img_col = keep_dim\n",
    "miu0,sig0=JS.MLE_miu_sigma(img_col, x0_train)\n",
    "miu1,sig1=JS.MLE_miu_sigma(img_col, x1_train)\n",
    "miu2,sig2=JS.MLE_miu_sigma(img_col, x2_train)\n",
    "miu3,sig3=JS.MLE_miu_sigma(img_col, x3_train)\n",
    "miu4,sig4=JS.MLE_miu_sigma(img_col, x4_train)\n",
    "miu5,sig5=JS.MLE_miu_sigma(img_col, x5_train)\n",
    "miu6,sig6=JS.MLE_miu_sigma(img_col, x6_train)\n",
    "miu7,sig7=JS.MLE_miu_sigma(img_col, x7_train)\n",
    "miu8,sig8=JS.MLE_miu_sigma(img_col, x8_train)\n",
    "miu9,sig9=JS.MLE_miu_sigma(img_col, x9_train)"
   ]
  },
  {
   "cell_type": "code",
   "execution_count": 58,
   "metadata": {},
   "outputs": [],
   "source": [
    "W0, w0, w00 = JS.para_for_case3(miu0, sig0, x0_train)\n",
    "W1, w1, w11 = JS.para_for_case3(miu1, sig1, x1_train)\n",
    "W2, w2, w22 = JS.para_for_case3(miu2, sig2, x2_train)\n",
    "W3, w3, w33 = JS.para_for_case3(miu3, sig3, x3_train)\n",
    "W4, w4, w44 = JS.para_for_case3(miu4, sig4, x4_train)\n",
    "W5, w5, w55 = JS.para_for_case3(miu5, sig5, x5_train)\n",
    "W6, w6, w66 = JS.para_for_case3(miu6, sig6, x6_train)\n",
    "W7, w7, w77 = JS.para_for_case3(miu7, sig7, x7_train)\n",
    "W8, w8, w88 = JS.para_for_case3(miu8, sig8, x8_train)\n",
    "W9, w9, w99 = JS.para_for_case3(miu9, sig9, x9_train)"
   ]
  },
  {
   "cell_type": "code",
   "execution_count": 59,
   "metadata": {},
   "outputs": [],
   "source": [
    "# calculate discriminant function\n",
    "y_pred=[]\n",
    "x_test=np.reshape(x_test,(10000,img_col))\n",
    "for i in range(len(x_test)):\n",
    "    g0=JS.discri_fun(img_col, x_test[i], W0, w0, w00)\n",
    "    g1=JS.discri_fun(img_col, x_test[i], W1, w1, w11)\n",
    "    g2=JS.discri_fun(img_col, x_test[i], W2, w2, w22)\n",
    "    g3=JS.discri_fun(img_col, x_test[i], W3, w3, w33)\n",
    "    g4=JS.discri_fun(img_col, x_test[i], W4, w4, w44)\n",
    "    g5=JS.discri_fun(img_col, x_test[i], W5, w5, w55)\n",
    "    g6=JS.discri_fun(img_col, x_test[i], W6, w6, w66)\n",
    "    g7=JS.discri_fun(img_col, x_test[i], W7, w7, w77)\n",
    "    g8=JS.discri_fun(img_col, x_test[i], W8, w8, w88)\n",
    "    g9=JS.discri_fun(img_col, x_test[i], W9, w9, w99)\n",
    "    \n",
    "    g=[g0[0][0],g1[0][0],g2[0][0],g3[0][0],g4[0][0],\n",
    "       g5[0][0],g6[0][0],g7[0][0],g8[0][0],g9[0][0]]\n",
    "    #print(g,y_test[i])  \n",
    "    ind=np.where(g==np.max(g))\n",
    "    y_pred.append(ind[0][0])"
   ]
  },
  {
   "cell_type": "code",
   "execution_count": 60,
   "metadata": {},
   "outputs": [
    {
     "name": "stdout",
     "output_type": "stream",
     "text": [
      "Got 4077 / 10000 correct\n",
      "Accuracy = 0.407700\n"
     ]
    }
   ],
   "source": [
    "num_test = len(y_test)\n",
    "num_correct = np.sum(y_pred == y_test)\n",
    "print('Got %d / %d correct' % (num_correct, num_test))\n",
    "print('Accuracy = %f' % (np.mean(y_test == y_pred)))"
   ]
  },
  {
   "cell_type": "code",
   "execution_count": 61,
   "metadata": {},
   "outputs": [
    {
     "name": "stdout",
     "output_type": "stream",
     "text": [
      "[[ 694   18    0   14    0    0  254    0    0    0]\n",
      " [   1 1128    2    0    1    0    3    0    0    0]\n",
      " [ 133  244  302   31    4    0  318    0    0    0]\n",
      " [ 293  359    2  201    4    0  145    1    0    5]\n",
      " [  96  284    5    6  392    0  194    0    0    5]\n",
      " [ 263  251    6  105    5    0  249    1    2   10]\n",
      " [   8   65    2    0    0    0  883    0    0    0]\n",
      " [   8  164    1   64  137    0   15  110    0  529]\n",
      " [  95  623    5   73   26    0  102    0   47    3]\n",
      " [  25  184    3   34  424    0    5   14    0  320]]\n",
      "              precision    recall  f1-score   support\n",
      "\n",
      "           0      0.429     0.708     0.535       980\n",
      "           1      0.340     0.994     0.506      1135\n",
      "           2      0.921     0.293     0.444      1032\n",
      "           3      0.381     0.199     0.261      1010\n",
      "           4      0.395     0.399     0.397       982\n",
      "           5      0.000     0.000     0.000       892\n",
      "           6      0.407     0.922     0.565       958\n",
      "           7      0.873     0.107     0.191      1028\n",
      "           8      0.959     0.048     0.092       974\n",
      "           9      0.367     0.317     0.340      1009\n",
      "\n",
      "   micro avg      0.408     0.408     0.408     10000\n",
      "   macro avg      0.507     0.399     0.333     10000\n",
      "weighted avg      0.512     0.408     0.338     10000\n",
      "\n"
     ]
    }
   ],
   "source": [
    "dict_characters = {0: '0', 1: '1', 2: '2', 3: '3', 4: '4',\n",
    "                   5: '5', 6: '6', 7: '7', 8: '8', 9: '9'}\n",
    "print(confusion_matrix(y_test, y_pred)) \n",
    "print(classification_report(y_test, y_pred,\n",
    "                            target_names=list(dict_characters.values()),digits=3))"
   ]
  },
  {
   "cell_type": "markdown",
   "metadata": {},
   "source": [
    "## KNN Part"
   ]
  },
  {
   "cell_type": "code",
   "execution_count": 27,
   "metadata": {},
   "outputs": [],
   "source": [
    "(x_train, y_train), (x_test, y_test) = tf.keras.datasets.mnist.load_data()\n",
    "# convert data type to float 32\n",
    "x_train=np.float32(x_train)\n",
    "x_test=np.float32(x_test)\n",
    "# Normalize the data\n",
    "X_train = x_train / 255.0\n",
    "X_test = x_test / 255.0"
   ]
  },
  {
   "cell_type": "code",
   "execution_count": 28,
   "metadata": {},
   "outputs": [],
   "source": [
    "# reconstruct dataset\n",
    "X_train = X_train.reshape(np.shape(X_train)[0], 28*28)\n",
    "X_test = X_test.reshape(np.shape(X_test)[0], 28*28)"
   ]
  },
  {
   "cell_type": "code",
   "execution_count": 29,
   "metadata": {},
   "outputs": [],
   "source": [
    "# build KNN class\n",
    "class SJKNN(object):\n",
    "    def __init__(self):\n",
    "        pass\n",
    "\n",
    "    def train(self, X, Y):\n",
    "    # the nearest neighbor classifier simply remembers all the training data\n",
    "        self.X_train = X\n",
    "        self.Y_train = Y\n",
    "                             \n",
    "    def compute_distances_no_loops(self, X_test):\n",
    "        num_test = np.shape(X_test)[0]\n",
    "        num_train = np.shape(self.X_train)[0]\n",
    "        dists = np.zeros((num_test, num_train)) \n",
    "        dists = np.sqrt(self.getNormMatrix(X_test, num_train).T + \n",
    "                        self.getNormMatrix(self.X_train, num_test) - \n",
    "                        2 * np.dot(X_test, self.X_train.T))\n",
    "        pass\n",
    "        return(dists)\n",
    "    \n",
    "    def getNormMatrix(self, x, lines_num):\n",
    "        return(np.ones((lines_num, 1)) * np.sum(np.square(x), axis = 1))\n",
    "\n",
    "    def predict_labels(self, dists, k):\n",
    "        num_test = np.shape(dists)[0]\n",
    "        Y_pred = np.zeros(num_test)\n",
    "        for i in range(num_test):\n",
    "            closest_y = []\n",
    "            kids = np.argsort(dists[i])\n",
    "            closest_y = self.Y_train[kids[:k]]\n",
    "            count = 0\n",
    "            label = 0\n",
    "            for j in closest_y:\n",
    "                tmp = 0\n",
    "                for kk in closest_y:\n",
    "                    tmp += (kk == j)\n",
    "                if tmp > count:\n",
    "                    count = tmp\n",
    "                    label = j\n",
    "            Y_pred[i] = label\n",
    "        return Y_pred \n",
    "           \n",
    "    def predict(self, X_test, k):\n",
    "        num_test = X_test.shape[0]\n",
    "        # lets make sure that the output type matches the input type\n",
    "        ypred = np.zeros(num_test, dtype = self.Y_train.dtype)\n",
    "        dists = self.compute_distances_no_loops(X_test)\n",
    "        return self.predict_labels(dists, k=k)"
   ]
  },
  {
   "cell_type": "code",
   "execution_count": 30,
   "metadata": {},
   "outputs": [
    {
     "name": "stdout",
     "output_type": "stream",
     "text": [
      "No loop version took 61.355703 seconds\n"
     ]
    }
   ],
   "source": [
    "def time_function(f, *args):\n",
    "    import time\n",
    "    tic = time.time()\n",
    "    f(*args)\n",
    "    toc = time.time()\n",
    "    return toc - tic\n",
    "classifier = SJKNN()\n",
    "classifier.train(X_train, y_train)\n",
    "\n",
    "no_loop_time = time_function(classifier.compute_distances_no_loops, X_test)\n",
    "print('No loop version took %f seconds' % no_loop_time)"
   ]
  },
  {
   "cell_type": "code",
   "execution_count": 31,
   "metadata": {},
   "outputs": [
    {
     "name": "stdout",
     "output_type": "stream",
     "text": [
      "Got 9691 / 10000 correct\n",
      "k = 1, Accuracy = 0.969100\n",
      "Got 9717 / 10000 correct\n",
      "k = 3, Accuracy = 0.971700\n",
      "Got 9693 / 10000 correct\n",
      "k = 5, Accuracy = 0.969300\n"
     ]
    }
   ],
   "source": [
    "# select best k\n",
    "K=[1, 3, 5]\n",
    "classifier = SJKNN()\n",
    "classifier.train(X_train, y_train)\n",
    "num_test = len(y_test)\n",
    "for i in K:\n",
    "    Y_test_pred=classifier.predict(X_test, k=i)\n",
    "    num_correct = np.sum(Y_test_pred == y_test)\n",
    "    print('Got %d / %d correct' % (num_correct, num_test))\n",
    "    print('k = %s, Accuracy = %f' % (i, np.mean(y_test == Y_test_pred)))"
   ]
  },
  {
   "cell_type": "code",
   "execution_count": 33,
   "metadata": {},
   "outputs": [
    {
     "name": "stdout",
     "output_type": "stream",
     "text": [
      "[[ 974    1    1    0    0    1    2    1    0    0]\n",
      " [   0 1133    2    0    0    0    0    0    0    0]\n",
      " [   9    7  997    2    0    0    1   14    2    0]\n",
      " [   0    1    4  975    1   13    1    7    4    4]\n",
      " [   0    5    0    0  948    0    5    4    1   19]\n",
      " [   4    1    0   12    2  860    5    1    3    4]\n",
      " [   4    3    0    0    4    3  944    0    0    0]\n",
      " [   0   18    4    0    2    0    0  994    0   10]\n",
      " [   7    0    3   13    5   11    3    4  923    5]\n",
      " [   3    4    2    7    9    4    1    8    2  969]]\n",
      "              precision    recall  f1-score   support\n",
      "\n",
      "           0      0.973     0.994     0.983       980\n",
      "           1      0.966     0.998     0.982      1135\n",
      "           2      0.984     0.966     0.975      1032\n",
      "           3      0.966     0.965     0.966      1010\n",
      "           4      0.976     0.965     0.971       982\n",
      "           5      0.964     0.964     0.964       892\n",
      "           6      0.981     0.985     0.983       958\n",
      "           7      0.962     0.967     0.965      1028\n",
      "           8      0.987     0.948     0.967       974\n",
      "           9      0.958     0.960     0.959      1009\n",
      "\n",
      "   micro avg      0.972     0.972     0.972     10000\n",
      "   macro avg      0.972     0.971     0.972     10000\n",
      "weighted avg      0.972     0.972     0.972     10000\n",
      "\n"
     ]
    }
   ],
   "source": [
    "# doing prediction\n",
    "dict_characters = {0: '0', 1: '1', 2: '2', 3: '3', 4: '4',\n",
    "                   5: '5', 6: '6', 7: '7', 8: '8', 9: '9'}\n",
    "Y_test_pred=classifier.predict(X_test, k=3)\n",
    "print(confusion_matrix(y_test, Y_test_pred))  \n",
    "print(classification_report(y_test, Y_test_pred,\n",
    "                            target_names=list(dict_characters.values()),digits=3))"
   ]
  }
 ],
 "metadata": {
  "kernelspec": {
   "display_name": "Python 3",
   "language": "python",
   "name": "python3"
  },
  "language_info": {
   "codemirror_mode": {
    "name": "ipython",
    "version": 3
   },
   "file_extension": ".py",
   "mimetype": "text/x-python",
   "name": "python",
   "nbconvert_exporter": "python",
   "pygments_lexer": "ipython3",
   "version": "3.6.8"
  }
 },
 "nbformat": 4,
 "nbformat_minor": 2
}
