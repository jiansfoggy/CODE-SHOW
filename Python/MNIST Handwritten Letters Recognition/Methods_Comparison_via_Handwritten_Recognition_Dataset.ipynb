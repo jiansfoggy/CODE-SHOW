{
 "cells": [
  {
   "cell_type": "markdown",
   "metadata": {
    "colab_type": "text",
    "id": "O3nLqNGdeIwv"
   },
   "source": [
    "# Content\n",
    "- Introduction\n",
    "- Model\n",
    "- Result\n",
    "  - Logistic Regression\n",
    "  - PCA + LR, Retain 90% Eigenvalue\n",
    "  - PCA + LR, Retain 95% Eigenvalue\n",
    "  - Random Forest\n",
    "  - PCA + RF, Retain 90% Eigenvalue\n",
    "  - PCA + RF, Retain 95% Eigenvalue\n",
    "- Discussion\n",
    "- Appendix"
   ]
  },
  {
   "cell_type": "markdown",
   "metadata": {
    "colab_type": "text",
    "id": "FcHcJ3HVeIww"
   },
   "source": [
    "# Introduction\n",
    "\n",
    "In this paper, 2 machine learning methods (Logistic Regression and Random Forest) are implemented to classify the 10 categories (0-9) from MNIST dataset. For each method, we are not only use it to predict, but also we will try to predict after dimension reduction.  \n",
    "\n",
    "Finally, the results will be detailed compared. We will compare within the method, at the same time, we will compare the result across methods."
   ]
  },
  {
   "cell_type": "markdown",
   "metadata": {
    "colab_type": "text",
    "id": "KvggQCQqeIwx"
   },
   "source": [
    "# Model\n",
    "\n",
    "There is very detailed analysis and comparison within each methods.  \n",
    "\n",
    "For Logistic Regression(LR), we firstly code a LR class from scratch and do prediction. Then, we plan to do dimension deduction before classification and see what happens on this condition. Therefore, we seperately retain 90% and 95% eigenvalues at PCA part, and generate new dataset with related eigenvectors.\n",
    "\n",
    "For Random Forest(RF), we repeat the similar process. But this time, we call scikit-learn package to train random forest model.\n",
    "\n",
    "Additionally, the MNIST dataset contains 60000 images in training dataset. This kind of volume of dataset is a big burden for training LR model and RF model. To save time and protect our laptop, we keep 25000 training images for LR model and 20000 training images for RF models.\n",
    "\n",
    "This try can improve time-consuming problem, but will reduce the overall accuracy. Hence, we trust that the full training dataset will bring us the best prediction."
   ]
  },
  {
   "cell_type": "markdown",
   "metadata": {
    "colab_type": "text",
    "id": "CBZC0MuVeIwx"
   },
   "source": [
    "# Result\n",
    "## Logistic Regression\n",
    "\n",
    "Here, we set learning rate as 0.00002, iteration time as 200001 and choose stochastic gradient descent to do iterataion.  \n",
    "For all categories, the cost is bigger than 300 for every iteration. Even if we have the high cost, we get good prediction result, the overall accuracy is 91.03%. The micro average accuracy is  0.910; the macro average is 0.909; the weighted average is 0.910."
   ]
  },
  {
   "cell_type": "code",
   "execution_count": 0,
   "metadata": {
    "colab": {},
    "colab_type": "code",
    "id": "Ctla8IpkeIwy",
    "outputId": "efca5967-2703-4200-dfb6-8d935aa6bb97"
   },
   "outputs": [
    {
     "name": "stdout",
     "output_type": "stream",
     "text": [
      "[[ 948    0    4    3    0   11    8    2    2    2]\n",
      " [   0 1109    3    2    1    1    4    1   13    1]\n",
      " [   7   12  909   28    9    4   10   12   38    3]\n",
      " [   4    3   20  913    4   20    3   13   22    8]\n",
      " [   1    1    5    6  910    0   10    4    9   36]\n",
      " [  13    4    7   36    8  765   11    6   36    6]\n",
      " [  10    3   13    0    4   22  902    1    3    0]\n",
      " [   4    8   20    4    7    4    1  932    6   42]\n",
      " [   9   11   10   23   14   28   15   15  836   13]\n",
      " [   8    9    1   18   37   14    0   30   13  879]]\n",
      "              precision    recall  f1-score   support\n",
      "\n",
      "           0      0.944     0.967     0.956       980\n",
      "           1      0.956     0.977     0.966      1135\n",
      "           2      0.916     0.881     0.898      1032\n",
      "           3      0.884     0.904     0.894      1010\n",
      "           4      0.915     0.927     0.921       982\n",
      "           5      0.880     0.858     0.869       892\n",
      "           6      0.936     0.942     0.939       958\n",
      "           7      0.917     0.907     0.912      1028\n",
      "           8      0.855     0.858     0.857       974\n",
      "           9      0.888     0.871     0.879      1009\n",
      "\n",
      "   micro avg      0.910     0.910     0.910     10000\n",
      "   macro avg      0.909     0.909     0.909     10000\n",
      "weighted avg      0.910     0.910     0.910     10000\n",
      "\n"
     ]
    },
    {
     "data": {
      "image/png": "[encoded data removed]",
      "text/plain": [
       "<Figure size 576x576 with 2 Axes>"
      ]
     },
     "metadata": {
      "needs_background": "light",
      "tags": []
     },
     "output_type": "display_data"
    }
   ],
   "source": [
    "from sklearn.metrics import classification_report, confusion_matrix \n",
    "print(confusion_matrix(y_test, y_pred)) \n",
    "print(classification_report(y_test, y_pred,\n",
    "                            target_names=list(label_dict.values()),digits=3))\n",
    "plt.figure(figsize=(8,8))\n",
    "cnf_matrix = confusion_matrix(y_test, y_pred)\n",
    "classes = list(label_dict.values())\n",
    "plt.imshow(cnf_matrix, interpolation='nearest')\n",
    "plt.colorbar()\n",
    "tick_marks = np.arange(len(classes))\n",
    "_ = plt.xticks(tick_marks, classes, rotation=90)\n",
    "_ = plt.yticks(tick_marks, classes)"
   ]
  },
  {
   "cell_type": "markdown",
   "metadata": {
    "colab_type": "text",
    "id": "7kWooiRueIw4"
   },
   "source": [
    "## PCA + Logistic Regression, Retain 90% Eigenvalues\n",
    "\n",
    "As we can see, we keep 86 eigenvectors, set learning rate as 0.00002, iteration time as 200001 and choose stochastic gradient descent to do iterataion.\n",
    "For all categories, the cost is bigger than 2000 for every iteration. The overall accuracy is 71.97%. The micro average accuracy is 0.720; the macro average is 0.713; the weighted average is 0.716."
   ]
  },
  {
   "cell_type": "code",
   "execution_count": 0,
   "metadata": {
    "colab": {
     "base_uri": "https://localhost:8080/",
     "height": 934
    },
    "colab_type": "code",
    "id": "IxLlFCxveIw5",
    "outputId": "465f7973-00c4-43da-f812-2385d648566a"
   },
   "outputs": [
    {
     "name": "stdout",
     "output_type": "stream",
     "text": [
      "[[ 819    0   14   37    4   28   51    2   22    3]\n",
      " [   1 1037   21   11   14    4    7    1   38    1]\n",
      " [  34   55  685   45   24   28   84    3   67    7]\n",
      " [  40   13   61  731   17   49   28   17   35   19]\n",
      " [   6   41   31   20  745   15   19   13   19   73]\n",
      " [  38   30   34  199   52  375   44    9   61   50]\n",
      " [  42   10   50    5   33    9  784    5   19    1]\n",
      " [   3   34   10   14   41    9    8  784   17  108]\n",
      " [  92   43   27   43   37   58   31   11  613   19]\n",
      " [  10    8    9   27   75   16    2  210   28  624]]\n",
      "              precision    recall  f1-score   support\n",
      "\n",
      "           0      0.755     0.836     0.793       980\n",
      "           1      0.816     0.914     0.862      1135\n",
      "           2      0.727     0.664     0.694      1032\n",
      "           3      0.646     0.724     0.683      1010\n",
      "           4      0.715     0.759     0.736       982\n",
      "           5      0.635     0.420     0.506       892\n",
      "           6      0.741     0.818     0.778       958\n",
      "           7      0.743     0.763     0.753      1028\n",
      "           8      0.667     0.629     0.648       974\n",
      "           9      0.690     0.618     0.652      1009\n",
      "\n",
      "   micro avg      0.720     0.720     0.720     10000\n",
      "   macro avg      0.713     0.714     0.710     10000\n",
      "weighted avg      0.716     0.720     0.714     10000\n",
      "\n"
     ]
    },
    {
     "data": {
      "image/png": "[encoded data removed]",
      "text/plain": [
       "<Figure size 576x576 with 2 Axes>"
      ]
     },
     "metadata": {
      "tags": []
     },
     "output_type": "display_data"
    }
   ],
   "source": [
    "print(confusion_matrix(y_test, y_pred)) \n",
    "print(classification_report(y_test, y_pred,\n",
    "                            target_names=list(label_dict.values()),digits=3))\n",
    "plt.figure(figsize=(8,8))\n",
    "cnf_matrix = confusion_matrix(y_test, y_pred)\n",
    "classes = list(label_dict.values())\n",
    "plt.imshow(cnf_matrix, interpolation='nearest')\n",
    "plt.colorbar()\n",
    "tick_marks = np.arange(len(classes))\n",
    "_ = plt.xticks(tick_marks, classes, rotation=90)\n",
    "_ = plt.yticks(tick_marks, classes)"
   ]
  },
  {
   "cell_type": "markdown",
   "metadata": {
    "colab_type": "text",
    "id": "w1pVJrVUeIw7"
   },
   "source": [
    "## PCA + Logistic Regression, Retain 95% Eigenvalues\n",
    "\n",
    "As we can see, we keep 153 eigenvectors, set learning rate as 0.00002, iteration time as 200001 and choose stochastic gradient descent to do iterataion.\n",
    "For all categories, the cost is bigger than 1000 for every iteration. The overall accuracy is 87.75%. The micro average accuracy is 0.877; the macro average is 0.876; the weighted average is 0.877."
   ]
  },
  {
   "cell_type": "code",
   "execution_count": 0,
   "metadata": {
    "colab": {},
    "colab_type": "code",
    "id": "-SkDVnnHeIw7",
    "outputId": "d1d6c0f4-4d19-4e56-fd65-4dc9a71df999"
   },
   "outputs": [
    {
     "name": "stdout",
     "output_type": "stream",
     "text": [
      "[[ 932    0    2    5    1   13   17    1    8    1]\n",
      " [   0 1098    5    2    0    3    4    3   20    0]\n",
      " [  11   15  877   22   18    9   15    9   53    3]\n",
      " [  13    2   36  854    1   45   11   10   24   14]\n",
      " [   3    4   16    1  888    4   14    8    9   35]\n",
      " [  19    6   11   59   22  674   23   12   53   13]\n",
      " [  20    3    6    2   13   22  879    3   10    0]\n",
      " [   2   14   23    7   13    4    0  915    6   44]\n",
      " [  15   11   17   27   16   32   14   14  818   10]\n",
      " [   8    7    1   14   52    9    4   58   16  840]]\n",
      "              precision    recall  f1-score   support\n",
      "\n",
      "           0      0.911     0.951     0.931       980\n",
      "           1      0.947     0.967     0.957      1135\n",
      "           2      0.882     0.850     0.866      1032\n",
      "           3      0.860     0.846     0.853      1010\n",
      "           4      0.867     0.904     0.885       982\n",
      "           5      0.827     0.756     0.790       892\n",
      "           6      0.896     0.918     0.907       958\n",
      "           7      0.886     0.890     0.888      1028\n",
      "           8      0.804     0.840     0.822       974\n",
      "           9      0.875     0.833     0.853      1009\n",
      "\n",
      "   micro avg      0.877     0.877     0.877     10000\n",
      "   macro avg      0.876     0.875     0.875     10000\n",
      "weighted avg      0.877     0.877     0.877     10000\n",
      "\n"
     ]
    },
    {
     "data": {
      "image/png": "[encoded data removed]",
      "text/plain": [
       "<Figure size 576x576 with 2 Axes>"
      ]
     },
     "metadata": {
      "needs_background": "light",
      "tags": []
     },
     "output_type": "display_data"
    }
   ],
   "source": [
    "print(confusion_matrix(y_test, y_pred)) \n",
    "print(classification_report(y_test, y_pred,\n",
    "                            target_names=list(label_dict.values()),digits=3))\n",
    "plt.figure(figsize=(8,8))\n",
    "cnf_matrix = confusion_matrix(y_test, y_pred)\n",
    "classes = list(label_dict.values())\n",
    "plt.imshow(cnf_matrix, interpolation='nearest')\n",
    "plt.colorbar()\n",
    "tick_marks = np.arange(len(classes))\n",
    "_ = plt.xticks(tick_marks, classes, rotation=90)\n",
    "_ = plt.yticks(tick_marks, classes)"
   ]
  },
  {
   "cell_type": "markdown",
   "metadata": {
    "colab_type": "text",
    "id": "I3T0IrB4eIw-"
   },
   "source": [
    "## Random Forest\n",
    "\n",
    "Here, to save time, we only build 200 trees, but get good prediction result.\n",
    "\n",
    "As we can see, the Mean Squared Error(MSE) is 0.7315. The overall accuracy is 96.08%. Then we try different max_depth (3,7,10,13,16,20) to predict and see if the model has potential to improve and we find that none of them have accuracy higher than 96.08% Thus, the current model is the best one. And the micro average accuracy is  0.961; the macro average is 0.961; the weighted average is 0.961."
   ]
  },
  {
   "cell_type": "code",
   "execution_count": 33,
   "metadata": {
    "colab": {
     "base_uri": "https://localhost:8080/",
     "height": 934
    },
    "colab_type": "code",
    "id": "LWuSo6SWeIw-",
    "outputId": "e79b898c-a217-4a0a-9a82-5aa37f6fe7b9"
   },
   "outputs": [
    {
     "name": "stdout",
     "output_type": "stream",
     "text": [
      "[[ 968    0    0    0    0    4    4    1    3    0]\n",
      " [   0 1122    3    3    0    2    2    1    2    0]\n",
      " [   6    0  987   10    3    0    7   11    7    1]\n",
      " [   1    0   11  968    0   10    0    9    7    4]\n",
      " [   1    0    2    0  944    0    8    0    3   24]\n",
      " [   5    1    0   22    3  843    8    2    6    2]\n",
      " [  11    3    0    0    7    4  931    0    2    0]\n",
      " [   1    6   24    1    3    0    0  979    4   10]\n",
      " [   5    1    6    6    5    6    9    5  917   14]\n",
      " [   5    6    3   14   15    4    2    3    8  949]]\n",
      "              precision    recall  f1-score   support\n",
      "\n",
      "           0      0.965     0.988     0.976       980\n",
      "           1      0.985     0.989     0.987      1135\n",
      "           2      0.953     0.956     0.955      1032\n",
      "           3      0.945     0.958     0.952      1010\n",
      "           4      0.963     0.961     0.962       982\n",
      "           5      0.966     0.945     0.955       892\n",
      "           6      0.959     0.972     0.965       958\n",
      "           7      0.968     0.952     0.960      1028\n",
      "           8      0.956     0.941     0.949       974\n",
      "           9      0.945     0.941     0.943      1009\n",
      "\n",
      "   micro avg      0.961     0.961     0.961     10000\n",
      "   macro avg      0.961     0.960     0.960     10000\n",
      "weighted avg      0.961     0.961     0.961     10000\n",
      "\n"
     ]
    },
    {
     "data": {
      "image/png": "[encoded data removed]",
      "text/plain": [
       "<Figure size 576x576 with 2 Axes>"
      ]
     },
     "metadata": {
      "tags": []
     },
     "output_type": "display_data"
    }
   ],
   "source": [
    "print(confusion_matrix(y_test, y_pred)) \n",
    "print(classification_report(y_test, y_pred,\n",
    "                            target_names=list(label_dict.values()),digits=3))\n",
    "plt.figure(figsize=(8,8))\n",
    "cnf_matrix = confusion_matrix(y_test, y_pred)\n",
    "classes = list(label_dict.values())\n",
    "plt.imshow(cnf_matrix, interpolation='nearest')\n",
    "plt.colorbar()\n",
    "tick_marks = np.arange(len(classes))\n",
    "_ = plt.xticks(tick_marks, classes, rotation=90)\n",
    "_ = plt.yticks(tick_marks, classes)"
   ]
  },
  {
   "cell_type": "markdown",
   "metadata": {
    "colab_type": "text",
    "id": "YL9nqmpeeIxA"
   },
   "source": [
    "## PCA + Random Forest, Retain 90% Eigenvalues\n",
    "\n",
    "As we can see, we keep 86 eigenvectors, and the Mean Squared Error(MSE) is 3.2954. The overall accuracy is 79.12%. Then we try different max_depth (3,7,10,13,16,20) to predict and see if the model has potential to improve and we find that the accuracies from all the max_depths are below 79.05%. Thus, the current model is the best one. And the micro average accuracy is  0.790; the macro average is 0.789; the weighted average is 0.791."
   ]
  },
  {
   "cell_type": "code",
   "execution_count": 0,
   "metadata": {
    "colab": {
     "base_uri": "https://localhost:8080/",
     "height": 934
    },
    "colab_type": "code",
    "id": "QoehvFFbeIxB",
    "outputId": "7af7787e-4107-46b6-9c67-e11d6a89da7c"
   },
   "outputs": [
    {
     "name": "stdout",
     "output_type": "stream",
     "text": [
      "[[ 848    0   16   13    2   12   56    0   33    0]\n",
      " [   0 1089   13    2    4    0   10    1   16    0]\n",
      " [  34    9  817   24    5    6   67    4   66    0]\n",
      " [  27    1   36  778   13   57   27   12   49   10]\n",
      " [   0   20   19    3  819    1   16   18    5   81]\n",
      " [  33    5   33  241   18  439   30    6   78    9]\n",
      " [  20    4   37    0   15   11  846    0   25    0]\n",
      " [   0   26    4    2   54    0    5  818   10  109]\n",
      " [  62   14   16   38    7   24   21    9  777    6]\n",
      " [   4    6   10   17  113    9    0  170    6  674]]\n",
      "              precision    recall  f1-score   support\n",
      "\n",
      "           0      0.825     0.865     0.845       980\n",
      "           1      0.928     0.959     0.943      1135\n",
      "           2      0.816     0.792     0.804      1032\n",
      "           3      0.696     0.770     0.731      1010\n",
      "           4      0.780     0.834     0.806       982\n",
      "           5      0.785     0.492     0.605       892\n",
      "           6      0.785     0.883     0.831       958\n",
      "           7      0.788     0.796     0.792      1028\n",
      "           8      0.730     0.798     0.762       974\n",
      "           9      0.758     0.668     0.710      1009\n",
      "\n",
      "   micro avg      0.790     0.790     0.790     10000\n",
      "   macro avg      0.789     0.786     0.783     10000\n",
      "weighted avg      0.791     0.790     0.787     10000\n",
      "\n"
     ]
    },
    {
     "data": {
      "image/png": "[encoded data removed]",
      "text/plain": [
       "<Figure size 576x576 with 2 Axes>"
      ]
     },
     "metadata": {
      "tags": []
     },
     "output_type": "display_data"
    }
   ],
   "source": [
    "print(confusion_matrix(y_test, y_pred)) \n",
    "print(classification_report(y_test, y_pred,\n",
    "                            target_names=list(label_dict.values()),digits=3))\n",
    "plt.figure(figsize=(8,8))\n",
    "cnf_matrix = confusion_matrix(y_test, y_pred)\n",
    "classes = list(label_dict.values())\n",
    "plt.imshow(cnf_matrix, interpolation='nearest')\n",
    "plt.colorbar()\n",
    "tick_marks = np.arange(len(classes))\n",
    "_ = plt.xticks(tick_marks, classes, rotation=90)\n",
    "_ = plt.yticks(tick_marks, classes)"
   ]
  },
  {
   "cell_type": "markdown",
   "metadata": {
    "colab_type": "text",
    "id": "3z1gYcNueIxD"
   },
   "source": [
    "## PCA + Random Forest, Retain 95% Eigenvalues\n",
    "\n",
    "As we can see, we keep 153 eigenvectors, and the Mean Squared Error(MSE) is 1.7849. The overall accuracy is 89.28%. Then we try different max_depth (3,7,10,13,16,20) to predict and see if the model has potential to improve and we find that the accuracy from all different max_depth is less than 89.28%. Thus, the current model is the best one. And the micro average accuracy is 0.893; the macro average is 0.892; the weighted average is  0.893."
   ]
  },
  {
   "cell_type": "code",
   "execution_count": 17,
   "metadata": {
    "colab": {
     "base_uri": "https://localhost:8080/",
     "height": 934
    },
    "colab_type": "code",
    "id": "bDh5vyKgeIxD",
    "outputId": "00c718cf-126b-4b1b-9d62-133ad5460fb2"
   },
   "outputs": [
    {
     "name": "stdout",
     "output_type": "stream",
     "text": [
      "[[ 910    0    8    3    0    3   45    1   10    0]\n",
      " [   0 1112    6    4    1    0    5    1    6    0]\n",
      " [  12    3  922   23    5    0   29    7   31    0]\n",
      " [  12    0   27  866    3   48   20   13   15    6]\n",
      " [   0    3   11    0  890    0   10    9    7   52]\n",
      " [  27    3    8   66   15  691   23    9   38   12]\n",
      " [  19    1   14    1   14    5  883    0   21    0]\n",
      " [   0   15   10    1   29    0    2  921    7   43]\n",
      " [  17    2   17   22    2   23   16    8  861    6]\n",
      " [   6    8    2   19   68    4    1   26    3  872]]\n",
      "              precision    recall  f1-score   support\n",
      "\n",
      "           0      0.907     0.929     0.918       980\n",
      "           1      0.969     0.980     0.975      1135\n",
      "           2      0.900     0.893     0.896      1032\n",
      "           3      0.862     0.857     0.860      1010\n",
      "           4      0.867     0.906     0.886       982\n",
      "           5      0.893     0.775     0.830       892\n",
      "           6      0.854     0.922     0.887       958\n",
      "           7      0.926     0.896     0.911      1028\n",
      "           8      0.862     0.884     0.873       974\n",
      "           9      0.880     0.864     0.872      1009\n",
      "\n",
      "   micro avg      0.893     0.893     0.893     10000\n",
      "   macro avg      0.892     0.891     0.891     10000\n",
      "weighted avg      0.893     0.893     0.892     10000\n",
      "\n"
     ]
    },
    {
     "data": {
      "image/png": "[encoded data removed]",
      "text/plain": [
       "<Figure size 576x576 with 2 Axes>"
      ]
     },
     "metadata": {
      "tags": []
     },
     "output_type": "display_data"
    }
   ],
   "source": [
    "print(confusion_matrix(y_test, y_pred)) \n",
    "print(classification_report(y_test, y_pred,\n",
    "                            target_names=list(label_dict.values()),digits=3))\n",
    "plt.figure(figsize=(8,8))\n",
    "cnf_matrix = confusion_matrix(y_test, y_pred)\n",
    "classes = list(label_dict.values())\n",
    "plt.imshow(cnf_matrix, interpolation='nearest')\n",
    "plt.colorbar()\n",
    "tick_marks = np.arange(len(classes))\n",
    "_ = plt.xticks(tick_marks, classes, rotation=90)\n",
    "_ = plt.yticks(tick_marks, classes)"
   ]
  },
  {
   "cell_type": "markdown",
   "metadata": {
    "colab_type": "text",
    "id": "kXJD8EdOeIxG"
   },
   "source": [
    "# Discussion\n",
    "\n",
    "Compared with LR, RF performs apparently better. The following is accuracy table.\n",
    "\n",
    "Accuracy Table      | Basic Model | Retain 90% | Retain 95%\n",
    "------------------------------|----------------------|-------------------|--------------------\n",
    "Logistic Regression | 91.03% | 71.97% | 87.75%\n",
    "Random Forst           | 96.08% | 79.12% | 89.28%\n",
    "\n",
    "Meanwhile, RF takes less time than LR in training on our condition, which means that our scratched class has huge potential to improve the processing time as fast as matured package.\n",
    "\n",
    "Additionally, given that we use the partial dataset, it is reasonable to believe both models will bring about better prediction result if we train full dataset.\n",
    "\n",
    "Generally speaking, if the scale of dataset is proper and there are many factor variables, we will be inclined to random forest model."
   ]
  },
  {
   "cell_type": "markdown",
   "metadata": {
    "colab_type": "text",
    "id": "NzGk8vhieIxW"
   },
   "source": [
    "# Appendix"
   ]
  },
  {
   "cell_type": "code",
   "execution_count": 0,
   "metadata": {
    "colab": {},
    "colab_type": "code",
    "id": "Lsp1cShprjtc"
   },
   "outputs": [],
   "source": [
    "# import dataset and seperate them as train set and test set\n",
    "# index x represents image, index y represents label\n",
    "import os\n",
    "import random\n",
    "import sklearn\n",
    "import numpy as np\n",
    "import sklearn.metrics\n",
    "import tensorflow as tf\n",
    "from numpy.linalg import *\n",
    "import matplotlib.pyplot as plt\n",
    "from sklearn.preprocessing import StandardScaler\n",
    "from sklearn.ensemble import RandomForestClassifier\n",
    "from sklearn.metrics import classification_report, confusion_matrix "
   ]
  },
  {
   "cell_type": "code",
   "execution_count": 3,
   "metadata": {
    "colab": {
     "base_uri": "https://localhost:8080/",
     "height": 51
    },
    "colab_type": "code",
    "id": "-oiCEOp9rtgG",
    "outputId": "a214e58c-f34e-40bc-de5f-1e24bd21e754"
   },
   "outputs": [
    {
     "name": "stdout",
     "output_type": "stream",
     "text": [
      "Downloading data from https://storage.googleapis.com/tensorflow/tf-keras-datasets/mnist.npz\n",
      "11493376/11490434 [==============================] - 0s 0us/step\n"
     ]
    }
   ],
   "source": [
    "# download MNIST dataset from keras\n",
    "(x_train, y_train), (x_test, y_test) = tf.keras.datasets.mnist.load_data()\n",
    "# convert data type to float 32\n",
    "x_train=x_train[0:25000,]\n",
    "y_train=y_train[0:25000,]\n",
    "x_train=np.float32(x_train)\n",
    "x_test=np.float32(x_test)\n",
    "x_train = x_train.reshape(np.shape(x_train)[0], 28*28)/255.0\n",
    "x_test = x_test.reshape(np.shape(x_test)[0], 28*28)/255.0"
   ]
  },
  {
   "cell_type": "code",
   "execution_count": 0,
   "metadata": {
    "colab": {},
    "colab_type": "code",
    "id": "BIaeqcX2ssHk"
   },
   "outputs": [],
   "source": [
    "# make sure the 10 classes\n",
    "label_dict = {0: '0', 1: '1', 2: '2', 3: '3', 4: '4',\n",
    "              5: '5', 6: '6', 7: '7', 8: '8', 9: '9'}"
   ]
  },
  {
   "cell_type": "markdown",
   "metadata": {
    "colab_type": "text",
    "id": "oIqz73nxsCTJ"
   },
   "source": [
    "## Logistic Regression Class"
   ]
  },
  {
   "cell_type": "code",
   "execution_count": 0,
   "metadata": {
    "colab": {},
    "colab_type": "code",
    "id": "AV9D66Mhz-Kk"
   },
   "outputs": [],
   "source": [
    "# build a LR class\n",
    "class SJLogis_Regre(object):\n",
    "    def __init__(self):\n",
    "        pass\n",
    "\n",
    "    def train(self, X, Y):\n",
    "        self.x_train = X\n",
    "        self.y_train = Y\n",
    "        \n",
    "    def split_category1(self, category_name):\n",
    "        yy_train=[]\n",
    "        for i in range(len(y_train)):\n",
    "            if (self.y_train[i]==category_name):\n",
    "                yy_train.append(1)\n",
    "            else: yy_train.append(0)\n",
    "        return yy_train \n",
    "    \n",
    "    def sigmoid(self, a):\n",
    "        return 1 / (1 + np.exp(-a))\n",
    "      \n",
    "    def log_likelihood1(self, ytrain_c, weight):\n",
    "        \n",
    "        # add intercept\n",
    "        intercept = np.ones((np.shape(self.x_train)[0], 1))\n",
    "        xtrain_c = np.hstack((intercept, self.x_train))\n",
    "        \n",
    "        weight = np.reshape(weight,(np.shape(xtrain_c)[1], 1))\n",
    "        a = np.dot(xtrain_c, weight)\n",
    "        \n",
    "        ll = np.sum( np.multiply(ytrain_c,a.T) - np.log(1+np.exp(a.T)) ) \n",
    "        return ll\n",
    "    \n",
    "    def gradient_descent1(self, ytrain_c, learning_rate, iteration_time):\n",
    "        \n",
    "        # add intercept\n",
    "        intercept = np.ones((np.shape(self.x_train)[0], 1))\n",
    "        xtrain_c = np.hstack((intercept, self.x_train))\n",
    "        \n",
    "        # initial weight\n",
    "        weight = np.zeros((1,np.shape(xtrain_c)[1]))\n",
    "        ytrain_c = np.reshape(ytrain_c,(1, np.shape(ytrain_c)[0]))\n",
    "        \n",
    "        # do iteration\n",
    "        for i in range(iteration_time):\n",
    "            a = np.dot(weight, xtrain_c.T)\n",
    "            pred = self.sigmoid(a)\n",
    "\n",
    "            diff = ytrain_c - pred\n",
    "            \n",
    "            gradient = np.dot(diff, xtrain_c)\n",
    "            weight = weight + learning_rate * gradient\n",
    "            \n",
    "            # Print the cost\n",
    "            if (i % 10000 == 0):\n",
    "                cost = -self.log_likelihood1(ytrain_c, weight)\n",
    "\n",
    "                print (\"the cost in %d step is\" %(i),cost)\n",
    "        \n",
    "        return weight\n",
    "      \n",
    "    def get_pcx(self, xtest_c, weight_c):\n",
    "        \n",
    "        add_intercept = np.hstack((1, xtest_c))\n",
    "        \n",
    "        p_c = np.dot(weight_c,add_intercept)\n",
    "        result_c = self.sigmoid(p_c)\n",
    "        return result_c\n",
    "      \n",
    "    def predict_c(self, total_result):\n",
    "        value = np.where(total_result == np.max(total_result))\n",
    "        return value[0][0]"
   ]
  },
  {
   "cell_type": "code",
   "execution_count": 0,
   "metadata": {
    "colab": {},
    "colab_type": "code",
    "id": "nMFPMxFv_x5z"
   },
   "outputs": [],
   "source": [
    "# split the train as 10 categories\n",
    "JS = SJLogis_Regre()\n",
    "JS.train(x_train,y_train)\n",
    "y0_train = JS.split_category1(0)\n",
    "y1_train = JS.split_category1(1)\n",
    "y2_train = JS.split_category1(2)\n",
    "y3_train = JS.split_category1(3)\n",
    "y4_train = JS.split_category1(4)\n",
    "y5_train = JS.split_category1(5)\n",
    "y6_train = JS.split_category1(6)\n",
    "y7_train = JS.split_category1(7)\n",
    "y8_train = JS.split_category1(8)\n",
    "y9_train = JS.split_category1(9)"
   ]
  },
  {
   "cell_type": "code",
   "execution_count": 0,
   "metadata": {
    "colab": {},
    "colab_type": "code",
    "id": "ptJh7F8BARPD",
    "outputId": "632b6972-4970-4cb3-e35e-93e3bcd51688",
    "scrolled": true
   },
   "outputs": [
    {
     "name": "stdout",
     "output_type": "stream",
     "text": [
      "the cost in 0 step is 44580.57417373677\n",
      "the cost in 10000 step is 412.8080815512875\n",
      "the cost in 20000 step is 370.7995168731614\n",
      "the cost in 30000 step is 349.03500935521964\n",
      "the cost in 40000 step is 334.941829873847\n",
      "the cost in 50000 step is 324.77269404959617\n",
      "the cost in 60000 step is 316.92963141079167\n",
      "the cost in 70000 step is 310.5973263235666\n",
      "the cost in 80000 step is 305.3111083395682\n",
      "the cost in 90000 step is 300.78525776611934\n",
      "the cost in 100000 step is 296.83421246816937\n",
      "the cost in 110000 step is 293.3324977335265\n",
      "the cost in 120000 step is 290.1926229696758\n",
      "the cost in 130000 step is 287.3519579956931\n",
      "the cost in 140000 step is 284.7643650903752\n",
      "the cost in 150000 step is 282.3945779769092\n",
      "the cost in 160000 step is 280.2144309343582\n",
      "the cost in 170000 step is 278.20049895215016\n",
      "the cost in 180000 step is 276.3327746489955\n",
      "the cost in 190000 step is 274.5939815786974\n",
      "the cost in 200000 step is 272.96918935784726\n",
      "the cost in 0 step is 33080.59816744591\n",
      "the cost in 10000 step is 550.7954826482951\n",
      "the cost in 20000 step is 502.39294304266343\n",
      "the cost in 30000 step is 474.8371769083394\n",
      "the cost in 40000 step is 456.08750304100215\n",
      "the cost in 50000 step is 442.14216534290154\n",
      "the cost in 60000 step is 431.13918950006047\n",
      "the cost in 70000 step is 422.0898601260789\n",
      "the cost in 80000 step is 414.4224372127335\n",
      "the cost in 90000 step is 407.78254310020645\n",
      "the cost in 100000 step is 401.9377208418714\n",
      "the cost in 110000 step is 396.72813455169273\n",
      "the cost in 120000 step is 392.0391075465796\n",
      "the cost in 130000 step is 387.78481705223066\n",
      "the cost in 140000 step is 383.89844474536545\n",
      "the cost in 150000 step is 380.32642993846326\n",
      "the cost in 160000 step is 377.0251490963904\n",
      "the cost in 170000 step is 373.9588013151387\n",
      "the cost in 180000 step is 371.0978543060005\n",
      "the cost in 190000 step is 368.41781150373436\n",
      "the cost in 200000 step is 365.89822178999714\n",
      "the cost in 0 step is 44875.62057028671\n",
      "the cost in 10000 step is 1527.1935188878765\n",
      "the cost in 20000 step is 1489.7624360660413\n",
      "the cost in 30000 step is 1473.5812882240882\n",
      "the cost in 40000 step is 1464.28255546705\n",
      "the cost in 50000 step is 1458.0791150329392\n",
      "the cost in 60000 step is 1453.5394920102412\n",
      "the cost in 70000 step is 1450.004000446804\n",
      "the cost in 80000 step is 1447.1263735208063\n",
      "the cost in 90000 step is 1444.7070456540266\n",
      "the cost in 100000 step is 1442.6225515197996\n",
      "the cost in 110000 step is 1440.792128266716\n",
      "the cost in 120000 step is 1439.1605139974408\n",
      "the cost in 130000 step is 1437.6884669135852\n",
      "the cost in 140000 step is 1436.3472416472746\n",
      "the cost in 150000 step is 1435.115218222465\n",
      "the cost in 160000 step is 1433.975762001227\n",
      "the cost in 170000 step is 1432.9158182764052\n",
      "the cost in 180000 step is 1431.9249618118909\n",
      "the cost in 190000 step is 1430.994737384277\n",
      "the cost in 200000 step is 1430.1181918494487\n",
      "the cost in 0 step is 46327.867893498995\n",
      "the cost in 10000 step is 1816.2657462181696\n",
      "the cost in 20000 step is 1787.1868871628421\n",
      "the cost in 30000 step is 1772.430541748359\n",
      "the cost in 40000 step is 1762.813429003373\n",
      "the cost in 50000 step is 1755.8587026929795\n",
      "the cost in 60000 step is 1750.5340295258807\n",
      "the cost in 70000 step is 1746.3028148101757\n",
      "the cost in 80000 step is 1742.846746232482\n",
      "the cost in 90000 step is 1739.9610531599155\n",
      "the cost in 100000 step is 1737.507101823621\n",
      "the cost in 110000 step is 1735.3877013943652\n",
      "the cost in 120000 step is 1733.5328767750968\n",
      "the cost in 130000 step is 1731.891113113401\n",
      "the cost in 140000 step is 1730.4237316630456\n",
      "the cost in 150000 step is 1729.1011669498246\n",
      "the cost in 160000 step is 1727.9004444478055\n",
      "the cost in 170000 step is 1726.8034377948327\n",
      "the cost in 180000 step is 1725.7956434501432\n",
      "the cost in 190000 step is 1724.8653052741406\n",
      "the cost in 200000 step is 1724.0027796964225\n",
      "the cost in 0 step is 40505.38480764192\n",
      "the cost in 10000 step is 1058.9724320329392\n",
      "the cost in 20000 step is 1008.2451543645313\n",
      "the cost in 30000 step is 982.2594200311594\n",
      "the cost in 40000 step is 965.1306038814467\n",
      "the cost in 50000 step is 952.5801959991448\n",
      "the cost in 60000 step is 942.8508114006631\n",
      "the cost in 70000 step is 935.0358179852907\n",
      "the cost in 80000 step is 928.5965332335497\n",
      "the cost in 90000 step is 923.1839465907186\n",
      "the cost in 100000 step is 918.5596481128854\n",
      "the cost in 110000 step is 914.5547658067544\n",
      "the cost in 120000 step is 911.046219268383\n",
      "the cost in 130000 step is 907.9421077669203\n",
      "the cost in 140000 step is 905.1723554856202\n",
      "the cost in 150000 step is 902.6825363239252\n",
      "the cost in 160000 step is 900.4296887680754\n",
      "the cost in 170000 step is 898.379411905431\n",
      "the cost in 180000 step is 896.503807090837\n",
      "the cost in 190000 step is 894.77999067092\n",
      "the cost in 200000 step is 893.1890004609638\n",
      "the cost in 0 step is 39654.51584231053\n",
      "the cost in 10000 step is 1739.7685373162744\n",
      "the cost in 20000 step is 1687.2992591581701\n",
      "the cost in 30000 step is 1662.5430717394986\n",
      "the cost in 40000 step is 1647.091160348093\n",
      "the cost in 50000 step is 1636.080763112063\n",
      "the cost in 60000 step is 1627.651831524264\n",
      "the cost in 70000 step is 1620.9133229460733\n",
      "the cost in 80000 step is 1615.3647105055325\n",
      "the cost in 90000 step is 1610.6916363130424\n",
      "the cost in 100000 step is 1606.6815212279575\n",
      "the cost in 110000 step is 1603.1837788583264\n",
      "the cost in 120000 step is 1600.0887140703244\n",
      "the cost in 130000 step is 1597.3150424818698\n",
      "the cost in 140000 step is 1594.8017887330095\n",
      "the cost in 150000 step is 1592.50270063014\n",
      "the cost in 160000 step is 1590.3822915300527\n",
      "the cost in 170000 step is 1588.4130121438147\n",
      "the cost in 180000 step is 1586.5732242336433\n",
      "the cost in 190000 step is 1584.8457454577533\n",
      "the cost in 200000 step is 1583.2168010445241\n",
      "the cost in 0 step is 43057.13023319075\n",
      "the cost in 10000 step is 743.2105174581436\n",
      "the cost in 20000 step is 705.3247057774153\n",
      "the cost in 30000 step is 685.578184657003\n",
      "the cost in 40000 step is 672.8821467495865\n",
      "the cost in 50000 step is 663.8870778549996\n",
      "the cost in 60000 step is 657.1372684968447\n",
      "the cost in 70000 step is 651.8691983571443\n",
      "the cost in 80000 step is 647.6346427959295\n",
      "the cost in 90000 step is 644.1505519906297\n",
      "the cost in 100000 step is 641.2287442404942\n",
      "the cost in 110000 step is 638.7391307975424\n",
      "the cost in 120000 step is 636.5889362581952\n",
      "the cost in 130000 step is 634.7102634837019\n",
      "the cost in 140000 step is 633.0523115558625\n",
      "the cost in 150000 step is 631.576329325664\n",
      "the cost in 160000 step is 630.2522470128223\n",
      "the cost in 170000 step is 629.0563724529777\n",
      "the cost in 180000 step is 627.9697814851294\n",
      "the cost in 190000 step is 626.9771714816476\n",
      "the cost in 200000 step is 626.0660302950516\n",
      "the cost in 0 step is 40041.1028637697\n",
      "the cost in 10000 step is 870.0987054949602\n",
      "the cost in 20000 step is 820.1844442206137\n",
      "the cost in 30000 step is 795.1644045015648\n",
      "the cost in 40000 step is 779.3791886041912\n",
      "the cost in 50000 step is 768.1676140523836\n",
      "the cost in 60000 step is 759.5843307805343\n",
      "the cost in 70000 step is 752.6713649924151\n",
      "the cost in 80000 step is 746.9021552362489\n",
      "the cost in 90000 step is 741.9618415260306\n",
      "the cost in 100000 step is 737.6489303608413\n",
      "the cost in 110000 step is 733.8271476526054\n",
      "the cost in 120000 step is 730.4000943487407\n",
      "the cost in 130000 step is 727.2970533157587\n",
      "the cost in 140000 step is 724.4645980314056\n",
      "the cost in 150000 step is 721.8613887901209\n",
      "the cost in 160000 step is 719.4548076207383\n",
      "the cost in 170000 step is 717.2187011168194\n",
      "the cost in 180000 step is 715.1318169230318\n",
      "the cost in 190000 step is 713.1766889817376\n",
      "the cost in 200000 step is 711.3388210894836\n",
      "the cost in 0 step is 48774.711780999794\n",
      "the cost in 10000 step is 2594.1305563907304\n",
      "the cost in 20000 step is 2566.009362965211\n",
      "the cost in 30000 step is 2552.9363472600594\n",
      "the cost in 40000 step is 2544.794264635882\n",
      "the cost in 50000 step is 2538.9873528679345\n",
      "the cost in 60000 step is 2534.5351050054383\n",
      "the cost in 70000 step is 2530.9680014922924\n",
      "the cost in 80000 step is 2528.0231322470154\n",
      "the cost in 90000 step is 2525.537651287596\n",
      "the cost in 100000 step is 2523.403751443929\n",
      "the cost in 110000 step is 2521.546623361933\n",
      "the cost in 120000 step is 2519.9124399113703\n",
      "the cost in 130000 step is 2518.4612952410835\n",
      "the cost in 140000 step is 2517.1628333398785\n",
      "the cost in 150000 step is 2515.993437308706\n"
     ]
    },
    {
     "name": "stdout",
     "output_type": "stream",
     "text": [
      "the cost in 160000 step is 2514.934367728348\n",
      "the cost in 170000 step is 2513.9704981096406\n",
      "the cost in 180000 step is 2513.0894359943563\n",
      "the cost in 190000 step is 2512.280898729597\n",
      "the cost in 200000 step is 2511.536260830699\n",
      "the cost in 0 step is 44391.80966426329\n",
      "the cost in 10000 step is 2247.5034380243783\n",
      "the cost in 20000 step is 2212.715214264926\n",
      "the cost in 30000 step is 2195.4240583827955\n",
      "the cost in 40000 step is 2184.1982696731015\n",
      "the cost in 50000 step is 2176.0377929010806\n",
      "the cost in 60000 step is 2169.733048193807\n",
      "the cost in 70000 step is 2164.6769022977046\n",
      "the cost in 80000 step is 2160.5177222489415\n",
      "the cost in 90000 step is 2157.030070925836\n",
      "the cost in 100000 step is 2154.059335548022\n",
      "the cost in 110000 step is 2151.4948776040324\n",
      "the cost in 120000 step is 2149.255236758325\n",
      "the cost in 130000 step is 2147.2791309216004\n",
      "the cost in 140000 step is 2145.519634292278\n",
      "the cost in 150000 step is 2143.940262389375\n",
      "the cost in 160000 step is 2142.512265093066\n",
      "the cost in 170000 step is 2141.2127127018366\n",
      "the cost in 180000 step is 2140.0231169173326\n",
      "the cost in 190000 step is 2138.928420883862\n",
      "the cost in 200000 step is 2137.9162488085763\n",
      "Iteration took 74444.132998 seconds\n"
     ]
    }
   ],
   "source": [
    "import time\n",
    "# calculate weight seperately\n",
    "learning_rate = 0.00002\n",
    "iteration_time = 200001\n",
    "tic = time.time()\n",
    "w0 = JS.gradient_descent1(y0_train, learning_rate, iteration_time)\n",
    "w1 = JS.gradient_descent1(y1_train, learning_rate, iteration_time)\n",
    "w2 = JS.gradient_descent1(y2_train, learning_rate, iteration_time)\n",
    "w3 = JS.gradient_descent1(y3_train, learning_rate, iteration_time)\n",
    "w4 = JS.gradient_descent1(y4_train, learning_rate, iteration_time)\n",
    "w5 = JS.gradient_descent1(y5_train, learning_rate, iteration_time)\n",
    "w6 = JS.gradient_descent1(y6_train, learning_rate, iteration_time)\n",
    "w7 = JS.gradient_descent1(y7_train, learning_rate, iteration_time)\n",
    "w8 = JS.gradient_descent1(y8_train, learning_rate, iteration_time)\n",
    "w9 = JS.gradient_descent1(y9_train, learning_rate, iteration_time)\n",
    "toc = time.time()\n",
    "print('Iteration took %f seconds' %(toc - tic))"
   ]
  },
  {
   "cell_type": "code",
   "execution_count": 0,
   "metadata": {
    "colab": {},
    "colab_type": "code",
    "id": "hhaXJwxRsm9_"
   },
   "outputs": [],
   "source": [
    "# calculate probability for each category\n",
    "y_pred = []\n",
    "for i in range(np.shape(x_test)[0]):\n",
    "\n",
    "    pred_0 = JS.get_pcx(x_test[i], w0)\n",
    "    pred_1 = JS.get_pcx(x_test[i], w1)\n",
    "    pred_2 = JS.get_pcx(x_test[i], w2)\n",
    "    pred_3 = JS.get_pcx(x_test[i], w3)\n",
    "    pred_4 = JS.get_pcx(x_test[i], w4)\n",
    "    pred_5 = JS.get_pcx(x_test[i], w5)\n",
    "    pred_6 = JS.get_pcx(x_test[i], w6)\n",
    "    pred_7 = JS.get_pcx(x_test[i], w7)\n",
    "    pred_8 = JS.get_pcx(x_test[i], w8)\n",
    "    pred_9 = JS.get_pcx(x_test[i], w9)\n",
    "    pred = [pred_0[0],pred_1[0],pred_2[0],pred_3[0],pred_4[0],\n",
    "            pred_5[0],pred_6[0],pred_7[0],pred_8[0],pred_9[0]]\n",
    "    value = JS.predict_c(pred)\n",
    "    y_pred.append(value)"
   ]
  },
  {
   "cell_type": "code",
   "execution_count": 0,
   "metadata": {
    "colab": {},
    "colab_type": "code",
    "id": "IG7DfAybsnAa",
    "outputId": "7746a08e-1a46-4b7a-8f42-fb72bcc8f5a0"
   },
   "outputs": [
    {
     "name": "stdout",
     "output_type": "stream",
     "text": [
      "Got 9103 / 10000 correct\n",
      "Accuracy = 0.910300\n"
     ]
    }
   ],
   "source": [
    "# calculate accuracy\n",
    "num_test = len(y_test)\n",
    "num_correct = np.sum(y_pred == y_test)\n",
    "print('Got %d / %d correct' % (num_correct, num_test))\n",
    "print('Accuracy = %f' % (np.mean(y_test == y_pred)))"
   ]
  },
  {
   "cell_type": "code",
   "execution_count": 0,
   "metadata": {
    "colab": {},
    "colab_type": "code",
    "id": "6Jtb5uGhsnC0",
    "outputId": "8be8318f-48fa-4fc8-b446-f69fe2eb360f"
   },
   "outputs": [
    {
     "name": "stdout",
     "output_type": "stream",
     "text": [
      "[[ 948    0    4    3    0   11    8    2    2    2]\n",
      " [   0 1109    3    2    1    1    4    1   13    1]\n",
      " [   7   12  909   28    9    4   10   12   38    3]\n",
      " [   4    3   20  913    4   20    3   13   22    8]\n",
      " [   1    1    5    6  910    0   10    4    9   36]\n",
      " [  13    4    7   36    8  765   11    6   36    6]\n",
      " [  10    3   13    0    4   22  902    1    3    0]\n",
      " [   4    8   20    4    7    4    1  932    6   42]\n",
      " [   9   11   10   23   14   28   15   15  836   13]\n",
      " [   8    9    1   18   37   14    0   30   13  879]]\n",
      "              precision    recall  f1-score   support\n",
      "\n",
      "           0      0.944     0.967     0.956       980\n",
      "           1      0.956     0.977     0.966      1135\n",
      "           2      0.916     0.881     0.898      1032\n",
      "           3      0.884     0.904     0.894      1010\n",
      "           4      0.915     0.927     0.921       982\n",
      "           5      0.880     0.858     0.869       892\n",
      "           6      0.936     0.942     0.939       958\n",
      "           7      0.917     0.907     0.912      1028\n",
      "           8      0.855     0.858     0.857       974\n",
      "           9      0.888     0.871     0.879      1009\n",
      "\n",
      "   micro avg      0.910     0.910     0.910     10000\n",
      "   macro avg      0.909     0.909     0.909     10000\n",
      "weighted avg      0.910     0.910     0.910     10000\n",
      "\n"
     ]
    }
   ],
   "source": [
    "from sklearn.metrics import classification_report, confusion_matrix \n",
    "print(confusion_matrix(y_test, y_pred)) \n",
    "print(classification_report(y_test, y_pred,\n",
    "                            target_names=list(label_dict.values()),digits=3))"
   ]
  },
  {
   "cell_type": "code",
   "execution_count": 0,
   "metadata": {
    "colab": {},
    "colab_type": "code",
    "id": "MVvxu_PlsnFT"
   },
   "outputs": [],
   "source": [
    "# PCA + Logistic Regression\n",
    "## PCA Class"
   ]
  },
  {
   "cell_type": "code",
   "execution_count": 0,
   "metadata": {
    "colab": {},
    "colab_type": "code",
    "id": "tCNHhlMysnHq"
   },
   "outputs": [],
   "source": [
    "# download MNIST dataset from keras\n",
    "(x_train, y_train), (x_test, y_test) = tf.keras.datasets.mnist.load_data()\n",
    "# convert data type to float 32\n",
    "x_train=x_train\n",
    "y_train=y_train\n",
    "x_train=np.float32(x_train)\n",
    "x_test=np.float32(x_test)\n",
    "x_train = x_train.reshape(np.shape(x_train)[0], 28*28)/255.0\n",
    "x_test = x_test.reshape(np.shape(x_test)[0], 28*28)/255.0"
   ]
  },
  {
   "cell_type": "code",
   "execution_count": 0,
   "metadata": {
    "colab": {},
    "colab_type": "code",
    "id": "aGS6wvK_eIxw"
   },
   "outputs": [],
   "source": [
    "# stack them as a big one for dimension deduction\n",
    "big_X=np.vstack((x_train,x_test))"
   ]
  },
  {
   "cell_type": "code",
   "execution_count": 0,
   "metadata": {
    "colab": {},
    "colab_type": "code",
    "id": "qGjkEmansnKb"
   },
   "outputs": [],
   "source": [
    "# build PCA class\n",
    "class SJPCA(object):\n",
    "    def __init__(self):\n",
    "        pass\n",
    "\n",
    "    def train(self, X):\n",
    "        self.x_train = X\n",
    "    \n",
    "    def compute_mean_covar_eigen(self):\n",
    "        # get average image and get mean image by summing each row\n",
    "        tr_mean = np.mean(self.x_train, axis=0)\n",
    "        tr_mean = np.reshape(tr_mean,(1,np.shape(tr_mean)[0]))\n",
    "\n",
    "        # subtract the mean\n",
    "        xtr_m = self.x_train - tr_mean\n",
    "\n",
    "        # calculate covariance matrix\n",
    "        tr_cov = np.dot(xtr_m.T,xtr_m)\n",
    "        \n",
    "        # get eigenvalue and eigenvector\n",
    "        tr_val, tr_vec = eig(tr_cov)\n",
    "        \n",
    "        return xtr_m, tr_cov, tr_val, tr_vec\n",
    "    \n",
    "    def get_comp_K(self,tr_val, threshold):\n",
    "        cum_lambda = np.cumsum(tr_val)\n",
    "        total_lamda = cum_lambda[-1]\n",
    "        \n",
    "        # get the principal component number that we want to keep\n",
    "        for keep_dim in range(len(tr_val)):\n",
    "            rate = cum_lambda[keep_dim]/total_lamda\n",
    "            if rate >= threshold: \n",
    "                return keep_dim\n",
    "                break\n",
    "            else: continue\n",
    "            \n",
    "    def deduct_img(self, tr_vec, keep_dim):\n",
    "        x_proj= np.dot(self.x_train, tr_vec.T[:,0:keep_dim])\n",
    "        return x_proj"
   ]
  },
  {
   "cell_type": "markdown",
   "metadata": {
    "colab_type": "text",
    "id": "75_zL14ZeIx1"
   },
   "source": [
    "## Retain 90% Eigenvalues"
   ]
  },
  {
   "cell_type": "code",
   "execution_count": 0,
   "metadata": {
    "colab": {
     "base_uri": "https://localhost:8080/",
     "height": 34
    },
    "colab_type": "code",
    "id": "GOOr1mTHeIx1",
    "outputId": "f26d2499-2811-44f3-8245-ed405b71f6ff"
   },
   "outputs": [
    {
     "name": "stdout",
     "output_type": "stream",
     "text": [
      "86\n"
     ]
    }
   ],
   "source": [
    "# Deduct Training Set\n",
    "SJ = SJPCA()\n",
    "SJ.train(big_X)\n",
    "xtr_m, tr_cov, tr_val, tr_vec = SJ.compute_mean_covar_eigen()\n",
    "keep_dim = SJ.get_comp_K(tr_val, 0.90)\n",
    "new_big_X = SJ.deduct_img(tr_vec, keep_dim)\n",
    "print(keep_dim)"
   ]
  },
  {
   "cell_type": "code",
   "execution_count": 0,
   "metadata": {
    "colab": {},
    "colab_type": "code",
    "id": "4qokZ3EveIx4"
   },
   "outputs": [],
   "source": [
    "# resplit the dataset and normalize them with min-max normalization\n",
    "x_train = new_big_X[0:60000,:]\n",
    "x_test = new_big_X[60000:70000,:]\n",
    "tr_min = np.min(x_train,axis=1)\n",
    "tr_cha = np.max(x_train,axis=1)-np.min(x_train,axis=1)\n",
    "te_min = np.min(x_test,axis=1)\n",
    "te_cha = np.max(x_test,axis=1)-np.min(x_test,axis=1)\n",
    "for i in range(60000):\n",
    "    x_train[i]=(x_train[i]-tr_min[i])/tr_cha[i]\n",
    "for i in range(10000):\n",
    "    x_test[i]=(x_test[i]-te_min[i])/te_cha[i]"
   ]
  },
  {
   "cell_type": "code",
   "execution_count": 0,
   "metadata": {
    "colab": {},
    "colab_type": "code",
    "id": "MBPRG7qreIx5"
   },
   "outputs": [],
   "source": [
    "# split the train as 10 categories\n",
    "x_train = x_train[0:25000,]\n",
    "y_train = y_train[0:25000,]\n",
    "JS = SJLogis_Regre()\n",
    "JS.train(x_train,y_train)\n",
    "y0_train = JS.split_category1(0)\n",
    "y1_train = JS.split_category1(1)\n",
    "y2_train = JS.split_category1(2)\n",
    "y3_train = JS.split_category1(3)\n",
    "y4_train = JS.split_category1(4)\n",
    "y5_train = JS.split_category1(5)\n",
    "y6_train = JS.split_category1(6)\n",
    "y7_train = JS.split_category1(7)\n",
    "y8_train = JS.split_category1(8)\n",
    "y9_train = JS.split_category1(9)"
   ]
  },
  {
   "cell_type": "code",
   "execution_count": 0,
   "metadata": {
    "colab": {
     "base_uri": "https://localhost:8080/",
     "height": 3604
    },
    "colab_type": "code",
    "id": "a_FKWV0_eIx7",
    "outputId": "194f27e8-d699-4e8d-9b58-0047f248603a"
   },
   "outputs": [
    {
     "name": "stdout",
     "output_type": "stream",
     "text": [
      "the cost in 0 step is 11494.348784778926\n",
      "the cost in 10000 step is 3126.412584415647\n",
      "the cost in 20000 step is 3019.222058121433\n",
      "the cost in 30000 step is 2980.548900777659\n",
      "the cost in 40000 step is 2960.0637610517406\n",
      "the cost in 50000 step is 2947.133525428829\n",
      "the cost in 60000 step is 2938.150683857481\n",
      "the cost in 70000 step is 2931.5252993140994\n",
      "the cost in 80000 step is 2926.4329330647543\n",
      "the cost in 90000 step is 2922.3987258713228\n",
      "the cost in 100000 step is 2919.12874921704\n",
      "the cost in 110000 step is 2916.4309997558444\n",
      "the cost in 120000 step is 2914.1744244347587\n",
      "the cost in 130000 step is 2912.266118229002\n",
      "the cost in 140000 step is 2910.637984798607\n",
      "the cost in 150000 step is 2909.238631302235\n",
      "the cost in 160000 step is 2908.0282850389312\n",
      "the cost in 170000 step is 2906.9755114693517\n",
      "the cost in 180000 step is 2906.0550344696912\n",
      "the cost in 190000 step is 2905.24624699049\n",
      "the cost in 200000 step is 2904.5321641235228\n",
      "the cost in 0 step is 13195.457526007835\n",
      "the cost in 10000 step is 2605.1631217709282\n",
      "the cost in 20000 step is 2527.082562647482\n",
      "the cost in 30000 step is 2499.6754922581245\n",
      "the cost in 40000 step is 2485.788203774236\n",
      "the cost in 50000 step is 2477.2256707642114\n",
      "the cost in 60000 step is 2471.252817453685\n",
      "the cost in 70000 step is 2466.730449477056\n",
      "the cost in 80000 step is 2463.109379705213\n",
      "the cost in 90000 step is 2460.0948624613125\n",
      "the cost in 100000 step is 2457.514770864773\n",
      "the cost in 110000 step is 2455.26136017355\n",
      "the cost in 120000 step is 2453.2631403257556\n",
      "the cost in 130000 step is 2451.470289348657\n",
      "the cost in 140000 step is 2449.8466256742327\n",
      "the cost in 150000 step is 2448.3649560534345\n",
      "the cost in 160000 step is 2447.004252767274\n",
      "the cost in 170000 step is 2445.7478683169693\n",
      "the cost in 180000 step is 2444.5823631870967\n",
      "the cost in 190000 step is 2443.496709734964\n",
      "the cost in 200000 step is 2442.4817349064124\n",
      "the cost in 0 step is 11993.164788890155\n",
      "the cost in 10000 step is 4253.653600759702\n",
      "the cost in 20000 step is 4185.437801964854\n",
      "the cost in 30000 step is 4163.6179129090915\n",
      "the cost in 40000 step is 4153.833177792004\n",
      "the cost in 50000 step is 4148.465262167557\n",
      "the cost in 60000 step is 4144.997092878471\n",
      "the cost in 70000 step is 4142.453628649349\n",
      "the cost in 80000 step is 4140.418135989224\n",
      "the cost in 90000 step is 4138.696054782977\n",
      "the cost in 100000 step is 4137.187631041936\n",
      "the cost in 110000 step is 4135.836447054798\n",
      "the cost in 120000 step is 4134.607464676719\n",
      "the cost in 130000 step is 4133.477112887989\n",
      "the cost in 140000 step is 4132.428514731237\n",
      "the cost in 150000 step is 4131.449016214509\n",
      "the cost in 160000 step is 4130.528805732905\n",
      "the cost in 170000 step is 4129.660084220133\n",
      "the cost in 180000 step is 4128.836533230995\n",
      "the cost in 190000 step is 4128.052955577392\n",
      "the cost in 200000 step is 4127.30502232009\n",
      "the cost in 0 step is 11774.667289332769\n",
      "the cost in 10000 step is 4750.796715164135\n",
      "the cost in 20000 step is 4713.998764948993\n",
      "the cost in 30000 step is 4698.930887031426\n",
      "the cost in 40000 step is 4688.53318221257\n",
      "the cost in 50000 step is 4680.67877827822\n",
      "the cost in 60000 step is 4674.551664926897\n",
      "the cost in 70000 step is 4669.680736350771\n",
      "the cost in 80000 step is 4665.754818964564\n",
      "the cost in 90000 step is 4662.55463788173\n",
      "the cost in 100000 step is 4659.919566124383\n",
      "the cost in 110000 step is 4657.728939952542\n",
      "the cost in 120000 step is 4655.890558134034\n",
      "the cost in 130000 step is 4654.333116809073\n",
      "the cost in 140000 step is 4653.0009837541165\n",
      "the cost in 150000 step is 4651.850457853401\n",
      "the cost in 160000 step is 4650.847021825205\n",
      "the cost in 170000 step is 4649.963286298036\n",
      "the cost in 180000 step is 4649.177429841478\n",
      "the cost in 190000 step is 4648.472002930839\n",
      "the cost in 200000 step is 4647.833003566164\n",
      "the cost in 0 step is 11174.437518526476\n",
      "the cost in 10000 step is 3798.2646136405097\n",
      "the cost in 20000 step is 3705.0244009201565\n",
      "the cost in 30000 step is 3655.5708216293774\n",
      "the cost in 40000 step is 3622.8815114186787\n",
      "the cost in 50000 step is 3599.319775265019\n",
      "the cost in 60000 step is 3581.4634712570905\n",
      "the cost in 70000 step is 3567.4562005125076\n",
      "the cost in 80000 step is 3556.180880429334\n",
      "the cost in 90000 step is 3546.9189532149076\n",
      "the cost in 100000 step is 3539.185338874341\n",
      "the cost in 110000 step is 3532.6398782979672\n",
      "the cost in 120000 step is 3527.0363876786523\n",
      "the cost in 130000 step is 3522.191837814985\n",
      "the cost in 140000 step is 3517.9669701581934\n",
      "the cost in 150000 step is 3514.2537077720235\n",
      "the cost in 160000 step is 3510.9667452725607\n",
      "the cost in 170000 step is 3508.037783331035\n",
      "the cost in 180000 step is 3505.4114792046084\n",
      "the cost in 190000 step is 3503.042536846499\n",
      "the cost in 200000 step is 3500.893570687847\n",
      "the cost in 0 step is 10716.23967403196\n",
      "the cost in 10000 step is 5436.415826873967\n",
      "the cost in 20000 step is 5414.813068150808\n",
      "the cost in 30000 step is 5406.710458184604\n",
      "the cost in 40000 step is 5402.006825231792\n",
      "the cost in 50000 step is 5398.800746295721\n",
      "the cost in 60000 step is 5396.413353565801\n",
      "the cost in 70000 step is 5394.531698486926\n",
      "the cost in 80000 step is 5392.987838659084\n",
      "the cost in 90000 step is 5391.682122950585\n",
      "the cost in 100000 step is 5390.551079925108\n",
      "the cost in 110000 step is 5389.552123917892\n",
      "the cost in 120000 step is 5388.655542301073\n",
      "the cost in 130000 step is 5387.839971913611\n",
      "the cost in 140000 step is 5387.089685669847\n",
      "the cost in 150000 step is 5386.392881964512\n",
      "the cost in 160000 step is 5385.740561547407\n",
      "the cost in 170000 step is 5385.1257654675055\n",
      "the cost in 180000 step is 5384.543044173435\n",
      "the cost in 190000 step is 5383.988079737385\n",
      "the cost in 200000 step is 5383.457412405318\n",
      "the cost in 0 step is 12859.308589492144\n",
      "the cost in 10000 step is 3005.5981288791972\n",
      "the cost in 20000 step is 2956.692565328443\n",
      "the cost in 30000 step is 2943.685460772231\n",
      "the cost in 40000 step is 2937.0087742005244\n",
      "the cost in 50000 step is 2932.3870519743114\n",
      "the cost in 60000 step is 2928.760658782249\n",
      "the cost in 70000 step is 2925.738812734335\n",
      "the cost in 80000 step is 2923.12993209388\n",
      "the cost in 90000 step is 2920.8224317954337\n",
      "the cost in 100000 step is 2918.7445519804164\n",
      "the cost in 110000 step is 2916.847236335628\n",
      "the cost in 120000 step is 2915.095503525564\n",
      "the cost in 130000 step is 2913.4635959083494\n",
      "the cost in 140000 step is 2911.9320490031478\n",
      "the cost in 150000 step is 2910.485830055776\n",
      "the cost in 160000 step is 2909.1131098477463\n",
      "the cost in 170000 step is 2907.8044270487117\n",
      "the cost in 180000 step is 2906.5521047408456\n",
      "the cost in 190000 step is 2905.349833795178\n",
      "the cost in 200000 step is 2904.19236948099\n",
      "the cost in 0 step is 11515.196386206519\n",
      "the cost in 10000 step is 3927.0088302984695\n",
      "the cost in 20000 step is 3838.3086231997477\n",
      "the cost in 30000 step is 3801.4069304543887\n",
      "the cost in 40000 step is 3779.6211128270634\n",
      "the cost in 50000 step is 3764.541929526753\n",
      "the cost in 60000 step is 3753.120653481457\n",
      "the cost in 70000 step is 3743.9754571195313\n",
      "the cost in 80000 step is 3736.3835091469837\n",
      "the cost in 90000 step is 3729.9232784664614\n",
      "the cost in 100000 step is 3724.3271330031675\n",
      "the cost in 110000 step is 3719.413658292306\n",
      "the cost in 120000 step is 3715.0535652833064\n",
      "the cost in 130000 step is 3711.151066742504\n",
      "the cost in 140000 step is 3707.6329812625895\n",
      "the cost in 150000 step is 3704.4419896256645\n",
      "the cost in 160000 step is 3701.5322661376663\n",
      "the cost in 170000 step is 3698.8665405674983\n",
      "the cost in 180000 step is 3696.4140592813555\n",
      "the cost in 190000 step is 3694.149131826925\n",
      "the cost in 200000 step is 3692.0500702217582\n",
      "the cost in 0 step is 11479.217210392377\n",
      "the cost in 10000 step is 5342.85144675758\n",
      "the cost in 20000 step is 5284.176358784428\n",
      "the cost in 30000 step is 5262.125851555122\n",
      "the cost in 40000 step is 5250.825193455512\n",
      "the cost in 50000 step is 5243.926832598075\n",
      "the cost in 60000 step is 5239.112025853081\n",
      "the cost in 70000 step is 5235.411207281902\n",
      "the cost in 80000 step is 5232.375465471756\n",
      "the cost in 90000 step is 5229.7764376520345\n",
      "the cost in 100000 step is 5227.487120984874\n",
      "the cost in 110000 step is 5225.430862671986\n",
      "the cost in 120000 step is 5223.557975287069\n",
      "the cost in 130000 step is 5221.834276587008\n",
      "the cost in 140000 step is 5220.235093559294\n",
      "the cost in 150000 step is 5218.741921589191\n",
      "the cost in 160000 step is 5217.340450753148\n",
      "the cost in 170000 step is 5216.0193369679455\n",
      "the cost in 180000 step is 5214.769401307368\n",
      "the cost in 190000 step is 5213.583087844729\n",
      "the cost in 200000 step is 5212.454084550456\n",
      "the cost in 0 step is 11023.377253398028\n",
      "the cost in 10000 step is 4876.590964464908\n",
      "the cost in 20000 step is 4856.594228990089\n",
      "the cost in 30000 step is 4847.622860851587\n",
      "the cost in 40000 step is 4841.871770455712\n",
      "the cost in 50000 step is 4837.698306952079\n",
      "the cost in 60000 step is 4834.46388330204\n",
      "the cost in 70000 step is 4831.84183116465\n",
      "the cost in 80000 step is 4829.640220184657\n",
      "the cost in 90000 step is 4827.737962687289\n",
      "the cost in 100000 step is 4826.055439231063\n",
      "the cost in 110000 step is 4824.538798048574\n",
      "the cost in 120000 step is 4823.15080248661\n",
      "the cost in 130000 step is 4821.865211698995\n",
      "the cost in 140000 step is 4820.6632102301965\n",
      "the cost in 150000 step is 4819.531081336323\n",
      "the cost in 160000 step is 4818.458659884766\n",
      "the cost in 170000 step is 4817.438286108525\n",
      "the cost in 180000 step is 4816.464087732435\n",
      "the cost in 190000 step is 4815.531481129755\n",
      "the cost in 200000 step is 4814.636820770846\n",
      "Iteration took 8354.994221 seconds\n"
     ]
    }
   ],
   "source": [
    "import time\n",
    "# calculate weight seperately\n",
    "learning_rate = 0.00002\n",
    "iteration_time = 200001\n",
    "tic = time.time()\n",
    "w0 = JS.gradient_descent1(y0_train, learning_rate, iteration_time)\n",
    "w1 = JS.gradient_descent1(y1_train, learning_rate, iteration_time)\n",
    "w2 = JS.gradient_descent1(y2_train, learning_rate, iteration_time)\n",
    "w3 = JS.gradient_descent1(y3_train, learning_rate, iteration_time)\n",
    "w4 = JS.gradient_descent1(y4_train, learning_rate, iteration_time)\n",
    "w5 = JS.gradient_descent1(y5_train, learning_rate, iteration_time)\n",
    "w6 = JS.gradient_descent1(y6_train, learning_rate, iteration_time)\n",
    "w7 = JS.gradient_descent1(y7_train, learning_rate, iteration_time)\n",
    "w8 = JS.gradient_descent1(y8_train, learning_rate, iteration_time)\n",
    "w9 = JS.gradient_descent1(y9_train, learning_rate, iteration_time)\n",
    "toc = time.time()\n",
    "print('Iteration took %f seconds' %(toc - tic))"
   ]
  },
  {
   "cell_type": "code",
   "execution_count": 0,
   "metadata": {
    "colab": {},
    "colab_type": "code",
    "id": "e_7Rd2OVeIx9"
   },
   "outputs": [],
   "source": [
    "# calculate probability for each category\n",
    "y_pred = []\n",
    "for i in range(np.shape(x_test)[0]):\n",
    "\n",
    "    pred_0 = JS.get_pcx(x_test[i], w0)\n",
    "    pred_1 = JS.get_pcx(x_test[i], w1)\n",
    "    pred_2 = JS.get_pcx(x_test[i], w2)\n",
    "    pred_3 = JS.get_pcx(x_test[i], w3)\n",
    "    pred_4 = JS.get_pcx(x_test[i], w4)\n",
    "    pred_5 = JS.get_pcx(x_test[i], w5)\n",
    "    pred_6 = JS.get_pcx(x_test[i], w6)\n",
    "    pred_7 = JS.get_pcx(x_test[i], w7)\n",
    "    pred_8 = JS.get_pcx(x_test[i], w8)\n",
    "    pred_9 = JS.get_pcx(x_test[i], w9)\n",
    "    pred = [pred_0[0],pred_1[0],pred_2[0],pred_3[0],pred_4[0],\n",
    "            pred_5[0],pred_6[0],pred_7[0],pred_8[0],pred_9[0]]\n",
    "    value = JS.predict_c(pred)\n",
    "    y_pred.append(value)"
   ]
  },
  {
   "cell_type": "code",
   "execution_count": 0,
   "metadata": {
    "colab": {
     "base_uri": "https://localhost:8080/",
     "height": 51
    },
    "colab_type": "code",
    "id": "EmCP3e2geIyA",
    "outputId": "35884d79-1eaf-4b02-9c32-eea16d44999c"
   },
   "outputs": [
    {
     "name": "stdout",
     "output_type": "stream",
     "text": [
      "Got 7197 / 10000 correct\n",
      "Accuracy = 0.719700\n"
     ]
    }
   ],
   "source": [
    "# calculate accuracy\n",
    "num_test = len(y_test)\n",
    "num_correct = np.sum(y_pred == y_test)\n",
    "print('Got %d / %d correct' % (num_correct, num_test))\n",
    "print('Accuracy = %f' % (np.mean(y_test == y_pred)))"
   ]
  },
  {
   "cell_type": "code",
   "execution_count": 0,
   "metadata": {
    "colab": {
     "base_uri": "https://localhost:8080/",
     "height": 476
    },
    "colab_type": "code",
    "id": "hCyxYF4peIyD",
    "outputId": "1a6b2ef6-a27f-478b-f0f9-4ddea9aa33e4"
   },
   "outputs": [
    {
     "name": "stdout",
     "output_type": "stream",
     "text": [
      "[[ 819    0   14   37    4   28   51    2   22    3]\n",
      " [   1 1037   21   11   14    4    7    1   38    1]\n",
      " [  34   55  685   45   24   28   84    3   67    7]\n",
      " [  40   13   61  731   17   49   28   17   35   19]\n",
      " [   6   41   31   20  745   15   19   13   19   73]\n",
      " [  38   30   34  199   52  375   44    9   61   50]\n",
      " [  42   10   50    5   33    9  784    5   19    1]\n",
      " [   3   34   10   14   41    9    8  784   17  108]\n",
      " [  92   43   27   43   37   58   31   11  613   19]\n",
      " [  10    8    9   27   75   16    2  210   28  624]]\n",
      "              precision    recall  f1-score   support\n",
      "\n",
      "           0      0.755     0.836     0.793       980\n",
      "           1      0.816     0.914     0.862      1135\n",
      "           2      0.727     0.664     0.694      1032\n",
      "           3      0.646     0.724     0.683      1010\n",
      "           4      0.715     0.759     0.736       982\n",
      "           5      0.635     0.420     0.506       892\n",
      "           6      0.741     0.818     0.778       958\n",
      "           7      0.743     0.763     0.753      1028\n",
      "           8      0.667     0.629     0.648       974\n",
      "           9      0.690     0.618     0.652      1009\n",
      "\n",
      "   micro avg      0.720     0.720     0.720     10000\n",
      "   macro avg      0.713     0.714     0.710     10000\n",
      "weighted avg      0.716     0.720     0.714     10000\n",
      "\n"
     ]
    }
   ],
   "source": [
    "print(confusion_matrix(y_test, y_pred)) \n",
    "print(classification_report(y_test, y_pred,\n",
    "                            target_names=list(label_dict.values()),digits=3))"
   ]
  },
  {
   "cell_type": "markdown",
   "metadata": {
    "colab_type": "text",
    "id": "AZdoNz_ReIyF"
   },
   "source": [
    "## Retain 95% Eigenvalues"
   ]
  },
  {
   "cell_type": "code",
   "execution_count": 0,
   "metadata": {
    "colab": {},
    "colab_type": "code",
    "id": "DuLxkYaeeIyG",
    "outputId": "6cc84e7c-333f-411f-937c-0eebbe3aea3d"
   },
   "outputs": [
    {
     "name": "stdout",
     "output_type": "stream",
     "text": [
      "153\n"
     ]
    }
   ],
   "source": [
    "# Deduct Training Set\n",
    "SJ = SJPCA()\n",
    "SJ.train(big_X)\n",
    "xtr_m, tr_cov, tr_val, tr_vec = SJ.compute_mean_covar_eigen()\n",
    "keep_dim = SJ.get_comp_K(tr_val, 0.95)\n",
    "new_big_X = SJ.deduct_img(tr_vec, keep_dim)\n",
    "print(keep_dim)"
   ]
  },
  {
   "cell_type": "code",
   "execution_count": 0,
   "metadata": {
    "colab": {},
    "colab_type": "code",
    "id": "9QrLlLEneIyI"
   },
   "outputs": [],
   "source": [
    "# resplit the dataset and normalize them with min-max normalization\n",
    "x_train = new_big_X[0:60000,:]\n",
    "x_test = new_big_X[60000:70000,:]\n",
    "tr_min = np.min(x_train,axis=1)\n",
    "tr_cha = np.max(x_train,axis=1)-np.min(x_train,axis=1)\n",
    "te_min = np.min(x_test,axis=1)\n",
    "te_cha = np.max(x_test,axis=1)-np.min(x_test,axis=1)\n",
    "for i in range(60000):\n",
    "    x_train[i]=(x_train[i]-tr_min[i])/tr_cha[i]\n",
    "for i in range(10000):\n",
    "    x_test[i]=(x_test[i]-te_min[i])/te_cha[i]"
   ]
  },
  {
   "cell_type": "code",
   "execution_count": 0,
   "metadata": {
    "colab": {},
    "colab_type": "code",
    "id": "Uq8DuvMmeIyL"
   },
   "outputs": [],
   "source": [
    "# split the train as 10 categories\n",
    "x_train = x_train[0:25000,]\n",
    "y_train = y_train[0:25000,]\n",
    "JS = SJLogis_Regre()\n",
    "JS.train(x_train,y_train)\n",
    "y0_train = JS.split_category1(0)\n",
    "y1_train = JS.split_category1(1)\n",
    "y2_train = JS.split_category1(2)\n",
    "y3_train = JS.split_category1(3)\n",
    "y4_train = JS.split_category1(4)\n",
    "y5_train = JS.split_category1(5)\n",
    "y6_train = JS.split_category1(6)\n",
    "y7_train = JS.split_category1(7)\n",
    "y8_train = JS.split_category1(8)\n",
    "y9_train = JS.split_category1(9)"
   ]
  },
  {
   "cell_type": "code",
   "execution_count": 0,
   "metadata": {
    "colab": {},
    "colab_type": "code",
    "id": "kvrLcidUeIyN",
    "outputId": "38a7c738-d27e-42e8-b05c-7de6603832ff"
   },
   "outputs": [
    {
     "name": "stdout",
     "output_type": "stream",
     "text": [
      "the cost in 0 step is 21481.39931363333\n",
      "the cost in 10000 step is 1290.979156247232\n",
      "the cost in 20000 step is 1179.9316720640436\n",
      "the cost in 30000 step is 1136.8498801548822\n",
      "the cost in 40000 step is 1113.610628108722\n",
      "the cost in 50000 step is 1098.8877151910638\n",
      "the cost in 60000 step is 1088.626968789076\n",
      "the cost in 70000 step is 1081.0106065444509\n",
      "the cost in 80000 step is 1075.0973584090684\n",
      "the cost in 90000 step is 1070.3489266354475\n",
      "the cost in 100000 step is 1066.434427246745\n",
      "the cost in 110000 step is 1063.1389819309168\n",
      "the cost in 120000 step is 1060.3168282585434\n",
      "the cost in 130000 step is 1057.8654896608593\n",
      "the cost in 140000 step is 1055.7107270994716\n",
      "the cost in 150000 step is 1053.7973652048368\n",
      "the cost in 160000 step is 1052.0834835329895\n",
      "the cost in 170000 step is 1050.5366169529138\n",
      "the cost in 180000 step is 1049.1311985537595\n",
      "the cost in 190000 step is 1047.846794906433\n",
      "the cost in 200000 step is 1046.6668605452846\n",
      "the cost in 0 step is 24718.107437320756\n",
      "the cost in 10000 step is 1151.1126723662248\n",
      "the cost in 20000 step is 1066.7136659425819\n",
      "the cost in 30000 step is 1027.6167318068062\n",
      "the cost in 40000 step is 1003.9998753464371\n",
      "the cost in 50000 step is 988.0094353940834\n",
      "the cost in 60000 step is 976.4594199220651\n",
      "the cost in 70000 step is 967.7520814664608\n",
      "the cost in 80000 step is 960.979598913985\n",
      "the cost in 90000 step is 955.5820962287655\n",
      "the cost in 100000 step is 951.1937271701398\n",
      "the cost in 110000 step is 947.5649766267343\n",
      "the cost in 120000 step is 944.5199778282936\n",
      "the cost in 130000 step is 941.9314899674977\n",
      "the cost in 140000 step is 939.7054594937763\n",
      "the cost in 150000 step is 937.7710981774508\n",
      "the cost in 160000 step is 936.0742930364772\n",
      "the cost in 170000 step is 934.5731091289713\n",
      "the cost in 180000 step is 933.234650187493\n",
      "the cost in 190000 step is 932.0328243210581\n",
      "the cost in 200000 step is 930.9467269463917\n",
      "the cost in 0 step is 21218.52266257611\n",
      "the cost in 10000 step is 2608.734637799854\n",
      "the cost in 20000 step is 2486.454143185559\n",
      "the cost in 30000 step is 2437.877724271532\n",
      "the cost in 40000 step is 2411.8854477581235\n",
      "the cost in 50000 step is 2396.0875464441506\n",
      "the cost in 60000 step is 2385.7768270080437\n",
      "the cost in 70000 step is 2378.7126633745856\n",
      "the cost in 80000 step is 2373.685525144285\n",
      "the cost in 90000 step is 2369.990643722943\n",
      "the cost in 100000 step is 2367.1958621303056\n",
      "the cost in 110000 step is 2365.026052464628\n",
      "the cost in 120000 step is 2363.3007313845874\n",
      "the cost in 130000 step is 2361.898455859137\n",
      "the cost in 140000 step is 2360.735657288192\n",
      "the cost in 150000 step is 2359.7536535561653\n",
      "the cost in 160000 step is 2358.9104681652975\n",
      "the cost in 170000 step is 2358.1755592719614\n",
      "the cost in 180000 step is 2357.526353823065\n",
      "the cost in 190000 step is 2356.9459255534844\n",
      "the cost in 200000 step is 2356.4214118910286\n",
      "the cost in 0 step is 21446.709402156328\n",
      "the cost in 10000 step is 2850.00157956573\n",
      "the cost in 20000 step is 2772.696637781348\n",
      "the cost in 30000 step is 2744.191092728533\n",
      "the cost in 40000 step is 2729.400104717881\n",
      "the cost in 50000 step is 2720.184920198146\n",
      "the cost in 60000 step is 2713.767087775794\n",
      "the cost in 70000 step is 2708.9654594612743\n",
      "the cost in 80000 step is 2705.1960044236616\n",
      "the cost in 90000 step is 2702.134881409138\n",
      "the cost in 100000 step is 2699.585785238403\n",
      "the cost in 110000 step is 2697.4212559585594\n",
      "the cost in 120000 step is 2695.554086582456\n",
      "the cost in 130000 step is 2693.9221847954063\n",
      "the cost in 140000 step is 2692.4799592895497\n",
      "the cost in 150000 step is 2691.193110456793\n",
      "the cost in 160000 step is 2690.035317429438\n",
      "the cost in 170000 step is 2688.986043480984\n",
      "the cost in 180000 step is 2688.0290336786334\n",
      "the cost in 190000 step is 2687.1512586001163\n",
      "the cost in 200000 step is 2686.342155138763\n",
      "the cost in 0 step is 20795.722369229996\n",
      "the cost in 10000 step is 2070.384883555123\n",
      "the cost in 20000 step is 1963.9199870251264\n",
      "the cost in 30000 step is 1922.5514990173167\n",
      "the cost in 40000 step is 1900.5117452659697\n",
      "the cost in 50000 step is 1886.7223966820982\n",
      "the cost in 60000 step is 1877.2139147898383\n",
      "the cost in 70000 step is 1870.2263514889162\n",
      "the cost in 80000 step is 1864.861562391915\n",
      "the cost in 90000 step is 1860.6114038332978\n",
      "the cost in 100000 step is 1857.164506701705\n",
      "the cost in 110000 step is 1854.3176741517289\n",
      "the cost in 120000 step is 1851.9315195784166\n",
      "the cost in 130000 step is 1849.9065849012675\n",
      "the cost in 140000 step is 1848.1696613729766\n",
      "the cost in 150000 step is 1846.6655194813204\n",
      "the cost in 160000 step is 1845.3516677710577\n",
      "the cost in 170000 step is 1844.194892776376\n",
      "the cost in 180000 step is 1843.1688933879636\n",
      "the cost in 190000 step is 1842.2526147075337\n",
      "the cost in 200000 step is 1841.4290448339698\n",
      "the cost in 0 step is 19317.28222289082\n",
      "the cost in 10000 step is 3575.185382029389\n",
      "the cost in 20000 step is 3460.5829954966475\n",
      "the cost in 30000 step is 3417.689616286633\n",
      "the cost in 40000 step is 3396.6358994390694\n",
      "the cost in 50000 step is 3384.7145562205437\n",
      "the cost in 60000 step is 3377.190245329684\n",
      "the cost in 70000 step is 3371.9941216118696\n",
      "the cost in 80000 step is 3368.130168217673\n",
      "the cost in 90000 step is 3365.0831494260724\n",
      "the cost in 100000 step is 3362.570036685225\n",
      "the cost in 110000 step is 3360.426715910553\n",
      "the cost in 120000 step is 3358.5530994346514\n",
      "the cost in 130000 step is 3356.8851793819013\n",
      "the cost in 140000 step is 3355.38016591122\n",
      "the cost in 150000 step is 3354.008260526704\n",
      "the cost in 160000 step is 3352.747925925376\n",
      "the cost in 170000 step is 3351.583066013601\n",
      "the cost in 180000 step is 3350.50128616405\n",
      "the cost in 190000 step is 3349.4927851182792\n",
      "the cost in 200000 step is 3348.549628239625\n",
      "the cost in 0 step is 20901.197291827262\n",
      "the cost in 10000 step is 1519.5377431493357\n",
      "the cost in 20000 step is 1444.7516444278635\n",
      "the cost in 30000 step is 1414.820489172695\n",
      "the cost in 40000 step is 1398.7687626530499\n",
      "the cost in 50000 step is 1388.8322942594725\n",
      "the cost in 60000 step is 1382.086372297032\n",
      "the cost in 70000 step is 1377.1955498954237\n",
      "the cost in 80000 step is 1373.4714706326677\n",
      "the cost in 90000 step is 1370.5268377871892\n",
      "the cost in 100000 step is 1368.128402444802\n",
      "the cost in 110000 step is 1366.127763215047\n",
      "the cost in 120000 step is 1364.4261340264209\n",
      "the cost in 130000 step is 1362.955230591273\n",
      "the cost in 140000 step is 1361.6663340576897\n",
      "the cost in 150000 step is 1360.5237407143043\n",
      "the cost in 160000 step is 1359.5006794835951\n",
      "the cost in 170000 step is 1358.576677253663\n",
      "the cost in 180000 step is 1357.7358057669546\n",
      "the cost in 190000 step is 1356.9654833531415\n",
      "the cost in 200000 step is 1356.2556363871279\n",
      "the cost in 0 step is 22035.56148843189\n",
      "the cost in 10000 step is 1977.5659705585051\n",
      "the cost in 20000 step is 1889.0166862059818\n",
      "the cost in 30000 step is 1853.2871074041734\n",
      "the cost in 40000 step is 1833.672836196149\n",
      "the cost in 50000 step is 1821.1783931912528\n",
      "the cost in 60000 step is 1812.4340081164917\n",
      "the cost in 70000 step is 1805.896393868115\n",
      "the cost in 80000 step is 1800.765827619451\n",
      "the cost in 90000 step is 1796.5900928049737\n",
      "the cost in 100000 step is 1793.0956220990286\n",
      "the cost in 110000 step is 1790.1075074530365\n",
      "the cost in 120000 step is 1787.5085474568584\n",
      "the cost in 130000 step is 1785.216968812816\n",
      "the cost in 140000 step is 1783.1736862886985\n",
      "the cost in 150000 step is 1781.334698726024\n",
      "the cost in 160000 step is 1779.6663757001656\n",
      "the cost in 170000 step is 1778.1424347969544\n",
      "the cost in 180000 step is 1776.7419420831586\n",
      "the cost in 190000 step is 1775.447951354875\n",
      "the cost in 200000 step is 1774.2465536903944\n",
      "the cost in 0 step is 20576.308660686824\n",
      "the cost in 10000 step is 3444.047551910203\n",
      "the cost in 20000 step is 3377.4839662842332\n",
      "the cost in 30000 step is 3350.8809413137596\n",
      "the cost in 40000 step is 3335.833799625315\n",
      "the cost in 50000 step is 3326.089131294426\n",
      "the cost in 60000 step is 3319.2895856233527\n",
      "the cost in 70000 step is 3314.2954441476877\n",
      "the cost in 80000 step is 3310.478970401891\n",
      "the cost in 90000 step is 3307.4659237536894\n",
      "the cost in 100000 step is 3305.0206915983354\n",
      "the cost in 110000 step is 3302.9887299299826\n",
      "the cost in 120000 step is 3301.2652894855755\n",
      "the cost in 130000 step is 3299.7773979977815\n",
      "the cost in 140000 step is 3298.4730033611722\n"
     ]
    },
    {
     "name": "stdout",
     "output_type": "stream",
     "text": [
      "the cost in 150000 step is 3297.314192991264\n",
      "the cost in 160000 step is 3296.272831530966\n",
      "the cost in 170000 step is 3295.3276825717717\n",
      "the cost in 180000 step is 3294.4624671361757\n",
      "the cost in 190000 step is 3293.664527990388\n",
      "the cost in 200000 step is 3292.923894195433\n",
      "the cost in 0 step is 21137.078491081204\n",
      "the cost in 10000 step is 3537.109339428206\n",
      "the cost in 20000 step is 3436.0548331330574\n",
      "the cost in 30000 step is 3398.3005635758823\n",
      "the cost in 40000 step is 3378.225014121994\n",
      "the cost in 50000 step is 3365.338215687117\n",
      "the cost in 60000 step is 3356.115688711854\n",
      "the cost in 70000 step is 3349.057324853924\n",
      "the cost in 80000 step is 3343.4112057817606\n",
      "the cost in 90000 step is 3338.7535731521043\n",
      "the cost in 100000 step is 3334.8239112069236\n",
      "the cost in 110000 step is 3331.451042581434\n",
      "the cost in 120000 step is 3328.516487313927\n",
      "the cost in 130000 step is 3325.934791665879\n",
      "the cost in 140000 step is 3323.642260327631\n",
      "the cost in 150000 step is 3321.590141850532\n",
      "the cost in 160000 step is 3319.740311377656\n",
      "the cost in 170000 step is 3318.062423498491\n",
      "the cost in 180000 step is 3316.5319681548644\n",
      "the cost in 190000 step is 3315.128902596308\n",
      "the cost in 200000 step is 3313.8366633633846\n",
      "Iteration took 4603.677029 seconds\n"
     ]
    }
   ],
   "source": [
    "import time\n",
    "# calculate weight seperately\n",
    "learning_rate = 0.00002\n",
    "iteration_time = 200001\n",
    "tic = time.time()\n",
    "w0 = JS.gradient_descent1(y0_train, learning_rate, iteration_time)\n",
    "w1 = JS.gradient_descent1(y1_train, learning_rate, iteration_time)\n",
    "w2 = JS.gradient_descent1(y2_train, learning_rate, iteration_time)\n",
    "w3 = JS.gradient_descent1(y3_train, learning_rate, iteration_time)\n",
    "w4 = JS.gradient_descent1(y4_train, learning_rate, iteration_time)\n",
    "w5 = JS.gradient_descent1(y5_train, learning_rate, iteration_time)\n",
    "w6 = JS.gradient_descent1(y6_train, learning_rate, iteration_time)\n",
    "w7 = JS.gradient_descent1(y7_train, learning_rate, iteration_time)\n",
    "w8 = JS.gradient_descent1(y8_train, learning_rate, iteration_time)\n",
    "w9 = JS.gradient_descent1(y9_train, learning_rate, iteration_time)\n",
    "toc = time.time()\n",
    "print('Iteration took %f seconds' %(toc - tic))"
   ]
  },
  {
   "cell_type": "code",
   "execution_count": 0,
   "metadata": {
    "colab": {},
    "colab_type": "code",
    "id": "FWOLB0CSeIyQ"
   },
   "outputs": [],
   "source": [
    "# calculate probability for each category\n",
    "y_pred = []\n",
    "for i in range(np.shape(x_test)[0]):\n",
    "\n",
    "    pred_0 = JS.get_pcx(x_test[i], w0)\n",
    "    pred_1 = JS.get_pcx(x_test[i], w1)\n",
    "    pred_2 = JS.get_pcx(x_test[i], w2)\n",
    "    pred_3 = JS.get_pcx(x_test[i], w3)\n",
    "    pred_4 = JS.get_pcx(x_test[i], w4)\n",
    "    pred_5 = JS.get_pcx(x_test[i], w5)\n",
    "    pred_6 = JS.get_pcx(x_test[i], w6)\n",
    "    pred_7 = JS.get_pcx(x_test[i], w7)\n",
    "    pred_8 = JS.get_pcx(x_test[i], w8)\n",
    "    pred_9 = JS.get_pcx(x_test[i], w9)\n",
    "    pred = [pred_0[0],pred_1[0],pred_2[0],pred_3[0],pred_4[0],\n",
    "            pred_5[0],pred_6[0],pred_7[0],pred_8[0],pred_9[0]]\n",
    "    value = JS.predict_c(pred)\n",
    "    y_pred.append(value)"
   ]
  },
  {
   "cell_type": "code",
   "execution_count": 0,
   "metadata": {
    "colab": {},
    "colab_type": "code",
    "id": "2GXIOQxxeIyS",
    "outputId": "cce49998-7861-4dcd-fb8d-201f10772c4a"
   },
   "outputs": [
    {
     "name": "stdout",
     "output_type": "stream",
     "text": [
      "Got 8775 / 10000 correct\n",
      "Accuracy = 0.877500\n"
     ]
    }
   ],
   "source": [
    "# calculate accuracy\n",
    "num_test = len(y_test)\n",
    "num_correct = np.sum(y_pred == y_test)\n",
    "print('Got %d / %d correct' % (num_correct, num_test))\n",
    "print('Accuracy = %f' % (np.mean(y_test == y_pred)))"
   ]
  },
  {
   "cell_type": "code",
   "execution_count": 0,
   "metadata": {
    "colab": {},
    "colab_type": "code",
    "id": "-NilrkASeIyb",
    "outputId": "efa9e2bb-019b-4543-e971-a5fce54df69a"
   },
   "outputs": [
    {
     "name": "stdout",
     "output_type": "stream",
     "text": [
      "[[ 932    0    2    5    1   13   17    1    8    1]\n",
      " [   0 1098    5    2    0    3    4    3   20    0]\n",
      " [  11   15  877   22   18    9   15    9   53    3]\n",
      " [  13    2   36  854    1   45   11   10   24   14]\n",
      " [   3    4   16    1  888    4   14    8    9   35]\n",
      " [  19    6   11   59   22  674   23   12   53   13]\n",
      " [  20    3    6    2   13   22  879    3   10    0]\n",
      " [   2   14   23    7   13    4    0  915    6   44]\n",
      " [  15   11   17   27   16   32   14   14  818   10]\n",
      " [   8    7    1   14   52    9    4   58   16  840]]\n",
      "              precision    recall  f1-score   support\n",
      "\n",
      "           0      0.911     0.951     0.931       980\n",
      "           1      0.947     0.967     0.957      1135\n",
      "           2      0.882     0.850     0.866      1032\n",
      "           3      0.860     0.846     0.853      1010\n",
      "           4      0.867     0.904     0.885       982\n",
      "           5      0.827     0.756     0.790       892\n",
      "           6      0.896     0.918     0.907       958\n",
      "           7      0.886     0.890     0.888      1028\n",
      "           8      0.804     0.840     0.822       974\n",
      "           9      0.875     0.833     0.853      1009\n",
      "\n",
      "   micro avg      0.877     0.877     0.877     10000\n",
      "   macro avg      0.876     0.875     0.875     10000\n",
      "weighted avg      0.877     0.877     0.877     10000\n",
      "\n"
     ]
    }
   ],
   "source": [
    "print(confusion_matrix(y_test, y_pred)) \n",
    "print(classification_report(y_test, y_pred,\n",
    "                            target_names=list(label_dict.values()),digits=3))"
   ]
  },
  {
   "cell_type": "markdown",
   "metadata": {
    "colab_type": "text",
    "id": "3QPJpK6meIyd"
   },
   "source": [
    "# Random Forest"
   ]
  },
  {
   "cell_type": "code",
   "execution_count": 0,
   "metadata": {
    "colab": {},
    "colab_type": "code",
    "id": "hKZprlAHeIye"
   },
   "outputs": [],
   "source": [
    "# download MNIST dataset from keras\n",
    "(x_train, y_train), (x_test, y_test) = tf.keras.datasets.mnist.load_data()\n",
    "# convert data type to float 32\n",
    "x_train=np.float32(x_train)[0:20000]\n",
    "y_train=y_train[0:20000]\n",
    "x_test=np.float32(x_test)\n",
    "x_train = x_train.reshape(np.shape(x_train)[0], 28*28)\n",
    "x_test = x_test.reshape(np.shape(x_test)[0], 28*28)"
   ]
  },
  {
   "cell_type": "code",
   "execution_count": 0,
   "metadata": {
    "colab": {},
    "colab_type": "code",
    "id": "vkGyh8AMGzbA"
   },
   "outputs": [],
   "source": [
    "# Feature Scaling\n",
    "scaler = StandardScaler()\n",
    "x_train = scaler.fit_transform(x_train)\n",
    "x_test = scaler.transform(x_test)"
   ]
  },
  {
   "cell_type": "code",
   "execution_count": 0,
   "metadata": {
    "colab": {},
    "colab_type": "code",
    "id": "e7qGQYXBeIyi"
   },
   "outputs": [],
   "source": [
    "rf = RandomForestClassifier(n_estimators = 200,criterion = 'entropy')"
   ]
  },
  {
   "cell_type": "code",
   "execution_count": 0,
   "metadata": {
    "colab": {},
    "colab_type": "code",
    "id": "5-KjkLk2HB4Z"
   },
   "outputs": [],
   "source": [
    "# Train the model on training data\n",
    "rf.fit(x_train, y_train);"
   ]
  },
  {
   "cell_type": "code",
   "execution_count": 30,
   "metadata": {
    "colab": {
     "base_uri": "https://localhost:8080/",
     "height": 34
    },
    "colab_type": "code",
    "id": "FUFJ89SaeIyk",
    "outputId": "96c75963-478a-4c9e-97e3-5be92215bc62"
   },
   "outputs": [
    {
     "name": "stdout",
     "output_type": "stream",
     "text": [
      "Mean Squared Error: 0.7315\n"
     ]
    }
   ],
   "source": [
    "from sklearn import metrics\n",
    "# Use the forest's predict method on the test data\n",
    "y_pred = rf.predict(x_test)\n",
    "\n",
    "# Print out the mean square error (mse)\n",
    "print('Mean Squared Error:', metrics.mean_squared_error(y_test, y_pred))  "
   ]
  },
  {
   "cell_type": "code",
   "execution_count": 31,
   "metadata": {
    "colab": {
     "base_uri": "https://localhost:8080/",
     "height": 51
    },
    "colab_type": "code",
    "id": "wJ-wcHnueIyp",
    "outputId": "29bf5297-ebf4-41b7-97a7-15aa68782dcd"
   },
   "outputs": [
    {
     "name": "stdout",
     "output_type": "stream",
     "text": [
      "Got 9608 / 10000 correct\n",
      "Accuracy = 0.960800\n"
     ]
    }
   ],
   "source": [
    "# calculate accuracy\n",
    "acc=rf.score(x_test, y_test)\n",
    "num_test = len(y_test)\n",
    "num_correct = np.sum(y_pred == y_test)\n",
    "print('Got %d / %d correct' % (num_correct, num_test))\n",
    "print('Accuracy = %f' % (acc))"
   ]
  },
  {
   "cell_type": "code",
   "execution_count": 25,
   "metadata": {
    "colab": {
     "base_uri": "https://localhost:8080/",
     "height": 221
    },
    "colab_type": "code",
    "id": "k9ClVKt9eIyr",
    "outputId": "635e0045-df45-4012-dada-30c3f15cc29f"
   },
   "outputs": [
    {
     "name": "stdout",
     "output_type": "stream",
     "text": [
      "Accuracy on training set: 0.7432\n",
      "Accuracy on test set: 0.7471\n",
      "Accuracy on training set: 0.9260\n",
      "Accuracy on test set: 0.9168\n",
      "Accuracy on training set: 0.9841\n",
      "Accuracy on test set: 0.9469\n",
      "Accuracy on training set: 0.9988\n",
      "Accuracy on test set: 0.9580\n",
      "Accuracy on training set: 0.9999\n",
      "Accuracy on test set: 0.9573\n",
      "Accuracy on training set: 1.0000\n",
      "Accuracy on test set: 0.9593\n"
     ]
    }
   ],
   "source": [
    "md = [3,7,10,13,16,20]\n",
    "for i in range(len(md)):\n",
    "    rf1 = RandomForestClassifier(max_depth=md[i], \n",
    "                                 n_estimators=200,criterion = 'entropy')\n",
    "    rf1.fit(x_train, y_train)\n",
    "    print(\"Accuracy on training set: {:.4f}\".format(\n",
    "        rf1.score(x_train, y_train)))\n",
    "    print(\"Accuracy on test set: {:.4f}\".format(rf1.score(x_test, y_test)))"
   ]
  },
  {
   "cell_type": "code",
   "execution_count": 0,
   "metadata": {
    "colab": {
     "base_uri": "https://localhost:8080/",
     "height": 34
    },
    "colab_type": "code",
    "id": "ddL2DTLcITlD",
    "outputId": "f24c31fe-0ff9-4753-8183-c2a66fbe3170"
   },
   "outputs": [
    {
     "name": "stdout",
     "output_type": "stream",
     "text": [
      "Accuracy = 0.960000\n"
     ]
    }
   ],
   "source": [
    "rf2 = RandomForestClassifier(max_depth=20, n_estimators=200,criterion = 'entropy')\n",
    "rf2.fit(x_train, y_train)\n",
    "y_pred = rf2.predict(x_test)\n",
    "acc=rf2.score(x_test, y_test)\n",
    "print('Accuracy = %f' % (acc))"
   ]
  },
  {
   "cell_type": "code",
   "execution_count": 32,
   "metadata": {
    "colab": {
     "base_uri": "https://localhost:8080/",
     "height": 476
    },
    "colab_type": "code",
    "id": "9Xg_6OyceIyu",
    "outputId": "956d6c77-98f5-4bb0-bff5-55fd1139556e"
   },
   "outputs": [
    {
     "name": "stdout",
     "output_type": "stream",
     "text": [
      "[[ 968    0    0    0    0    4    4    1    3    0]\n",
      " [   0 1122    3    3    0    2    2    1    2    0]\n",
      " [   6    0  987   10    3    0    7   11    7    1]\n",
      " [   1    0   11  968    0   10    0    9    7    4]\n",
      " [   1    0    2    0  944    0    8    0    3   24]\n",
      " [   5    1    0   22    3  843    8    2    6    2]\n",
      " [  11    3    0    0    7    4  931    0    2    0]\n",
      " [   1    6   24    1    3    0    0  979    4   10]\n",
      " [   5    1    6    6    5    6    9    5  917   14]\n",
      " [   5    6    3   14   15    4    2    3    8  949]]\n",
      "              precision    recall  f1-score   support\n",
      "\n",
      "           0      0.965     0.988     0.976       980\n",
      "           1      0.985     0.989     0.987      1135\n",
      "           2      0.953     0.956     0.955      1032\n",
      "           3      0.945     0.958     0.952      1010\n",
      "           4      0.963     0.961     0.962       982\n",
      "           5      0.966     0.945     0.955       892\n",
      "           6      0.959     0.972     0.965       958\n",
      "           7      0.968     0.952     0.960      1028\n",
      "           8      0.956     0.941     0.949       974\n",
      "           9      0.945     0.941     0.943      1009\n",
      "\n",
      "   micro avg      0.961     0.961     0.961     10000\n",
      "   macro avg      0.961     0.960     0.960     10000\n",
      "weighted avg      0.961     0.961     0.961     10000\n",
      "\n"
     ]
    }
   ],
   "source": [
    "print(confusion_matrix(y_test, y_pred)) \n",
    "print(classification_report(y_test, y_pred,\n",
    "                            target_names=list(label_dict.values()),digits=3))"
   ]
  },
  {
   "cell_type": "markdown",
   "metadata": {
    "colab_type": "text",
    "id": "SEbsU8FDeIyw"
   },
   "source": [
    "# PCA + Random Forest\n",
    "## PCA Class"
   ]
  },
  {
   "cell_type": "code",
   "execution_count": 0,
   "metadata": {
    "colab": {},
    "colab_type": "code",
    "id": "IequJO5OeIyx"
   },
   "outputs": [],
   "source": [
    "# download MNIST dataset from keras\n",
    "(x_train, y_train), (x_test, y_test) = tf.keras.datasets.mnist.load_data()\n",
    "# convert data type to float 32\n",
    "x_train=np.float32(x_train)\n",
    "x_test=np.float32(x_test)\n",
    "x_train = x_train.reshape(np.shape(x_train)[0], 28*28)/255.0\n",
    "x_test = x_test.reshape(np.shape(x_test)[0], 28*28)/255.0"
   ]
  },
  {
   "cell_type": "code",
   "execution_count": 0,
   "metadata": {
    "colab": {},
    "colab_type": "code",
    "id": "GRAfYjHSHhxP"
   },
   "outputs": [],
   "source": [
    "# stack them as a big one for dimension deduction\n",
    "big_X=np.vstack((x_train,x_test))"
   ]
  },
  {
   "cell_type": "code",
   "execution_count": 0,
   "metadata": {
    "colab": {},
    "colab_type": "code",
    "id": "AluRCwncHhzw"
   },
   "outputs": [],
   "source": [
    "# build PCA class\n",
    "class SJPCA(object):\n",
    "    def __init__(self):\n",
    "        pass\n",
    "\n",
    "    def train(self, X):\n",
    "        self.x_train = X\n",
    "    \n",
    "    def compute_mean_covar_eigen(self):\n",
    "        # get average image and get mean image by summing each row\n",
    "        tr_mean = np.mean(self.x_train, axis=0)\n",
    "        tr_mean = np.reshape(tr_mean,(1,np.shape(tr_mean)[0]))\n",
    "\n",
    "        # subtract the mean\n",
    "        xtr_m = self.x_train - tr_mean\n",
    "\n",
    "        # calculate covariance matrix\n",
    "        tr_cov = np.dot(xtr_m.T,xtr_m)\n",
    "        \n",
    "        # get eigenvalue and eigenvector\n",
    "        tr_val, tr_vec = eig(tr_cov)\n",
    "        \n",
    "        return xtr_m, tr_cov, tr_val, tr_vec\n",
    "    \n",
    "    def get_comp_K(self,tr_val, threshold):\n",
    "        cum_lambda = np.cumsum(tr_val)\n",
    "        total_lamda = cum_lambda[-1]\n",
    "        \n",
    "        # get the principal component number that we want to keep\n",
    "        for keep_dim in range(len(tr_val)):\n",
    "            rate = cum_lambda[keep_dim]/total_lamda\n",
    "            if rate >= threshold: \n",
    "                return keep_dim\n",
    "                break\n",
    "            else: continue\n",
    "            \n",
    "    def deduct_img(self, tr_vec, keep_dim):\n",
    "        x_proj= np.dot(self.x_train, tr_vec.T[:,0:keep_dim])\n",
    "        return x_proj"
   ]
  },
  {
   "cell_type": "markdown",
   "metadata": {
    "colab_type": "text",
    "id": "XjOPnG8ieIy0"
   },
   "source": [
    "## Retain 90% Eigenvalues"
   ]
  },
  {
   "cell_type": "code",
   "execution_count": 8,
   "metadata": {
    "colab": {
     "base_uri": "https://localhost:8080/",
     "height": 34
    },
    "colab_type": "code",
    "id": "7GdJQWy1eIy1",
    "outputId": "135d16b0-2eec-4a48-d2e8-d8bda74742dd"
   },
   "outputs": [
    {
     "name": "stdout",
     "output_type": "stream",
     "text": [
      "86\n"
     ]
    }
   ],
   "source": [
    "# Deduct Training Set\n",
    "SJ = SJPCA()\n",
    "SJ.train(big_X)\n",
    "xtr_m, tr_cov, tr_val, tr_vec = SJ.compute_mean_covar_eigen()\n",
    "keep_dim = SJ.get_comp_K(tr_val, 0.90)\n",
    "new_big_X = SJ.deduct_img(tr_vec, keep_dim)\n",
    "print(keep_dim)"
   ]
  },
  {
   "cell_type": "code",
   "execution_count": 0,
   "metadata": {
    "colab": {},
    "colab_type": "code",
    "id": "62xHbqF8eIy2"
   },
   "outputs": [],
   "source": [
    "# resplit the dataset and normalize them with min-max normalization\n",
    "x_train = new_big_X[0:60000,:]\n",
    "x_test = new_big_X[60000:70000,:]\n",
    "scaler = StandardScaler()\n",
    "x_train = scaler.fit_transform(x_train)\n",
    "x_test = scaler.transform(x_test)"
   ]
  },
  {
   "cell_type": "code",
   "execution_count": 10,
   "metadata": {
    "colab": {
     "base_uri": "https://localhost:8080/",
     "height": 34
    },
    "colab_type": "code",
    "id": "ZMr8IY_iH54k",
    "outputId": "249224bf-b26c-4e77-d5e6-c81a1071d05a"
   },
   "outputs": [
    {
     "name": "stdout",
     "output_type": "stream",
     "text": [
      "Mean Squared Error: 3.2954\n"
     ]
    }
   ],
   "source": [
    "rf = RandomForestClassifier(n_estimators = 200,criterion = 'entropy')\n",
    "# Train the model on training data\n",
    "rf.fit(x_train[0:20000,], y_train[0:20000,])\n",
    "from sklearn import metrics\n",
    "# Use the forest's predict method on the test data\n",
    "y_pred = rf.predict(x_test[0:20000,])\n",
    "\n",
    "# Print out the mean square error (mse)\n",
    "print('Mean Squared Error:', metrics.mean_squared_error(y_test, y_pred))  "
   ]
  },
  {
   "cell_type": "code",
   "execution_count": 11,
   "metadata": {
    "colab": {
     "base_uri": "https://localhost:8080/",
     "height": 51
    },
    "colab_type": "code",
    "id": "q5za5_GZH57D",
    "outputId": "3231a3e4-b9a0-4f10-c04d-a5c4ffdee539"
   },
   "outputs": [
    {
     "name": "stdout",
     "output_type": "stream",
     "text": [
      "Got 7912 / 10000 correct\n",
      "Accuracy = 0.791200\n"
     ]
    }
   ],
   "source": [
    " # calculate accuracy\n",
    "acc=rf.score(x_test, y_test)\n",
    "num_test = len(y_test)\n",
    "num_correct = np.sum(y_pred == y_test)\n",
    "print('Got %d / %d correct' % (num_correct, num_test))\n",
    "print('Accuracy = %f' % (acc))"
   ]
  },
  {
   "cell_type": "code",
   "execution_count": 12,
   "metadata": {
    "colab": {
     "base_uri": "https://localhost:8080/",
     "height": 221
    },
    "colab_type": "code",
    "id": "5x1MHXBFeIy3",
    "outputId": "74ade9e9-68d8-4d47-8add-94253f3cf118"
   },
   "outputs": [
    {
     "name": "stdout",
     "output_type": "stream",
     "text": [
      "Accuracy on training set: 0.506\n",
      "Accuracy on test set: 0.503\n",
      "Accuracy on training set: 0.700\n",
      "Accuracy on test set: 0.670\n",
      "Accuracy on training set: 0.859\n",
      "Accuracy on test set: 0.737\n",
      "Accuracy on training set: 0.979\n",
      "Accuracy on test set: 0.773\n",
      "Accuracy on training set: 0.998\n",
      "Accuracy on test set: 0.787\n",
      "Accuracy on training set: 1.000\n",
      "Accuracy on test set: 0.788\n"
     ]
    }
   ],
   "source": [
    "md = [3,7,10,13,16,20]\n",
    "for i in range(len(md)):\n",
    "    rf1 = RandomForestClassifier(max_depth=md[i], \n",
    "                                 n_estimators=200,criterion = 'entropy')\n",
    "    rf1.fit(x_train[0:20000,], y_train[0:20000,])\n",
    "    print(\"Accuracy on training set: {:.3f}\".format(rf1.score(\n",
    "          x_train[0:20000,], y_train[0:20000,])))\n",
    "    print(\"Accuracy on test set: {:.3f}\".format(rf1.score(x_test, y_test)))"
   ]
  },
  {
   "cell_type": "code",
   "execution_count": 0,
   "metadata": {
    "colab": {
     "base_uri": "https://localhost:8080/",
     "height": 476
    },
    "colab_type": "code",
    "id": "iVuApmlxH-rh",
    "outputId": "7015bf14-89b2-4d7f-da62-cf4b89bb5505"
   },
   "outputs": [
    {
     "name": "stdout",
     "output_type": "stream",
     "text": [
      "[[ 848    0   16   13    2   12   56    0   33    0]\n",
      " [   0 1089   13    2    4    0   10    1   16    0]\n",
      " [  34    9  817   24    5    6   67    4   66    0]\n",
      " [  27    1   36  778   13   57   27   12   49   10]\n",
      " [   0   20   19    3  819    1   16   18    5   81]\n",
      " [  33    5   33  241   18  439   30    6   78    9]\n",
      " [  20    4   37    0   15   11  846    0   25    0]\n",
      " [   0   26    4    2   54    0    5  818   10  109]\n",
      " [  62   14   16   38    7   24   21    9  777    6]\n",
      " [   4    6   10   17  113    9    0  170    6  674]]\n",
      "              precision    recall  f1-score   support\n",
      "\n",
      "           0      0.825     0.865     0.845       980\n",
      "           1      0.928     0.959     0.943      1135\n",
      "           2      0.816     0.792     0.804      1032\n",
      "           3      0.696     0.770     0.731      1010\n",
      "           4      0.780     0.834     0.806       982\n",
      "           5      0.785     0.492     0.605       892\n",
      "           6      0.785     0.883     0.831       958\n",
      "           7      0.788     0.796     0.792      1028\n",
      "           8      0.730     0.798     0.762       974\n",
      "           9      0.758     0.668     0.710      1009\n",
      "\n",
      "   micro avg      0.790     0.790     0.790     10000\n",
      "   macro avg      0.789     0.786     0.783     10000\n",
      "weighted avg      0.791     0.790     0.787     10000\n",
      "\n"
     ]
    }
   ],
   "source": [
    "print(confusion_matrix(y_test, y_pred)) \n",
    "print(classification_report(y_test, y_pred,\n",
    "                            target_names=list(label_dict.values()),digits=3))"
   ]
  },
  {
   "cell_type": "markdown",
   "metadata": {
    "colab_type": "text",
    "id": "GLa4YLAgeIy5"
   },
   "source": [
    "## Retain 95% Eigenvalues"
   ]
  },
  {
   "cell_type": "code",
   "execution_count": 10,
   "metadata": {
    "colab": {
     "base_uri": "https://localhost:8080/",
     "height": 34
    },
    "colab_type": "code",
    "id": "tLvhzIdxeIy5",
    "outputId": "226bf67a-ab4e-4ab9-a21e-3e7309dca4e2"
   },
   "outputs": [
    {
     "name": "stdout",
     "output_type": "stream",
     "text": [
      "153\n"
     ]
    }
   ],
   "source": [
    "# Deduct Training Set\n",
    "SJ = SJPCA()\n",
    "SJ.train(big_X)\n",
    "xtr_m, tr_cov, tr_val, tr_vec = SJ.compute_mean_covar_eigen()\n",
    "keep_dim = SJ.get_comp_K(tr_val, 0.95)\n",
    "new_big_X = SJ.deduct_img(tr_vec, keep_dim)\n",
    "print(keep_dim)"
   ]
  },
  {
   "cell_type": "code",
   "execution_count": 0,
   "metadata": {
    "colab": {},
    "colab_type": "code",
    "id": "MAingGHlIwpB"
   },
   "outputs": [],
   "source": [
    "# resplit the dataset and normalize them with min-max normalization\n",
    "x_train = new_big_X[0:60000,:]\n",
    "x_test = new_big_X[60000:70000,:]\n",
    "\n",
    "scaler = StandardScaler()\n",
    "x_train = scaler.fit_transform(x_train)\n",
    "x_test = scaler.transform(x_test)"
   ]
  },
  {
   "cell_type": "code",
   "execution_count": 12,
   "metadata": {
    "colab": {
     "base_uri": "https://localhost:8080/",
     "height": 34
    },
    "colab_type": "code",
    "id": "X362L8y-eIy6",
    "outputId": "ba1c8a93-9dce-4cfc-bb7e-b51dca6842eb"
   },
   "outputs": [
    {
     "name": "stdout",
     "output_type": "stream",
     "text": [
      "Mean Squared Error: 1.7849\n"
     ]
    }
   ],
   "source": [
    "rf = RandomForestClassifier(n_estimators = 200,criterion = 'entropy')\n",
    "# Train the model on training data\n",
    "rf.fit(x_train[0:20000,], y_train[0:20000,])\n",
    "from sklearn import metrics\n",
    "# Use the forest's predict method on the test data\n",
    "y_pred = rf.predict(x_test[0:20000,])\n",
    "\n",
    "# Print out the mean square error (mse)\n",
    "print('Mean Squared Error:', metrics.mean_squared_error(y_test, y_pred))  "
   ]
  },
  {
   "cell_type": "code",
   "execution_count": 14,
   "metadata": {
    "colab": {
     "base_uri": "https://localhost:8080/",
     "height": 51
    },
    "colab_type": "code",
    "id": "c6dYa8PvIwtc",
    "outputId": "1ecb4931-be36-4e67-ed9a-db20d0e65c18"
   },
   "outputs": [
    {
     "name": "stdout",
     "output_type": "stream",
     "text": [
      "Got 8928 / 10000 correct\n",
      "Accuracy = 0.892800\n"
     ]
    }
   ],
   "source": [
    " # calculate accuracy\n",
    "acc=rf.score(x_test, y_test)\n",
    "num_test = len(y_test)\n",
    "num_correct = np.sum(y_pred == y_test)\n",
    "print('Got %d / %d correct' % (num_correct, num_test))\n",
    "print('Accuracy = %f' % (acc))"
   ]
  },
  {
   "cell_type": "code",
   "execution_count": 16,
   "metadata": {
    "colab": {
     "base_uri": "https://localhost:8080/",
     "height": 221
    },
    "colab_type": "code",
    "id": "Q04oiKkbIwwG",
    "outputId": "c3b0f212-f515-46f9-ddc3-84a9c00cdc78"
   },
   "outputs": [
    {
     "name": "stdout",
     "output_type": "stream",
     "text": [
      "Accuracy on training set: 0.628\n",
      "Accuracy on test set: 0.621\n",
      "Accuracy on training set: 0.822\n",
      "Accuracy on test set: 0.798\n",
      "Accuracy on training set: 0.956\n",
      "Accuracy on test set: 0.864\n",
      "Accuracy on training set: 0.999\n",
      "Accuracy on test set: 0.885\n",
      "Accuracy on training set: 1.000\n",
      "Accuracy on test set: 0.892\n",
      "Accuracy on training set: 1.000\n",
      "Accuracy on test set: 0.891\n"
     ]
    }
   ],
   "source": [
    "md = [3,7,10,13,16,20]\n",
    "for i in range(len(md)):\n",
    "    rf1 = RandomForestClassifier(max_depth=md[i], \n",
    "                                 n_estimators=200,criterion = 'entropy')\n",
    "    rf1.fit(x_train[0:20000,], y_train[0:20000,])\n",
    "    print(\"Accuracy on training set: {:.3f}\".format(rf1.score(\n",
    "         x_train[0:20000,], y_train[0:20000,])))\n",
    "    print(\"Accuracy on test set: {:.3f}\".format(rf1.score(x_test, y_test)))"
   ]
  },
  {
   "cell_type": "code",
   "execution_count": 15,
   "metadata": {
    "colab": {
     "base_uri": "https://localhost:8080/",
     "height": 476
    },
    "colab_type": "code",
    "id": "x8h2QhUSJGyo",
    "outputId": "55013376-09b7-4bfc-f919-e0441948cb35"
   },
   "outputs": [
    {
     "name": "stdout",
     "output_type": "stream",
     "text": [
      "[[ 908    0    7    3    1    5   44    1   11    0]\n",
      " [   0 1111    5    3    2    1    5    0    8    0]\n",
      " [  11    3  923   19   10    1   27    7   31    0]\n",
      " [  12    0   21  884    5   37   19   11   16    5]\n",
      " [   0    4   10    0  899    1    8   10    4   46]\n",
      " [  25    3    6   73   18  688   26    5   34   14]\n",
      " [  21    1   15    1   12    7  879    1   21    0]\n",
      " [   0   12   12    0   32    0    3  912   10   47]\n",
      " [  18    2   12   21    6   30   16    5  857    7]\n",
      " [   4    7    2   21   73    4    1   27    3  867]]\n",
      "              precision    recall  f1-score   support\n",
      "\n",
      "           0      0.909     0.927     0.918       980\n",
      "           1      0.972     0.979     0.975      1135\n",
      "           2      0.911     0.894     0.903      1032\n",
      "           3      0.862     0.875     0.869      1010\n",
      "           4      0.850     0.915     0.881       982\n",
      "           5      0.889     0.771     0.826       892\n",
      "           6      0.855     0.918     0.885       958\n",
      "           7      0.932     0.887     0.909      1028\n",
      "           8      0.861     0.880     0.870       974\n",
      "           9      0.879     0.859     0.869      1009\n",
      "\n",
      "   micro avg      0.893     0.893     0.893     10000\n",
      "   macro avg      0.892     0.891     0.891     10000\n",
      "weighted avg      0.894     0.893     0.892     10000\n",
      "\n"
     ]
    }
   ],
   "source": [
    "print(confusion_matrix(y_test, y_pred)) \n",
    "print(classification_report(y_test, y_pred,\n",
    "                            target_names=list(label_dict.values()),digits=3))"
   ]
  }
 ],
 "metadata": {
  "accelerator": "GPU",
  "colab": {
   "collapsed_sections": [],
   "name": "Methods_Comparison_via_Handwritten_Recognition_Dataset.ipynb",
   "provenance": [],
   "version": "0.3.2"
  },
  "kernelspec": {
   "display_name": "Python 3",
   "language": "python",
   "name": "python3"
  },
  "language_info": {
   "codemirror_mode": {
    "name": "ipython",
    "version": 3
   },
   "file_extension": ".py",
   "mimetype": "text/x-python",
   "name": "python",
   "nbconvert_exporter": "python",
   "pygments_lexer": "ipython3",
   "version": "3.6.7"
  }
 },
 "nbformat": 4,
 "nbformat_minor": 1
}
