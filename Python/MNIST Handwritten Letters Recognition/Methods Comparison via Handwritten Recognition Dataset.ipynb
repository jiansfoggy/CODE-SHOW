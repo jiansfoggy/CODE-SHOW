{
 "cells": [
  {
   "cell_type": "markdown",
   "metadata": {},
   "source": [
    "# Content\n",
    "- Introduction\n",
    "- Results\n",
    " * results for LDA\n",
    " * results for SVM, Linear Kernel\n",
    " * results for SVM, RBF Kernel\n",
    " * results for PCA + BDR, 90% Eigenvalues\n",
    " * results for PCA + BDR, 95% Eigenvalues\n",
    " * results for PCA + KNN, 90% Eigenvalues\n",
    " * results for PCA + KNN, 95% Eigenvalues\n",
    " * results for PCA + SVM, 90% Eigenvalues\n",
    "  * Linear Kernel\n",
    "  * RBF Kernel\n",
    " * results for PCA + SVM, 95% Eigenvalues\n",
    "  * Linear Kernel\n",
    "  * RBF Kernel\n",
    "- Discussion\n",
    "- Conclusion\n",
    "- Appendix"
   ]
  },
  {
   "cell_type": "markdown",
   "metadata": {},
   "source": [
    "# Introduction\n",
    "In this project, we utilize 5 machine learning models, Linear Discriminant Analysis(LDA), Support Vector Machine(SVM), Principal Component Analysis(PCA) + Bayesian Decision Rule(BDR), PCA + K-Nearest Neighbor(KNN) and PCA + SVM(Linear and RBF kernel), to recognize handwritten digits from MNIST dataset.  \n",
    "The dataset is downloaded from tensorflow keras package. It consists of 60000 images for training set and 10000 images for testing set.  Additionally, it has 10 categories, from 0 to 9.  \n",
    "This project proposes to compare different methods, draw a conclusion and share using experience."
   ]
  },
  {
   "cell_type": "markdown",
   "metadata": {},
   "source": [
    "# Results\n",
    "## Results for LDA"
   ]
  },
  {
   "cell_type": "code",
   "execution_count": 10,
   "metadata": {},
   "outputs": [
    {
     "name": "stdout",
     "output_type": "stream",
     "text": [
      "[[ 940    0    1    4    2   13    9    1    9    1]\n",
      " [   0 1096    4    3    2    2    3    0   25    0]\n",
      " [  15   32  816   34   21    5   37    9   57    6]\n",
      " [   5    5   25  883    4   25    3   16   29   15]\n",
      " [   0   12    6    0  888    4    7    2   10   53]\n",
      " [   8    8    4   44   12  735   15   10   38   18]\n",
      " [  12    8   11    0   25   29  857    0   16    0]\n",
      " [   2   30   15    9   22    2    0  864    4   80]\n",
      " [   7   27    8   27   20   53   10    6  790   26]\n",
      " [   9    7    1   13   63    6    0   37   12  861]]\n",
      "              precision    recall  f1-score   support\n",
      "\n",
      "           0      0.942     0.959     0.950       980\n",
      "           1      0.895     0.966     0.929      1135\n",
      "           2      0.916     0.791     0.849      1032\n",
      "           3      0.868     0.874     0.871      1010\n",
      "           4      0.839     0.904     0.870       982\n",
      "           5      0.841     0.824     0.832       892\n",
      "           6      0.911     0.895     0.903       958\n",
      "           7      0.914     0.840     0.876      1028\n",
      "           8      0.798     0.811     0.804       974\n",
      "           9      0.812     0.853     0.832      1009\n",
      "\n",
      "   micro avg      0.873     0.873     0.873     10000\n",
      "   macro avg      0.874     0.872     0.872     10000\n",
      "weighted avg      0.874     0.873     0.873     10000\n",
      "\n"
     ]
    },
    {
     "data": {
      "image/png": "[encoded data removed]",
      "text/plain": [
       "<Figure size 576x576 with 2 Axes>"
      ]
     },
     "metadata": {
      "needs_background": "light"
     },
     "output_type": "display_data"
    }
   ],
   "source": [
    "print(confusion_matrix(y_test, y_pred)) \n",
    "print(classification_report(y_test, y_pred,\n",
    "                            target_names=list(label_dict.values()),digits=3))\n",
    "plt.figure(figsize=(8,8))\n",
    "cnf_matrix = confusion_matrix(y_test, y_pred)\n",
    "classes = list(label_dict.values())\n",
    "plt.imshow(cnf_matrix, interpolation='nearest')\n",
    "plt.colorbar()\n",
    "tick_marks = np.arange(len(classes))\n",
    "_ = plt.xticks(tick_marks, classes, rotation=90)\n",
    "_ = plt.yticks(tick_marks, classes)"
   ]
  },
  {
   "cell_type": "markdown",
   "metadata": {},
   "source": [
    "## Results for SVM\n",
    "### Linear Kernel"
   ]
  },
  {
   "cell_type": "code",
   "execution_count": 15,
   "metadata": {},
   "outputs": [
    {
     "name": "stdout",
     "output_type": "stream",
     "text": [
      "[[ 962    0    0    1    0    9    5    1    1    1]\n",
      " [   0 1119    2    3    0    3    2    0    5    1]\n",
      " [   8    2  944    7   14    4   14   12   25    2]\n",
      " [   2    2   17  930    1   24    1   10   16    7]\n",
      " [   1    0    5    0  931    1   10    2    2   30]\n",
      " [   7    4    4   37    5  800   13    2   15    5]\n",
      " [  10    3    5    1    7    9  922    0    1    0]\n",
      " [   2   11   23    4    8    1    0  955    4   20]\n",
      " [   4    6   10   17    8   31   11    7  873    7]\n",
      " [   7    6    1    8   39    9    1   19    2  917]]\n",
      "              precision    recall  f1-score   support\n",
      "\n",
      "           0      0.959     0.982     0.970       980\n",
      "           1      0.971     0.986     0.978      1135\n",
      "           2      0.934     0.915     0.924      1032\n",
      "           3      0.923     0.921     0.922      1010\n",
      "           4      0.919     0.948     0.933       982\n",
      "           5      0.898     0.897     0.897       892\n",
      "           6      0.942     0.962     0.952       958\n",
      "           7      0.947     0.929     0.938      1028\n",
      "           8      0.925     0.896     0.910       974\n",
      "           9      0.926     0.909     0.917      1009\n",
      "\n",
      "   micro avg      0.935     0.935     0.935     10000\n",
      "   macro avg      0.934     0.934     0.934     10000\n",
      "weighted avg      0.935     0.935     0.935     10000\n",
      "\n"
     ]
    },
    {
     "data": {
      "image/png": "[encoded data removed]",
      "text/plain": [
       "<Figure size 576x576 with 2 Axes>"
      ]
     },
     "metadata": {
      "needs_background": "light"
     },
     "output_type": "display_data"
    }
   ],
   "source": [
    "print(confusion_matrix(y_test, y_pred)) \n",
    "print(classification_report(y_test, y_pred,\n",
    "                            target_names=list(label_dict.values()),digits=3))\n",
    "plt.figure(figsize=(8,8))\n",
    "cnf_matrix = confusion_matrix(y_test, y_pred)\n",
    "classes = list(label_dict.values())\n",
    "plt.imshow(cnf_matrix, interpolation='nearest')\n",
    "plt.colorbar()\n",
    "tick_marks = np.arange(len(classes))\n",
    "_ = plt.xticks(tick_marks, classes, rotation=90)\n",
    "_ = plt.yticks(tick_marks, classes)"
   ]
  },
  {
   "cell_type": "markdown",
   "metadata": {},
   "source": [
    "### RBF Kernel"
   ]
  },
  {
   "cell_type": "code",
   "execution_count": 11,
   "metadata": {},
   "outputs": [
    {
     "name": "stdout",
     "output_type": "stream",
     "text": [
      "[[ 961    0    3    1    0    7    6    1    1    0]\n",
      " [   0 1124    3    0    1    3    2    1    1    0]\n",
      " [   5    3  992    1    2    4    5   10    6    4]\n",
      " [   2    1   12  958    3   12    0    8    7    7]\n",
      " [   2    0    5    0  950    0    5    2    2   16]\n",
      " [   6    1    2   21    2  838    9    2    6    5]\n",
      " [   8    3    5    0    4   10  927    0    1    0]\n",
      " [   2   12   17    6    8    0    0  963    0   20]\n",
      " [   3    3    3   15    5   17    3    4  912    9]\n",
      " [   4    5    0    7   20    6    0   11    1  955]]\n",
      "              precision    recall  f1-score   support\n",
      "\n",
      "           0      0.968     0.981     0.974       980\n",
      "           1      0.976     0.990     0.983      1135\n",
      "           2      0.952     0.961     0.957      1032\n",
      "           3      0.949     0.949     0.949      1010\n",
      "           4      0.955     0.967     0.961       982\n",
      "           5      0.934     0.939     0.937       892\n",
      "           6      0.969     0.968     0.968       958\n",
      "           7      0.961     0.937     0.949      1028\n",
      "           8      0.973     0.936     0.954       974\n",
      "           9      0.940     0.946     0.943      1009\n",
      "\n",
      "   micro avg      0.958     0.958     0.958     10000\n",
      "   macro avg      0.958     0.957     0.958     10000\n",
      "weighted avg      0.958     0.958     0.958     10000\n",
      "\n"
     ]
    },
    {
     "data": {
      "image/png": "[encoded data removed]",
      "text/plain": [
       "<Figure size 576x576 with 2 Axes>"
      ]
     },
     "metadata": {
      "needs_background": "light"
     },
     "output_type": "display_data"
    }
   ],
   "source": [
    "print(confusion_matrix(y_test, y_pred)) \n",
    "print(classification_report(y_test, y_pred,\n",
    "                            target_names=list(label_dict.values()),digits=3))\n",
    "plt.figure(figsize=(8,8))\n",
    "cnf_matrix = confusion_matrix(y_test, y_pred)\n",
    "classes = list(label_dict.values())\n",
    "plt.imshow(cnf_matrix, interpolation='nearest')\n",
    "plt.colorbar()\n",
    "tick_marks = np.arange(len(classes))\n",
    "_ = plt.xticks(tick_marks, classes, rotation=90)\n",
    "_ = plt.yticks(tick_marks, classes)"
   ]
  },
  {
   "cell_type": "markdown",
   "metadata": {},
   "source": [
    "## Result for PCA + BDR, 90% Eigenvalues"
   ]
  },
  {
   "cell_type": "code",
   "execution_count": 185,
   "metadata": {},
   "outputs": [
    {
     "name": "stdout",
     "output_type": "stream",
     "text": [
      "[[485   0  57  22   2 320   1   1  92   0]\n",
      " [  0 678  32  10  10  28   0  43 323  11]\n",
      " [  3   0 850  31   6  59   0   2  75   6]\n",
      " [  0   0  24 588   1 265   0  20  70  42]\n",
      " [  0   0  37   1 675  26   0  19  15 209]\n",
      " [  0   0  11  39   4 722   0  13  60  43]\n",
      " [  7   0 131   2   8 392 344   0  74   0]\n",
      " [  0   0   7   6  33   8   0 816  20 138]\n",
      " [  0   0  18  11   4  81   0  23 810  27]\n",
      " [  0   0   4  16  49  15   0 139   7 779]]\n",
      "              precision    recall  f1-score   support\n",
      "\n",
      "           0      0.980     0.495     0.658       980\n",
      "           1      1.000     0.597     0.748      1135\n",
      "           2      0.726     0.824     0.772      1032\n",
      "           3      0.810     0.582     0.677      1010\n",
      "           4      0.852     0.687     0.761       982\n",
      "           5      0.377     0.809     0.514       892\n",
      "           6      0.997     0.359     0.528       958\n",
      "           7      0.758     0.794     0.776      1028\n",
      "           8      0.524     0.832     0.643       974\n",
      "           9      0.621     0.772     0.688      1009\n",
      "\n",
      "   micro avg      0.675     0.675     0.675     10000\n",
      "   macro avg      0.764     0.675     0.676     10000\n",
      "weighted avg      0.771     0.675     0.680     10000\n",
      "\n"
     ]
    },
    {
     "data": {
      "image/png": "[encoded data removed]",
      "text/plain": [
       "<Figure size 576x576 with 2 Axes>"
      ]
     },
     "metadata": {
      "needs_background": "light"
     },
     "output_type": "display_data"
    }
   ],
   "source": [
    "print(confusion_matrix(y_test, y_pred)) \n",
    "print(classification_report(y_test, y_pred,\n",
    "                            target_names=list(label_dict.values()),digits=3))\n",
    "plt.figure(figsize=(8,8))\n",
    "cnf_matrix = confusion_matrix(y_test, y_pred)\n",
    "classes = list(label_dict.values())\n",
    "plt.imshow(cnf_matrix, interpolation='nearest')\n",
    "plt.colorbar()\n",
    "tick_marks = np.arange(len(classes))\n",
    "_ = plt.xticks(tick_marks, classes, rotation=90)\n",
    "_ = plt.yticks(tick_marks, classes)"
   ]
  },
  {
   "cell_type": "markdown",
   "metadata": {},
   "source": [
    "## Result for PCA + BDR, 95% Eigenvalues"
   ]
  },
  {
   "cell_type": "code",
   "execution_count": 163,
   "metadata": {},
   "outputs": [
    {
     "name": "stdout",
     "output_type": "stream",
     "text": [
      "[[636   0  74  15   6 195  12   1  41   0]\n",
      " [  0 895  62   7  11   0   0   6 154   0]\n",
      " [  0   0 964  24   7   3   0   3  28   3]\n",
      " [  0   0  23 865   1  48   1  11  36  25]\n",
      " [  0   0  41   2 821   1   0  18  13  86]\n",
      " [  1   0  16  31   4 783   4  14  25  14]\n",
      " [  0   0  43   1   7  45 836   0  26   0]\n",
      " [  0   0   8   7  52   5   0 886  13  57]\n",
      " [  1   0  26  20   5  19   3  14 873  13]\n",
      " [  0   0   7  10  57  19   0  55  11 850]]\n",
      "              precision    recall  f1-score   support\n",
      "\n",
      "           0      0.997     0.649     0.786       980\n",
      "           1      1.000     0.789     0.882      1135\n",
      "           2      0.763     0.934     0.840      1032\n",
      "           3      0.881     0.856     0.868      1010\n",
      "           4      0.846     0.836     0.841       982\n",
      "           5      0.700     0.878     0.779       892\n",
      "           6      0.977     0.873     0.922       958\n",
      "           7      0.879     0.862     0.870      1028\n",
      "           8      0.716     0.896     0.796       974\n",
      "           9      0.811     0.842     0.826      1009\n",
      "\n",
      "   micro avg      0.841     0.841     0.841     10000\n",
      "   macro avg      0.857     0.842     0.841     10000\n",
      "weighted avg      0.860     0.841     0.842     10000\n",
      "\n"
     ]
    },
    {
     "data": {
      "image/png": "[encoded data removed]",
      "text/plain": [
       "<Figure size 576x576 with 2 Axes>"
      ]
     },
     "metadata": {
      "needs_background": "light"
     },
     "output_type": "display_data"
    }
   ],
   "source": [
    "print(confusion_matrix(y_test, y_pred)) \n",
    "print(classification_report(y_test, y_pred,\n",
    "                            target_names=list(label_dict.values()),digits=3))\n",
    "plt.figure(figsize=(8,8))\n",
    "cnf_matrix = confusion_matrix(y_test, y_pred)\n",
    "classes = list(label_dict.values())\n",
    "plt.imshow(cnf_matrix, interpolation='nearest')\n",
    "plt.colorbar()\n",
    "tick_marks = np.arange(len(classes))\n",
    "_ = plt.xticks(tick_marks, classes, rotation=90)\n",
    "_ = plt.yticks(tick_marks, classes)"
   ]
  },
  {
   "cell_type": "markdown",
   "metadata": {},
   "source": [
    "## Results for PCA + KNN, 90% Eigenvalues"
   ]
  },
  {
   "cell_type": "code",
   "execution_count": 60,
   "metadata": {},
   "outputs": [
    {
     "name": "stdout",
     "output_type": "stream",
     "text": [
      "[[ 892    0    3   20    1   13   38    0   13    0]\n",
      " [   0 1110    7    2    1    1    6    4    2    2]\n",
      " [  25   32  824   29   11   16   49    3   41    2]\n",
      " [  36    1   19  778    5  106   16    6   32   11]\n",
      " [   2   16   22    2  805    5   10   19    5   96]\n",
      " [  34   10    8  205   12  541   18   13   33   18]\n",
      " [  43    5   12    6    5    3  876    0    8    0]\n",
      " [   1   30    6    5   44    5    2  780    6  149]\n",
      " [  50   27   18   31    7   33   33   12  751   12]\n",
      " [   3   13    6   25   87    6    4  183    4  678]]\n",
      "              precision    recall  f1-score   support\n",
      "\n",
      "           0      0.821     0.910     0.864       980\n",
      "           1      0.892     0.978     0.933      1135\n",
      "           2      0.891     0.798     0.842      1032\n",
      "           3      0.705     0.770     0.736      1010\n",
      "           4      0.823     0.820     0.821       982\n",
      "           5      0.742     0.607     0.667       892\n",
      "           6      0.833     0.914     0.872       958\n",
      "           7      0.765     0.759     0.762      1028\n",
      "           8      0.839     0.771     0.804       974\n",
      "           9      0.700     0.672     0.686      1009\n",
      "\n",
      "   micro avg      0.803     0.803     0.803     10000\n",
      "   macro avg      0.801     0.800     0.799     10000\n",
      "weighted avg      0.803     0.803     0.801     10000\n",
      "\n"
     ]
    },
    {
     "data": {
      "image/png": "[encoded data removed]",
      "text/plain": [
       "<Figure size 576x576 with 2 Axes>"
      ]
     },
     "metadata": {
      "needs_background": "light"
     },
     "output_type": "display_data"
    }
   ],
   "source": [
    "print(confusion_matrix(y_test, Y_test_pred))  \n",
    "print(classification_report(y_test, Y_test_pred,\n",
    "                            target_names=list(label_dict.values()),digits=3))\n",
    "plt.figure(figsize=(8,8))\n",
    "cnf_matrix = confusion_matrix(y_test, y_pred)\n",
    "classes = list(label_dict.values())\n",
    "plt.imshow(cnf_matrix, interpolation='nearest')\n",
    "plt.colorbar()\n",
    "tick_marks = np.arange(len(classes))\n",
    "_ = plt.xticks(tick_marks, classes, rotation=90)\n",
    "_ = plt.yticks(tick_marks, classes)"
   ]
  },
  {
   "cell_type": "markdown",
   "metadata": {},
   "source": [
    "## Results for PCA + KNN, 95% Eigenvalues"
   ]
  },
  {
   "cell_type": "code",
   "execution_count": 67,
   "metadata": {},
   "outputs": [
    {
     "name": "stdout",
     "output_type": "stream",
     "text": [
      "[[ 960    0    0    4    0    0   12    0    4    0]\n",
      " [   0 1125    4    2    0    1    1    1    1    0]\n",
      " [  17   11  952   11    5    4    9    7   13    3]\n",
      " [  14    2   10  899    2   55    1    4   13   10]\n",
      " [   1    9    5    0  887    0    7   10    0   63]\n",
      " [  14    5    1   92    7  731   12    4   16   10]\n",
      " [  20    4    2    1    6    3  920    0    2    0]\n",
      " [   0   27    9    0   18    0    1  925    1   47]\n",
      " [  26    8    6   13    4   20   10    6  872    9]\n",
      " [   4   10    4   18   34    6    2   54    2  875]]\n",
      "              precision    recall  f1-score   support\n",
      "\n",
      "           0      0.909     0.980     0.943       980\n",
      "           1      0.937     0.991     0.963      1135\n",
      "           2      0.959     0.922     0.940      1032\n",
      "           3      0.864     0.890     0.877      1010\n",
      "           4      0.921     0.903     0.912       982\n",
      "           5      0.891     0.820     0.854       892\n",
      "           6      0.944     0.960     0.952       958\n",
      "           7      0.915     0.900     0.907      1028\n",
      "           8      0.944     0.895     0.919       974\n",
      "           9      0.860     0.867     0.864      1009\n",
      "\n",
      "   micro avg      0.915     0.915     0.915     10000\n",
      "   macro avg      0.914     0.913     0.913     10000\n",
      "weighted avg      0.915     0.915     0.914     10000\n",
      "\n"
     ]
    },
    {
     "data": {
      "image/png": "[encoded data removed]",
      "text/plain": [
       "<Figure size 576x576 with 2 Axes>"
      ]
     },
     "metadata": {
      "needs_background": "light"
     },
     "output_type": "display_data"
    }
   ],
   "source": [
    "print(confusion_matrix(y_test, Y_test_pred))  \n",
    "print(classification_report(y_test, Y_test_pred,\n",
    "                            target_names=list(label_dict.values()),digits=3))\n",
    "plt.figure(figsize=(8,8))\n",
    "cnf_matrix = confusion_matrix(y_test, y_pred)\n",
    "classes = list(label_dict.values())\n",
    "plt.imshow(cnf_matrix, interpolation='nearest')\n",
    "plt.colorbar()\n",
    "tick_marks = np.arange(len(classes))\n",
    "_ = plt.xticks(tick_marks, classes, rotation=90)\n",
    "_ = plt.yticks(tick_marks, classes)"
   ]
  },
  {
   "cell_type": "markdown",
   "metadata": {},
   "source": [
    "## Results for PCA + SVM, 90% Eigenvalues\n",
    "### Linear Kernel"
   ]
  },
  {
   "cell_type": "code",
   "execution_count": 66,
   "metadata": {},
   "outputs": [
    {
     "name": "stdout",
     "output_type": "stream",
     "text": [
      "[[ 850    1    7   18    6   54   32    0   12    0]\n",
      " [   0 1080   17    5    5    6    3    2   17    0]\n",
      " [  15   23  814   35   19   32   33    3   55    3]\n",
      " [  25    2   38  755    6  116   10    9   33   16]\n",
      " [   4    7   18    4  816   18   13   20    6   76]\n",
      " [  38   20   33  138   26  562   18    6   29   22]\n",
      " [  27    7   26    1   22   19  851    0    5    0]\n",
      " [   0   18   14   10   39   11    5  780    9  142]\n",
      " [  75   21   26   45   20   55   25   11  691    5]\n",
      " [   4    7    3   20   90   23    1  126    4  731]]\n",
      "              precision    recall  f1-score   support\n",
      "\n",
      "           0      0.819     0.867     0.842       980\n",
      "           1      0.911     0.952     0.931      1135\n",
      "           2      0.817     0.789     0.803      1032\n",
      "           3      0.732     0.748     0.740      1010\n",
      "           4      0.778     0.831     0.804       982\n",
      "           5      0.627     0.630     0.629       892\n",
      "           6      0.859     0.888     0.873       958\n",
      "           7      0.815     0.759     0.786      1028\n",
      "           8      0.803     0.709     0.753       974\n",
      "           9      0.735     0.724     0.730      1009\n",
      "\n",
      "   micro avg      0.793     0.793     0.793     10000\n",
      "   macro avg      0.790     0.790     0.789     10000\n",
      "weighted avg      0.793     0.793     0.792     10000\n",
      "\n"
     ]
    },
    {
     "data": {
      "image/png": "[encoded data removed]",
      "text/plain": [
       "<Figure size 576x576 with 2 Axes>"
      ]
     },
     "metadata": {
      "needs_background": "light"
     },
     "output_type": "display_data"
    }
   ],
   "source": [
    "print(confusion_matrix(y_test, y_pred)) \n",
    "print(classification_report(y_test, y_pred,\n",
    "                            target_names=list(label_dict.values()),digits=3))\n",
    "plt.figure(figsize=(8,8))\n",
    "cnf_matrix = confusion_matrix(y_test, y_pred)\n",
    "classes = list(label_dict.values())\n",
    "plt.imshow(cnf_matrix, interpolation='nearest')\n",
    "plt.colorbar()\n",
    "tick_marks = np.arange(len(classes))\n",
    "_ = plt.xticks(tick_marks, classes, rotation=90)\n",
    "_ = plt.yticks(tick_marks, classes)"
   ]
  },
  {
   "cell_type": "markdown",
   "metadata": {},
   "source": [
    "### RBF Kernel"
   ]
  },
  {
   "cell_type": "code",
   "execution_count": 78,
   "metadata": {},
   "outputs": [
    {
     "name": "stdout",
     "output_type": "stream",
     "text": [
      "[[ 961    0    3    1    0    7    6    1    1    0]\n",
      " [   0 1124    3    0    1    3    2    1    1    0]\n",
      " [   5    3  992    1    2    4    5   10    6    4]\n",
      " [   2    1   12  958    3   12    0    8    7    7]\n",
      " [   2    0    5    0  950    0    5    2    2   16]\n",
      " [   6    1    2   21    2  838    9    2    6    5]\n",
      " [   8    3    5    0    4   10  927    0    1    0]\n",
      " [   2   12   17    6    8    0    0  963    0   20]\n",
      " [   3    3    3   15    5   17    3    4  912    9]\n",
      " [   4    5    0    7   20    6    0   11    1  955]]\n",
      "              precision    recall  f1-score   support\n",
      "\n",
      "           0      0.968     0.981     0.974       980\n",
      "           1      0.976     0.990     0.983      1135\n",
      "           2      0.952     0.961     0.957      1032\n",
      "           3      0.949     0.949     0.949      1010\n",
      "           4      0.955     0.967     0.961       982\n",
      "           5      0.934     0.939     0.937       892\n",
      "           6      0.969     0.968     0.968       958\n",
      "           7      0.961     0.937     0.949      1028\n",
      "           8      0.973     0.936     0.954       974\n",
      "           9      0.940     0.946     0.943      1009\n",
      "\n",
      "   micro avg      0.958     0.958     0.958     10000\n",
      "   macro avg      0.958     0.957     0.958     10000\n",
      "weighted avg      0.958     0.958     0.958     10000\n",
      "\n"
     ]
    },
    {
     "data": {
      "image/png": "[encoded data removed]",
      "text/plain": [
       "<Figure size 576x576 with 2 Axes>"
      ]
     },
     "metadata": {
      "needs_background": "light"
     },
     "output_type": "display_data"
    }
   ],
   "source": [
    "print(confusion_matrix(y_test, y_pred)) \n",
    "print(classification_report(y_test, y_pred,\n",
    "                            target_names=list(label_dict.values()),digits=3))\n",
    "plt.figure(figsize=(8,8))\n",
    "cnf_matrix = confusion_matrix(y_test, y_pred)\n",
    "classes = list(label_dict.values())\n",
    "plt.imshow(cnf_matrix, interpolation='nearest')\n",
    "plt.colorbar()\n",
    "tick_marks = np.arange(len(classes))\n",
    "_ = plt.xticks(tick_marks, classes, rotation=90)\n",
    "_ = plt.yticks(tick_marks, classes)"
   ]
  },
  {
   "cell_type": "markdown",
   "metadata": {},
   "source": [
    "## Results for PCA + SVM, 95% Eigenvalues\n",
    "### Linear Kernel"
   ]
  },
  {
   "cell_type": "code",
   "execution_count": 51,
   "metadata": {},
   "outputs": [
    {
     "name": "stdout",
     "output_type": "stream",
     "text": [
      "[[ 914    0    3    9    1   36   14    1    2    0]\n",
      " [   0 1107    8    2    0    5    2    4    7    0]\n",
      " [   8   11  908   19   13   10   10   10   41    2]\n",
      " [   3    1   36  875    2   55    3    6   19   10]\n",
      " [   3    1   11    0  918    4    6    4    6   29]\n",
      " [   8    6    6   41   10  756   12    7   35   11]\n",
      " [  16    2   10    3   12   23  890    0    2    0]\n",
      " [   1   14   20   10   17    4    1  915    3   43]\n",
      " [  12   11   16   18   10   42   14    9  822   20]\n",
      " [   7    7    1   12   40   17    1   44   11  869]]\n",
      "              precision    recall  f1-score   support\n",
      "\n",
      "           0      0.940     0.933     0.936       980\n",
      "           1      0.954     0.975     0.965      1135\n",
      "           2      0.891     0.880     0.885      1032\n",
      "           3      0.885     0.866     0.875      1010\n",
      "           4      0.897     0.935     0.916       982\n",
      "           5      0.794     0.848     0.820       892\n",
      "           6      0.934     0.929     0.931       958\n",
      "           7      0.915     0.890     0.902      1028\n",
      "           8      0.867     0.844     0.855       974\n",
      "           9      0.883     0.861     0.872      1009\n",
      "\n",
      "   micro avg      0.897     0.897     0.897     10000\n",
      "   macro avg      0.896     0.896     0.896     10000\n",
      "weighted avg      0.898     0.897     0.897     10000\n",
      "\n"
     ]
    },
    {
     "data": {
      "image/png": "[encoded data removed]",
      "text/plain": [
       "<Figure size 576x576 with 2 Axes>"
      ]
     },
     "metadata": {
      "needs_background": "light"
     },
     "output_type": "display_data"
    }
   ],
   "source": [
    "print(confusion_matrix(y_test, y_pred)) \n",
    "print(classification_report(y_test, y_pred,\n",
    "                            target_names=list(label_dict.values()),digits=3))\n",
    "plt.figure(figsize=(8,8))\n",
    "cnf_matrix = confusion_matrix(y_test, y_pred)\n",
    "classes = list(label_dict.values())\n",
    "plt.imshow(cnf_matrix, interpolation='nearest')\n",
    "plt.colorbar()\n",
    "tick_marks = np.arange(len(classes))\n",
    "_ = plt.xticks(tick_marks, classes, rotation=90)\n",
    "_ = plt.yticks(tick_marks, classes)"
   ]
  },
  {
   "cell_type": "markdown",
   "metadata": {},
   "source": [
    "### RBF Kernel"
   ]
  },
  {
   "cell_type": "code",
   "execution_count": 48,
   "metadata": {},
   "outputs": [
    {
     "name": "stdout",
     "output_type": "stream",
     "text": [
      "[[ 935    0    1    8    0   20   14    1    1    0]\n",
      " [   0 1117    4    2    1    3    1    2    5    0]\n",
      " [   6    6  949   11   12    6    8    6   26    2]\n",
      " [   3    1   22  913    2   36    2    7   14   10]\n",
      " [   2    0    9    1  929    3    3    3    3   29]\n",
      " [   8    3    4   44   10  781   12    3   19    8]\n",
      " [  15    2    9    1   13   17  898    0    3    0]\n",
      " [   0   12   17    5   14    1    1  942    4   32]\n",
      " [  12    6    9   11    8   25   15    7  867   14]\n",
      " [   2    6    2   13   36   11    2   42    7  888]]\n",
      "              precision    recall  f1-score   support\n",
      "\n",
      "           0      0.951     0.954     0.953       980\n",
      "           1      0.969     0.984     0.976      1135\n",
      "           2      0.925     0.920     0.922      1032\n",
      "           3      0.905     0.904     0.904      1010\n",
      "           4      0.906     0.946     0.926       982\n",
      "           5      0.865     0.876     0.870       892\n",
      "           6      0.939     0.937     0.938       958\n",
      "           7      0.930     0.916     0.923      1028\n",
      "           8      0.914     0.890     0.902       974\n",
      "           9      0.903     0.880     0.892      1009\n",
      "\n",
      "   micro avg      0.922     0.922     0.922     10000\n",
      "   macro avg      0.921     0.921     0.921     10000\n",
      "weighted avg      0.922     0.922     0.922     10000\n",
      "\n"
     ]
    },
    {
     "data": {
      "image/png": "[encoded data removed]",
      "text/plain": [
       "<Figure size 576x576 with 2 Axes>"
      ]
     },
     "metadata": {
      "needs_background": "light"
     },
     "output_type": "display_data"
    }
   ],
   "source": [
    "print(confusion_matrix(y_test, y_pred)) \n",
    "print(classification_report(y_test, y_pred,\n",
    "                            target_names=list(label_dict.values()),digits=3))\n",
    "plt.figure(figsize=(8,8))\n",
    "cnf_matrix = confusion_matrix(y_test, y_pred)\n",
    "classes = list(label_dict.values())\n",
    "plt.imshow(cnf_matrix, interpolation='nearest')\n",
    "plt.colorbar()\n",
    "tick_marks = np.arange(len(classes))\n",
    "_ = plt.xticks(tick_marks, classes, rotation=90)\n",
    "_ = plt.yticks(tick_marks, classes)"
   ]
  },
  {
   "cell_type": "markdown",
   "metadata": {},
   "source": [
    "# Discussion\n",
    "## Part 1\n",
    "\n",
    "In this part, we seperately use Linear Discriminant Analysis(LDA) and Support Vector Machine(SVM) to classify the handwritten digits from MNIST dataset.\n",
    "\n",
    "### LDA\n",
    "To solve this problem, we use LinearDiscriminantAnalysis function from Scikit-Learn package. We use the whole 60000 dataset to train the model, we normalize the data, scale them and then put them into the model. And the final accuracy is 87.3%. The micro average accuracy as 87.3%, macro average accuracy as 87.4% and weighted average accuracy as 87.4%. The whole model runs very fast. It has wonderful user experience.\n",
    "\n",
    "### SVM\n",
    "2 different kernals (linear kernel and RBF kernel) are selected to compare here. LIBSVM is the chozen package for this problem. And based on duplicating trying, we find that using 15000, 20000, 25000 and 30000 rows of training set will lead to the same results, but have different processing time. Taking deadline into consideration, we decide to extract 20000 rows from training set as new training set to build model.\n",
    "\n",
    "#### Linear Kernel:\n",
    "\n",
    "Initially, we set C parameter as [0.01, 0.1, 1, 5, 10, 20], and find that the smaller parameter will bring better accuracy, so we start to tune it.  \n",
    "After long-time tuning parameter, we find that C=0.007 among [0.0066,0.00662,0.00664,0.007] leads to best accuracy, 93.53%. And the micro average accuracy as 93.5%, macro average accuracy as 93.4% and weighted average accuracy as 93.5%.\n",
    "\n",
    "#### RBF Kernel:\n",
    "Initially, we set C parameter as [0.01, 0.1, 1, 5, 10, 20], and find that the larger parameter will bring better accuracy. Secondly, we set C parameter as [80, 90, 100, 107, 116, 125], then find that C=80 brings best prdiction this time. So we start to tune it.  \n",
    "After long-time tuning parameter, we find that C=75 leads to best accuracy, 95.80%. And the micro average accuracy as 95.8%, macro average accuracy as 95.8% and weighted average accuracy as 95.8%.\n",
    "\n",
    "### In general\n",
    "\n",
    "Within SVM, RBF kernel cost more time than linear kernel, but draw a bit better accuracy than linear kernel.  \n",
    "\n",
    "For such big sample dataset, compared with LDA, SVM is an extremely time-consuming method, but it's accuracy surpasses LDA's. \n",
    "\n",
    "In a meanwhile, I also find that SVM runs so quick when the size of dataset less than 6000, even faster than LDA. Hence, if dataset is small or time is permitted, I prefer to using SVM to get good prediction."
   ]
  },
  {
   "cell_type": "markdown",
   "metadata": {},
   "source": [
    "## Part 2\n",
    "\n",
    "In this part, we firstly implement Principal Component Analysis(PCA) to deduct dimensions, then we seperately select Bayesian Decision Rule(BDR), K-Nearest Neighbor(K-NN) and Support Vector Machine(SVM) to recognize handwritten digits from MNIST dataset.  \n",
    "\n",
    "### BDR  \n",
    "\n",
    "We do prediction here by Bayesian Decision Rule. Given that this multivariate normal density and there are 10 categories with different $\\sum$, we implement formulas from case 3 on the textbook 2.6 Discriminant Functions for the Normal Density.  \n",
    "\n",
    "#### 90% eigenvalues  \n",
    "\n",
    "If we retain 90% eigenvalues in PCA part, we will keep 86 dimensions and do projection.  \n",
    "\n",
    "The accuracy is 67.47%. And the micro average accuracy as 67.5%, macro average accuracy as 76.4% and weighted average accuracy as 77.1%.  \n",
    "\n",
    "#### 95% eigenvalues  \n",
    "\n",
    "If we retain 95% eigenvalues in PCA part, we will keep 153 dimensions and do projection.  \n",
    "\n",
    "The accuracy is 84.09%. And the micro average accuracy as 84.1%, macro average accuracy as 85.7% and weighted average accuracy as 86.0%.  \n",
    "\n",
    "### K-NN\n",
    "#### 90% eigenvalues  \n",
    "\n",
    "If we retain 90% eigenvalues in PCA part, we will keep 86 dimensions and do projection.  \n",
    "\n",
    "With the new projected training and testing dataset, we continue to do K-NN. When K = 3, we get accuracy 79.55%; when K = 5, we get accuracy 80.35%. Therefore, we set K = 5 to do prediction and get the micro average accuracy as 80.3%, macro average accuracy as 80.1% and weighted average accuracy as 80.3%.  \n",
    "\n",
    "#### 95% eigenvalues  \n",
    "\n",
    "If we retain 95% eigenvalues in PCA part, we will keep 153 dimensions and do projection.  \n",
    "\n",
    "With the new projected training and testing dataset, we continue to do K-NN. When K = 3, we get accuracy 91.46%; when K = 5, we get accuracy 91.42%. Therefore, we set K = 3 to do prediction and get the micro average accuracy as 91.5%, macro average accuracy as 91.4% and weighted average accuracy as 91.5%.  \n",
    "\n",
    "### SVM\n",
    "#### 90% eigenvalues  \n",
    "\n",
    "If we retain 90% eigenvalues in PCA part, we will keep 86 dimensions and do projection.  \n",
    "\n",
    "##### Linear Kernel:  \n",
    "\n",
    "Initially, we set C parameter as [0.01, 0.1, 1, 5, 10, 20], and find that the larger parameter will bring better accuracy, so we start to tune it.  \n",
    "\n",
    "After long-time tuning parameter, we finally set C as [53.95,54,54.1,54.3,54.5] and find that C=54 will bring us the best accuracy, 79.30%. And the micro average accuracy as 79.3%, macro average accuracy as 79.0% and weighted average accuracy as 79.3%.  \n",
    "\n",
    "##### RBF Kernel:  \n",
    "\n",
    "Initially, we set C parameter as [0.01, 0.1, 1, 5, 10, 20], and find that the larger parameter will bring better accuracy, so we start to tune it.  \n",
    "\n",
    "After long-time tuning parameter, we finally set C as [121,124,127,129] and find that C=129 will bring us the best accuracy, 83.45%. And the micro average accuracy as 83.5%, macro average accuracy as 83.2% and weighted average accuracy as 83.4%.  \n",
    "\n",
    "#### 95% eigenvalues  \n",
    "\n",
    "If we retain 95% eigenvalues in PCA part, we will keep 153 dimensions and do projection.  \n",
    "\n",
    "##### Linear Kernel:  \n",
    "\n",
    "Initially, we set C parameter as [0.01, 0.1, 1, 5, 10, 20], and find that the parameter between 5 and 10 will bring better accuracy, so we start to tune it.  \n",
    "\n",
    "After long-time tuning parameter, we finally set C as [9.03,9.05,9.055,9.06] and find that C=9.05 will bring us the best accuracy, 89.74%. And the micro average accuracy as 89.7%, macro average accuracy as 89.6% and weighted average accuracy as 89.8%.  \n",
    "\n",
    "##### RBF Kernel:  \n",
    "\n",
    "Initially, we set C parameter as [0.01, 0.1, 1, 5, 10, 20], and find that larger parameter will bring better accuracy, so we start to tune it.  \n",
    "\n",
    "After long-time tuning parameter, we finally set C as [114,120,125,129] and find that C=125 will bring us the best accuracy, 92.19%. And the micro average accuracy as 92.2%, macro average accuracy as 92.1% and weighted average accuracy as 92.2%.  \n",
    "\n",
    "### In general  \n",
    "#### BDR  \n",
    "\n",
    "Here, we draw a conclusion that retaining 95% eigenvalues brings about much better prediction result with 84.09% accuracy than that of 90% eigenvalues, which is 67.47%.  \n",
    "\n",
    "#### K-NN  \n",
    "\n",
    "Here, we draw a conclusion that retaining 95% eigenvalues and setting K = 5 will lead to best prediction result with 91.42% accuracy.  \n",
    "\n",
    "And compared with purely using K-NN, PCA+K-NN doesn't have as good prediction result as K-NN does.  \n",
    "\n",
    "#### SVM  \n",
    "\n",
    "Usually, larger C parameter contribute to better accuracy.  \n",
    "\n",
    "Apparently, keeping 95% eigenvalues performs much better keeping 90% eigenvalues for both kernel in prediction, since that keeping 95% eigenvalues leaves more information.  \n",
    "\n",
    "For 90% eigenvalues, the accuracy of RBF kernel, 83.45%, is better than that of linear kernel, 79.30%.  \n",
    "For 95% eigenvalues, the accuracy of RBF kernel, 92.19%, is better than that of linear kernel, 89.74%.  \n",
    "\n",
    "Compared with purely using SVM, PCA+SVM doesn't have as good prediction result as SVM does.  \n",
    "\n",
    "#### Compare 3 Methods  \n",
    "\n",
    "About eigenvalues, apparently, retaining 95% eigenvalues predicts much better than retaining 90% one for all three models.  \n",
    "\n",
    "About processing time, PCA + BDR < PCA + KNN < PCA + SVM(Linear Kernel) < PCA + SVM(RBF Kernel). In this project, PCA, BDR and KNN are coded by ourselves, SVM is called from LIBSVM. I know that SVM is a complex model, but I still want to say that self-coding function runs so fast, which encourages me to code more powerful machine learning models by myself in the future.  \n",
    "\n",
    "About accuracy, PCA + SVM(RBF Kernel) > PCA + KNN > PCA + SVM(Linear Kernel) > PCA +BDR. It's hard to deny that SVM has the best prediction result among the three methods. Currently, compared with matured package, my self-code one still gets a long road to go. However, this is a good start.  "
   ]
  },
  {
   "cell_type": "markdown",
   "metadata": {},
   "source": [
    "# Conclusion  \n",
    "\n",
    "This project ignite me to think deeply about these models.  \n",
    "\n",
    "About dimension redection, we can check from the SVM that doing PCA + SVM predicts little worse than purely doing SVM, but PCA + SVM is time-efficiency, it costs less time. It can be an alternative choice to get results as soon as possible and loss information as less as possible.  \n",
    "\n",
    "About processing time, LDA < PCA + BDR < PCA + KNN < PCA + SVM(Linear Kernel) < PCA + SVM(RBF Kernel) < SVM(Linear Kernel) < SVM(RBF Kernel).  \n",
    "\n",
    "About accuracy, SVM-RBF(95.80%) > SVM-Linear(93.53%) >  \n",
    "PCA + SVM-RBF,95%(92.19) > PCA + KNN, 95%(91.42%) > PCA + SVM-Linear,95%(89.74) >  \n",
    "LDA(87.3%) >  \n",
    "PCA + BDR,95%(84.09%) >  \n",
    "PCA + SVM-RBF,90%(83.45%) > PCA + KNN,90%(80.35%) > PCA + SVM-Linear,90%(79.30%) > PCA + BDR,90%(67.47%).  \n",
    "\n",
    "We can see, SVM totally surpasses all the other methods; methods retaining 95% eigenvalues totally win those retaining 90% eigenvalues; the SVM models are built with part of training dataset, we can make sure that the whole dataset will bring about better prediction.  \n",
    "\n",
    "Meanwhile, we also notice that there are some good entry points from this project. For example, enhancing the SVM's processing time while dealing with big data besides doing PCA and improving KNN's and BDR's prediction accuracy. Have to admit that those meethods are so weak in front of deep learning, but there must be some meaning to think about this kind of problems."
   ]
  },
  {
   "cell_type": "markdown",
   "metadata": {},
   "source": [
    "# Appendix"
   ]
  },
  {
   "cell_type": "code",
   "execution_count": 1,
   "metadata": {},
   "outputs": [],
   "source": [
    "# import dataset and seperate them as train set and test set\n",
    "# index x represents image, index y represents label\n",
    "import sys\n",
    "path = \"/Users/sunjian/Downloads/libsvm-3.23/python\"\n",
    "sys.path.append(path)\n",
    "import os\n",
    "import cv2\n",
    "import random\n",
    "import sklearn\n",
    "import numpy as np\n",
    "import svm, svmutil\n",
    "from svm import *\n",
    "from svmutil import *\n",
    "import sklearn.metrics\n",
    "import tensorflow as tf\n",
    "from numpy.linalg import *\n",
    "from sklearn.svm import SVC\n",
    "import matplotlib.pyplot as plt\n",
    "from sklearn.preprocessing import LabelEncoder\n",
    "from sklearn.preprocessing import StandardScaler\n",
    "from sklearn.metrics import classification_report, confusion_matrix \n",
    "from sklearn.discriminant_analysis import LinearDiscriminantAnalysis as LDA"
   ]
  },
  {
   "cell_type": "code",
   "execution_count": 2,
   "metadata": {},
   "outputs": [],
   "source": [
    "# make sure the 10 classes\n",
    "label_dict = {0: '0', 1: '1', 2: '2', 3: '3', 4: '4',\n",
    "              5: '5', 6: '6', 7: '7', 8: '8', 9: '9'}"
   ]
  },
  {
   "cell_type": "markdown",
   "metadata": {},
   "source": [
    "# Part 1\n",
    "## LDA"
   ]
  },
  {
   "cell_type": "code",
   "execution_count": 3,
   "metadata": {},
   "outputs": [],
   "source": [
    "# download MNIST dataset from keras\n",
    "(x_train, y_train), (x_test, y_test) = tf.keras.datasets.mnist.load_data()\n",
    "# convert data type to float 32\n",
    "X_train=np.float32(x_train)\n",
    "X_test=np.float32(x_test)\n",
    "X_train = X_train / 255.0\n",
    "X_test = X_test / 255.0\n",
    "x_train = X_train.reshape(np.shape(X_train)[0], 28*28)\n",
    "x_test = X_test.reshape(np.shape(X_test)[0], 28*28)"
   ]
  },
  {
   "cell_type": "code",
   "execution_count": 5,
   "metadata": {},
   "outputs": [],
   "source": [
    "# scaling\n",
    "sc = StandardScaler()  \n",
    "x_train = sc.fit_transform(x_train)  \n",
    "x_test = sc.transform(x_test)  "
   ]
  },
  {
   "cell_type": "code",
   "execution_count": 6,
   "metadata": {},
   "outputs": [
    {
     "name": "stderr",
     "output_type": "stream",
     "text": [
      "/Users/sunjian/anaconda3/envs/tfw/lib/python3.6/site-packages/sklearn/discriminant_analysis.py:388: UserWarning: Variables are collinear.\n",
      "  warnings.warn(\"Variables are collinear.\")\n"
     ]
    }
   ],
   "source": [
    "#creating a LDA object\n",
    "lda = LDA(n_components=2)\n",
    "lda.fit_transform(x_train, y_train) #learning the projection matrix\n",
    "y_pred = lda.predict(x_test) #gives you the predicted label for each sample\n",
    "y_prob = lda.predict_proba(x_test)"
   ]
  },
  {
   "cell_type": "code",
   "execution_count": 7,
   "metadata": {
    "scrolled": true
   },
   "outputs": [
    {
     "name": "stdout",
     "output_type": "stream",
     "text": [
      "Got 8730 / 10000 correct\n",
      "Accuracy = 0.873000\n"
     ]
    }
   ],
   "source": [
    "num_test = len(y_test)\n",
    "num_correct = np.sum(y_pred == y_test)\n",
    "print('Got %d / %d correct' % (num_correct, num_test))\n",
    "print('Accuracy = %f' % (np.mean(y_test == y_pred)))"
   ]
  },
  {
   "cell_type": "code",
   "execution_count": 8,
   "metadata": {},
   "outputs": [
    {
     "name": "stdout",
     "output_type": "stream",
     "text": [
      "[[ 940    0    1    4    2   13    9    1    9    1]\n",
      " [   0 1096    4    3    2    2    3    0   25    0]\n",
      " [  15   32  816   34   21    5   37    9   57    6]\n",
      " [   5    5   25  883    4   25    3   16   29   15]\n",
      " [   0   12    6    0  888    4    7    2   10   53]\n",
      " [   8    8    4   44   12  735   15   10   38   18]\n",
      " [  12    8   11    0   25   29  857    0   16    0]\n",
      " [   2   30   15    9   22    2    0  864    4   80]\n",
      " [   7   27    8   27   20   53   10    6  790   26]\n",
      " [   9    7    1   13   63    6    0   37   12  861]]\n",
      "              precision    recall  f1-score   support\n",
      "\n",
      "           0      0.942     0.959     0.950       980\n",
      "           1      0.895     0.966     0.929      1135\n",
      "           2      0.916     0.791     0.849      1032\n",
      "           3      0.868     0.874     0.871      1010\n",
      "           4      0.839     0.904     0.870       982\n",
      "           5      0.841     0.824     0.832       892\n",
      "           6      0.911     0.895     0.903       958\n",
      "           7      0.914     0.840     0.876      1028\n",
      "           8      0.798     0.811     0.804       974\n",
      "           9      0.812     0.853     0.832      1009\n",
      "\n",
      "   micro avg      0.873     0.873     0.873     10000\n",
      "   macro avg      0.874     0.872     0.872     10000\n",
      "weighted avg      0.874     0.873     0.873     10000\n",
      "\n"
     ]
    }
   ],
   "source": [
    "print(confusion_matrix(y_test, y_pred)) \n",
    "print(classification_report(y_test, y_pred,\n",
    "                            target_names=list(label_dict.values()),digits=3))"
   ]
  },
  {
   "cell_type": "code",
   "execution_count": 9,
   "metadata": {},
   "outputs": [
    {
     "data": {
      "image/png": "[encoded data removed]",
      "text/plain": [
       "<Figure size 576x576 with 2 Axes>"
      ]
     },
     "metadata": {
      "needs_background": "light"
     },
     "output_type": "display_data"
    }
   ],
   "source": [
    "plt.figure(figsize=(8,8))\n",
    "cnf_matrix = confusion_matrix(y_test, y_pred)\n",
    "classes = list(label_dict.values())\n",
    "plt.imshow(cnf_matrix, interpolation='nearest')\n",
    "plt.colorbar()\n",
    "tick_marks = np.arange(len(classes))\n",
    "_ = plt.xticks(tick_marks, classes, rotation=90)\n",
    "_ = plt.yticks(tick_marks, classes)"
   ]
  },
  {
   "cell_type": "markdown",
   "metadata": {},
   "source": [
    "## SVM"
   ]
  },
  {
   "cell_type": "code",
   "execution_count": 3,
   "metadata": {},
   "outputs": [],
   "source": [
    "# download MNIST dataset from keras\n",
    "(x_train, y_train), (x_test, y_test) = tf.keras.datasets.mnist.load_data()\n",
    "# convert data type to float 32\n",
    "X_train=np.float32(x_train)\n",
    "X_test=np.float32(x_test)\n",
    "X_train = X_train / 255.0\n",
    "X_test = X_test / 255.0\n",
    "x_train = X_train.reshape(np.shape(X_train)[0], 28*28)\n",
    "x_test = X_test.reshape(np.shape(X_test)[0], 28*28)"
   ]
  },
  {
   "cell_type": "code",
   "execution_count": 4,
   "metadata": {},
   "outputs": [],
   "source": [
    "X_train = x_train.tolist()\n",
    "Y_train = y_train.tolist()\n",
    "X_test  = x_test.tolist()\n",
    "Y_test  = y_test.tolist()"
   ]
  },
  {
   "cell_type": "markdown",
   "metadata": {},
   "source": [
    "### Linear Kernel"
   ]
  },
  {
   "cell_type": "code",
   "execution_count": 6,
   "metadata": {},
   "outputs": [],
   "source": [
    "C=[0.0066,0.00662,0.00664,0.007]\n",
    "prob = svm_problem(Y_train[0:20000], X_train[0:20000])\n",
    "param1 = svm_parameter('-t 0 -c 0.0066 -b 1')\n",
    "param2 = svm_parameter('-t 0 -c 0.00662 -b 1')\n",
    "param3 = svm_parameter('-t 0 -c 0.00664 -b 1')\n",
    "param4 = svm_parameter('-t 0 -c 0.007 -b 1')"
   ]
  },
  {
   "cell_type": "code",
   "execution_count": 11,
   "metadata": {},
   "outputs": [
    {
     "name": "stdout",
     "output_type": "stream",
     "text": [
      "Model supports probability estimates, but disabled in predicton.\n",
      "Accuracy = 93.48% (9348/10000) (classification)\n",
      "(93.47999999999999, 1.1326, 0.8693896414231087)\n",
      "Model supports probability estimates, but disabled in predicton.\n",
      "Accuracy = 93.5% (9350/10000) (classification)\n",
      "(93.5, 1.1324, 0.8694092963493714)\n",
      "Model supports probability estimates, but disabled in predicton.\n",
      "Accuracy = 93.5% (9350/10000) (classification)\n",
      "(93.5, 1.1344, 0.8691891556099334)\n",
      "Model supports probability estimates, but disabled in predicton.\n",
      "Accuracy = 93.5% (9350/10000) (classification)\n",
      "(93.5, 1.1376, 0.8688183095772)\n"
     ]
    }
   ],
   "source": [
    "P=[param1,param2,param3,param4]\n",
    "for i in range(len(P)):\n",
    "    model = svm_train(prob, P[i])\n",
    "    p_label, p_acc, p_val = svm_predict(Y_test, X_test, model)\n",
    "    print(p_acc)"
   ]
  },
  {
   "cell_type": "code",
   "execution_count": 12,
   "metadata": {},
   "outputs": [
    {
     "name": "stdout",
     "output_type": "stream",
     "text": [
      "Model supports probability estimates, but disabled in predicton.\n",
      "Accuracy = 93.53% (9353/10000) (classification)\n"
     ]
    }
   ],
   "source": [
    "param = svm_parameter('-t 0 -c 0.007 -b 1')\n",
    "model = svm_train(prob, param)\n",
    "p_label, p_acc, p_val = svm_predict(Y_test, X_test, model)"
   ]
  },
  {
   "cell_type": "code",
   "execution_count": 13,
   "metadata": {},
   "outputs": [
    {
     "name": "stdout",
     "output_type": "stream",
     "text": [
      "Got 9353 / 10000 correct\n",
      "Accuracy = 0.935300\n"
     ]
    }
   ],
   "source": [
    "y_pred=p_label\n",
    "num_test = len(Y_test)\n",
    "num_correct = np.sum(y_pred == y_test)\n",
    "print('Got %d / %d correct' % (num_correct, num_test))\n",
    "print('Accuracy = %f' % (np.mean(y_test == y_pred)))"
   ]
  },
  {
   "cell_type": "code",
   "execution_count": 14,
   "metadata": {},
   "outputs": [
    {
     "name": "stdout",
     "output_type": "stream",
     "text": [
      "[[ 962    0    0    1    0    9    5    1    1    1]\n",
      " [   0 1119    2    3    0    3    2    0    5    1]\n",
      " [   8    2  944    7   14    4   14   12   25    2]\n",
      " [   2    2   17  930    1   24    1   10   16    7]\n",
      " [   1    0    5    0  931    1   10    2    2   30]\n",
      " [   7    4    4   37    5  800   13    2   15    5]\n",
      " [  10    3    5    1    7    9  922    0    1    0]\n",
      " [   2   11   23    4    8    1    0  955    4   20]\n",
      " [   4    6   10   17    8   31   11    7  873    7]\n",
      " [   7    6    1    8   39    9    1   19    2  917]]\n",
      "              precision    recall  f1-score   support\n",
      "\n",
      "           0      0.959     0.982     0.970       980\n",
      "           1      0.971     0.986     0.978      1135\n",
      "           2      0.934     0.915     0.924      1032\n",
      "           3      0.923     0.921     0.922      1010\n",
      "           4      0.919     0.948     0.933       982\n",
      "           5      0.898     0.897     0.897       892\n",
      "           6      0.942     0.962     0.952       958\n",
      "           7      0.947     0.929     0.938      1028\n",
      "           8      0.925     0.896     0.910       974\n",
      "           9      0.926     0.909     0.917      1009\n",
      "\n",
      "   micro avg      0.935     0.935     0.935     10000\n",
      "   macro avg      0.934     0.934     0.934     10000\n",
      "weighted avg      0.935     0.935     0.935     10000\n",
      "\n"
     ]
    },
    {
     "data": {
      "image/png": "[encoded data removed]",
      "text/plain": [
       "<Figure size 576x576 with 2 Axes>"
      ]
     },
     "metadata": {
      "needs_background": "light"
     },
     "output_type": "display_data"
    }
   ],
   "source": [
    "print(confusion_matrix(y_test, y_pred)) \n",
    "print(classification_report(y_test, y_pred,\n",
    "                            target_names=list(label_dict.values()),digits=3))\n",
    "plt.figure(figsize=(8,8))\n",
    "cnf_matrix = confusion_matrix(y_test, y_pred)\n",
    "classes = list(label_dict.values())\n",
    "plt.imshow(cnf_matrix, interpolation='nearest')\n",
    "plt.colorbar()\n",
    "tick_marks = np.arange(len(classes))\n",
    "_ = plt.xticks(tick_marks, classes, rotation=90)\n",
    "_ = plt.yticks(tick_marks, classes)"
   ]
  },
  {
   "cell_type": "markdown",
   "metadata": {},
   "source": [
    "### RBF Kernel"
   ]
  },
  {
   "cell_type": "code",
   "execution_count": 5,
   "metadata": {},
   "outputs": [],
   "source": [
    "C=[50,60,70,75]\n",
    "prob = svm_problem(Y_train[0:20000], X_train[0:20000])\n",
    "param1 = svm_parameter('-t 2 -c 50 -b 1')\n",
    "param2 = svm_parameter('-t 2 -c 60 -b 1')\n",
    "param3 = svm_parameter('-t 2 -c 70 -b 1')\n",
    "param4 = svm_parameter('-t 2 -c 75 -b 1')"
   ]
  },
  {
   "cell_type": "code",
   "execution_count": 74,
   "metadata": {},
   "outputs": [
    {
     "name": "stdout",
     "output_type": "stream",
     "text": [
      "Model supports probability estimates, but disabled in predicton.\n",
      "Accuracy = 95.62% (9562/10000) (classification)\n",
      "(95.62, 0.7919, 0.9078695802035437)\n",
      "Model supports probability estimates, but disabled in predicton.\n",
      "Accuracy = 95.69% (9569/10000) (classification)\n",
      "(95.69, 0.7559, 0.9120079755730383)\n",
      "Model supports probability estimates, but disabled in predicton.\n",
      "Accuracy = 95.76% (9576/10000) (classification)\n",
      "(95.76, 0.7498, 0.9127387339953145)\n",
      "Model supports probability estimates, but disabled in predicton.\n",
      "Accuracy = 95.8% (9580/10000) (classification)\n",
      "(95.8, 0.7406, 0.9137451356503374)\n"
     ]
    }
   ],
   "source": [
    "P=[param1,param2,param3,param4]\n",
    "for i in range(len(P)):\n",
    "    model = svm_train(prob, P[i])\n",
    "    p_label, p_acc, p_val = svm_predict(Y_test, X_test, model)\n",
    "    print(p_acc)"
   ]
  },
  {
   "cell_type": "code",
   "execution_count": 8,
   "metadata": {},
   "outputs": [
    {
     "name": "stdout",
     "output_type": "stream",
     "text": [
      "Model supports probability estimates, but disabled in predicton.\n",
      "Accuracy = 95.8% (9580/10000) (classification)\n"
     ]
    }
   ],
   "source": [
    "param = svm_parameter('-t 2 -c 75 -b 1')\n",
    "model = svm_train(prob, param)\n",
    "p_label, p_acc, p_val = svm_predict(Y_test, X_test, model)"
   ]
  },
  {
   "cell_type": "code",
   "execution_count": 9,
   "metadata": {},
   "outputs": [
    {
     "name": "stdout",
     "output_type": "stream",
     "text": [
      "Got 9580 / 10000 correct\n",
      "Accuracy = 0.958000\n"
     ]
    }
   ],
   "source": [
    "y_pred=p_label\n",
    "num_test = len(Y_test)\n",
    "num_correct = np.sum(y_pred == y_test)\n",
    "print('Got %d / %d correct' % (num_correct, num_test))\n",
    "print('Accuracy = %f' % (np.mean(y_test == y_pred)))"
   ]
  },
  {
   "cell_type": "code",
   "execution_count": 10,
   "metadata": {},
   "outputs": [
    {
     "name": "stdout",
     "output_type": "stream",
     "text": [
      "[[ 961    0    3    1    0    7    6    1    1    0]\n",
      " [   0 1124    3    0    1    3    2    1    1    0]\n",
      " [   5    3  992    1    2    4    5   10    6    4]\n",
      " [   2    1   12  958    3   12    0    8    7    7]\n",
      " [   2    0    5    0  950    0    5    2    2   16]\n",
      " [   6    1    2   21    2  838    9    2    6    5]\n",
      " [   8    3    5    0    4   10  927    0    1    0]\n",
      " [   2   12   17    6    8    0    0  963    0   20]\n",
      " [   3    3    3   15    5   17    3    4  912    9]\n",
      " [   4    5    0    7   20    6    0   11    1  955]]\n",
      "              precision    recall  f1-score   support\n",
      "\n",
      "           0      0.968     0.981     0.974       980\n",
      "           1      0.976     0.990     0.983      1135\n",
      "           2      0.952     0.961     0.957      1032\n",
      "           3      0.949     0.949     0.949      1010\n",
      "           4      0.955     0.967     0.961       982\n",
      "           5      0.934     0.939     0.937       892\n",
      "           6      0.969     0.968     0.968       958\n",
      "           7      0.961     0.937     0.949      1028\n",
      "           8      0.973     0.936     0.954       974\n",
      "           9      0.940     0.946     0.943      1009\n",
      "\n",
      "   micro avg      0.958     0.958     0.958     10000\n",
      "   macro avg      0.958     0.957     0.958     10000\n",
      "weighted avg      0.958     0.958     0.958     10000\n",
      "\n"
     ]
    },
    {
     "data": {
      "image/png": "[encoded data removed]",
      "text/plain": [
       "<Figure size 576x576 with 2 Axes>"
      ]
     },
     "metadata": {
      "needs_background": "light"
     },
     "output_type": "display_data"
    }
   ],
   "source": [
    "print(confusion_matrix(y_test, y_pred)) \n",
    "print(classification_report(y_test, y_pred,\n",
    "                            target_names=list(label_dict.values()),digits=3))\n",
    "plt.figure(figsize=(8,8))\n",
    "cnf_matrix = confusion_matrix(y_test, y_pred)\n",
    "classes = list(label_dict.values())\n",
    "plt.imshow(cnf_matrix, interpolation='nearest')\n",
    "plt.colorbar()\n",
    "tick_marks = np.arange(len(classes))\n",
    "_ = plt.xticks(tick_marks, classes, rotation=90)\n",
    "_ = plt.yticks(tick_marks, classes)"
   ]
  },
  {
   "cell_type": "markdown",
   "metadata": {},
   "source": [
    "# Part 2\n",
    "## PCA + BDR"
   ]
  },
  {
   "cell_type": "code",
   "execution_count": 175,
   "metadata": {},
   "outputs": [],
   "source": [
    "# download MNIST dataset from keras\n",
    "(x_train, y_train), (x_test, y_test) = tf.keras.datasets.mnist.load_data()\n",
    "# convert data type to float 32\n",
    "x_train=np.float32(x_train)\n",
    "x_test=np.float32(x_test)\n",
    "x_train = x_train.reshape(np.shape(x_train)[0], 28*28)\n",
    "x_test = x_test.reshape(np.shape(x_test)[0], 28*28)"
   ]
  },
  {
   "cell_type": "code",
   "execution_count": 176,
   "metadata": {},
   "outputs": [],
   "source": [
    "# add noise to images\n",
    "def add_noisy(image):\n",
    "    row,col = np.shape(image)\n",
    "    mean = 0\n",
    "    var = 0.01\n",
    "    sigma = var**0.5\n",
    "    gauss = np.random.normal(mean,sigma,(row,col))\n",
    "    gauss = np.reshape(gauss,(row,col))\n",
    "    noisy = image + gauss\n",
    "    return noisy"
   ]
  },
  {
   "cell_type": "code",
   "execution_count": 177,
   "metadata": {},
   "outputs": [],
   "source": [
    "# add noise and reconstruct dataset and stack them as a big one\n",
    "# for dimension deduction\n",
    "X_train = add_noisy(x_train)\n",
    "X_test = add_noisy(x_test)\n",
    "big_X=np.vstack((X_train,X_test))"
   ]
  },
  {
   "cell_type": "markdown",
   "metadata": {},
   "source": [
    "### PCA Class to Deduct Dimensions for Both Training and Testing Set"
   ]
  },
  {
   "cell_type": "code",
   "execution_count": 167,
   "metadata": {},
   "outputs": [],
   "source": [
    "# build PCA class\n",
    "class SJPCA(object):\n",
    "    def __init__(self):\n",
    "        pass\n",
    "\n",
    "    def train(self, X):\n",
    "        self.x_train = X\n",
    "    \n",
    "    def compute_mean_covar_eigen(self):\n",
    "        # get average image and get mean image by summing each row\n",
    "        tr_mean = np.mean(self.x_train, axis=0)\n",
    "        tr_mean = np.reshape(tr_mean,(1,np.shape(tr_mean)[0]))\n",
    "\n",
    "        # subtract the mean\n",
    "        xtr_m = self.x_train - tr_mean\n",
    "\n",
    "        # calculate covariance matrix\n",
    "        tr_cov = np.dot(xtr_m.T,xtr_m)\n",
    "        \n",
    "        # get eigenvalue and eigenvector\n",
    "        tr_val, tr_vec = eig(tr_cov)\n",
    "        \n",
    "        return xtr_m, tr_cov, tr_val, tr_vec\n",
    "    \n",
    "    def get_comp_K(self,tr_val, threshold):\n",
    "        cum_lambda = np.cumsum(tr_val)\n",
    "        total_lamda = cum_lambda[-1]\n",
    "        \n",
    "        # get the principal component number that we want to keep\n",
    "        for keep_dim in range(len(tr_val)):\n",
    "            rate = cum_lambda[keep_dim]/total_lamda\n",
    "            if rate >= threshold: \n",
    "                return keep_dim\n",
    "                break\n",
    "            else: continue\n",
    "            \n",
    "    def deduct_img(self, xtr_m, tr_vec, keep_dim):\n",
    "        x_proj= np.dot(xtr_m, tr_vec.T[:,0:keep_dim])\n",
    "        return x_proj"
   ]
  },
  {
   "cell_type": "markdown",
   "metadata": {},
   "source": [
    "### Bayesian Decision Rule Class"
   ]
  },
  {
   "cell_type": "code",
   "execution_count": 168,
   "metadata": {},
   "outputs": [],
   "source": [
    "# build a Bayes class\n",
    "class SJBAYES(object):\n",
    "    def __init__(self):\n",
    "        pass\n",
    "\n",
    "    def train(self, X, Y):\n",
    "        self.x_train = X\n",
    "        self.y_train = Y\n",
    "        \n",
    "    def split_category(self, category_name):\n",
    "        xx_train=[]\n",
    "        yy_train=[]\n",
    "        for i in range(len(y_train)):\n",
    "            if (self.y_train[i]==category_name):\n",
    "                xx_train.append(self.x_train[i])\n",
    "                yy_train.append(self.y_train[i])\n",
    "        return xx_train, yy_train\n",
    "    \n",
    "    def MLE_miu_sigma(self, img_col, data):\n",
    "        wait_mean = np.reshape(data,(len(data),img_col))\n",
    "        cate_miu = np.mean(wait_mean, axis=0)\n",
    "        cm=np.reshape(cate_miu,(1,img_col))\n",
    "        b=data-cm\n",
    "        a=np.transpose(b)\n",
    "        sgm=np.dot(a,b)/(len(data)-1)\n",
    "        return cate_miu, sgm\n",
    "\n",
    "    def para_for_case3(self, cate_miu, sgm, data):\n",
    "        cm=np.reshape(cate_miu,(1,img_col))\n",
    "        W=-0.5*inv(sgm)\n",
    "        w=np.transpose(np.dot(inv(sgm),np.transpose(cm)))\n",
    "        P_w=len(data)/len(self.x_train)\n",
    "        #det_=np.exp(np.trace(np.log(sgm)))\n",
    "        det_=np.trace(sgm)\n",
    "        sigdet=-0.5*np.log(det_)\n",
    "        msm=np.dot(np.dot(cm,inv(sgm)),np.transpose(cm))\n",
    "        www=-0.5*msm[0][0]+sigdet+np.log(P_w)\n",
    "        return W, w, www\n",
    "    \n",
    "    def discri_fun(self, img_col, x_test, W, w, www):\n",
    "        x_test = np.reshape(x_test,(1,img_col))\n",
    "        g=np.dot(np.dot(x_test,W),x_test.T)+np.dot(w,x_test.T)+www\n",
    "        return g"
   ]
  },
  {
   "cell_type": "markdown",
   "metadata": {},
   "source": [
    "### Retain 90% Eigenvalues"
   ]
  },
  {
   "cell_type": "code",
   "execution_count": 178,
   "metadata": {},
   "outputs": [
    {
     "name": "stdout",
     "output_type": "stream",
     "text": [
      "86\n"
     ]
    }
   ],
   "source": [
    "# Deduct Training Set\n",
    "SJ = SJPCA()\n",
    "SJ.train(big_X)\n",
    "xtr_m, tr_cov, tr_val, tr_vec = SJ.compute_mean_covar_eigen()\n",
    "keep_dim = SJ.get_comp_K(tr_val, 0.90)\n",
    "new_big_X = SJ.deduct_img(xtr_m, tr_vec, keep_dim)\n",
    "print(keep_dim)"
   ]
  },
  {
   "cell_type": "code",
   "execution_count": 179,
   "metadata": {},
   "outputs": [],
   "source": [
    "# resplit the dataset and normalize them with min-max normalization\n",
    "x_train = new_big_X[0:60000,:]\n",
    "x_test = new_big_X[60000:70000,:]\n",
    "tr_min = np.min(x_train,axis=1)\n",
    "tr_cha = np.max(x_train,axis=1)-np.min(x_train,axis=1)\n",
    "te_min = np.min(x_test,axis=1)\n",
    "te_cha = np.max(x_test,axis=1)-np.min(x_test,axis=1)\n",
    "for i in range(60000):\n",
    "    x_train[i]=(x_train[i]-tr_min[i])/tr_cha[i]\n",
    "for i in range(10000):\n",
    "    x_test[i]=(x_test[i]-te_min[i])/te_cha[i]"
   ]
  },
  {
   "cell_type": "code",
   "execution_count": 180,
   "metadata": {},
   "outputs": [],
   "source": [
    "# split the train as 10 categories\n",
    "JS = SJBAYES()\n",
    "JS.train(x_train,y_train)\n",
    "x0_train, y0_train = JS.split_category(0)\n",
    "x1_train, y1_train = JS.split_category(1)\n",
    "x2_train, y2_train = JS.split_category(2)\n",
    "x3_train, y3_train = JS.split_category(3)\n",
    "x4_train, y4_train = JS.split_category(4)\n",
    "x5_train, y5_train = JS.split_category(5)\n",
    "x6_train, y6_train = JS.split_category(6)\n",
    "x7_train, y7_train = JS.split_category(7)\n",
    "x8_train, y8_train = JS.split_category(8)\n",
    "x9_train, y9_train = JS.split_category(9)\n",
    "\n",
    "# get mean and variance matrix for training set\n",
    "img_col = keep_dim\n",
    "miu0,sig0=JS.MLE_miu_sigma(img_col, x0_train)\n",
    "miu1,sig1=JS.MLE_miu_sigma(img_col, x1_train)\n",
    "miu2,sig2=JS.MLE_miu_sigma(img_col, x2_train)\n",
    "miu3,sig3=JS.MLE_miu_sigma(img_col, x3_train)\n",
    "miu4,sig4=JS.MLE_miu_sigma(img_col, x4_train)\n",
    "miu5,sig5=JS.MLE_miu_sigma(img_col, x5_train)\n",
    "miu6,sig6=JS.MLE_miu_sigma(img_col, x6_train)\n",
    "miu7,sig7=JS.MLE_miu_sigma(img_col, x7_train)\n",
    "miu8,sig8=JS.MLE_miu_sigma(img_col, x8_train)\n",
    "miu9,sig9=JS.MLE_miu_sigma(img_col, x9_train)"
   ]
  },
  {
   "cell_type": "code",
   "execution_count": 181,
   "metadata": {},
   "outputs": [],
   "source": [
    "W0, w0, w00 = JS.para_for_case3(miu0, sig0, x0_train)\n",
    "W1, w1, w11 = JS.para_for_case3(miu1, sig1, x1_train)\n",
    "W2, w2, w22 = JS.para_for_case3(miu2, sig2, x2_train)\n",
    "W3, w3, w33 = JS.para_for_case3(miu3, sig3, x3_train)\n",
    "W4, w4, w44 = JS.para_for_case3(miu4, sig4, x4_train)\n",
    "W5, w5, w55 = JS.para_for_case3(miu5, sig5, x5_train)\n",
    "W6, w6, w66 = JS.para_for_case3(miu6, sig6, x6_train)\n",
    "W7, w7, w77 = JS.para_for_case3(miu7, sig7, x7_train)\n",
    "W8, w8, w88 = JS.para_for_case3(miu8, sig8, x8_train)\n",
    "W9, w9, w99 = JS.para_for_case3(miu9, sig9, x9_train)"
   ]
  },
  {
   "cell_type": "code",
   "execution_count": 182,
   "metadata": {},
   "outputs": [],
   "source": [
    "# calculate discriminant function\n",
    "y_pred=[]\n",
    "x_test=np.reshape(x_test,(10000,img_col))\n",
    "for i in range(len(x_test)):\n",
    "    g0=JS.discri_fun(img_col, x_test[i], W0, w0, w00)\n",
    "    g1=JS.discri_fun(img_col, x_test[i], W1, w1, w11)\n",
    "    g2=JS.discri_fun(img_col, x_test[i], W2, w2, w22)\n",
    "    g3=JS.discri_fun(img_col, x_test[i], W3, w3, w33)\n",
    "    g4=JS.discri_fun(img_col, x_test[i], W4, w4, w44)\n",
    "    g5=JS.discri_fun(img_col, x_test[i], W5, w5, w55)\n",
    "    g6=JS.discri_fun(img_col, x_test[i], W6, w6, w66)\n",
    "    g7=JS.discri_fun(img_col, x_test[i], W7, w7, w77)\n",
    "    g8=JS.discri_fun(img_col, x_test[i], W8, w8, w88)\n",
    "    g9=JS.discri_fun(img_col, x_test[i], W9, w9, w99)\n",
    "    \n",
    "    g=[g0[0][0],g1[0][0],g2[0][0],g3[0][0],g4[0][0],\n",
    "       g5[0][0],g6[0][0],g7[0][0],g8[0][0],g9[0][0]]\n",
    "    #print(g,y_test[i])  \n",
    "    ind=np.where(g==np.max(g))\n",
    "    y_pred.append(ind[0][0])"
   ]
  },
  {
   "cell_type": "code",
   "execution_count": 183,
   "metadata": {},
   "outputs": [
    {
     "name": "stdout",
     "output_type": "stream",
     "text": [
      "Got 6747 / 10000 correct\n",
      "Accuracy = 0.674700\n"
     ]
    }
   ],
   "source": [
    "num_test = len(y_test)\n",
    "num_correct = np.sum(y_pred == y_test)\n",
    "print('Got %d / %d correct' % (num_correct, num_test))\n",
    "print('Accuracy = %f' % (np.mean(y_test == y_pred)))"
   ]
  },
  {
   "cell_type": "code",
   "execution_count": 184,
   "metadata": {},
   "outputs": [
    {
     "name": "stdout",
     "output_type": "stream",
     "text": [
      "[[485   0  57  22   2 320   1   1  92   0]\n",
      " [  0 678  32  10  10  28   0  43 323  11]\n",
      " [  3   0 850  31   6  59   0   2  75   6]\n",
      " [  0   0  24 588   1 265   0  20  70  42]\n",
      " [  0   0  37   1 675  26   0  19  15 209]\n",
      " [  0   0  11  39   4 722   0  13  60  43]\n",
      " [  7   0 131   2   8 392 344   0  74   0]\n",
      " [  0   0   7   6  33   8   0 816  20 138]\n",
      " [  0   0  18  11   4  81   0  23 810  27]\n",
      " [  0   0   4  16  49  15   0 139   7 779]]\n",
      "              precision    recall  f1-score   support\n",
      "\n",
      "           0      0.980     0.495     0.658       980\n",
      "           1      1.000     0.597     0.748      1135\n",
      "           2      0.726     0.824     0.772      1032\n",
      "           3      0.810     0.582     0.677      1010\n",
      "           4      0.852     0.687     0.761       982\n",
      "           5      0.377     0.809     0.514       892\n",
      "           6      0.997     0.359     0.528       958\n",
      "           7      0.758     0.794     0.776      1028\n",
      "           8      0.524     0.832     0.643       974\n",
      "           9      0.621     0.772     0.688      1009\n",
      "\n",
      "   micro avg      0.675     0.675     0.675     10000\n",
      "   macro avg      0.764     0.675     0.676     10000\n",
      "weighted avg      0.771     0.675     0.680     10000\n",
      "\n"
     ]
    },
    {
     "data": {
      "image/png": "[encoded data removed]",
      "text/plain": [
       "<Figure size 576x576 with 2 Axes>"
      ]
     },
     "metadata": {
      "needs_background": "light"
     },
     "output_type": "display_data"
    }
   ],
   "source": [
    "print(confusion_matrix(y_test, y_pred)) \n",
    "print(classification_report(y_test, y_pred,\n",
    "                            target_names=list(label_dict.values()),digits=3))\n",
    "plt.figure(figsize=(8,8))\n",
    "cnf_matrix = confusion_matrix(y_test, y_pred)\n",
    "classes = list(label_dict.values())\n",
    "plt.imshow(cnf_matrix, interpolation='nearest')\n",
    "plt.colorbar()\n",
    "tick_marks = np.arange(len(classes))\n",
    "_ = plt.xticks(tick_marks, classes, rotation=90)\n",
    "_ = plt.yticks(tick_marks, classes)"
   ]
  },
  {
   "cell_type": "markdown",
   "metadata": {},
   "source": [
    "### Retain 95% Eigenvalues"
   ]
  },
  {
   "cell_type": "code",
   "execution_count": 156,
   "metadata": {},
   "outputs": [
    {
     "name": "stdout",
     "output_type": "stream",
     "text": [
      "153\n"
     ]
    }
   ],
   "source": [
    "# Deduct Training Set\n",
    "SJ = SJPCA()\n",
    "SJ.train(big_X)\n",
    "xtr_m, tr_cov, tr_val, tr_vec = SJ.compute_mean_covar_eigen()\n",
    "keep_dim = SJ.get_comp_K(tr_val, 0.95)\n",
    "new_big_X = SJ.deduct_img(xtr_m, tr_vec, keep_dim)\n",
    "print(keep_dim)"
   ]
  },
  {
   "cell_type": "code",
   "execution_count": 157,
   "metadata": {},
   "outputs": [],
   "source": [
    "# resplit the dataset and normalize them with min-max normalization\n",
    "x_train = new_big_X[0:60000,:]\n",
    "x_test = new_big_X[60000:70000,:]\n",
    "tr_min = np.min(x_train,axis=1)\n",
    "tr_cha = np.max(x_train,axis=1)-np.min(x_train,axis=1)\n",
    "te_min = np.min(x_test,axis=1)\n",
    "te_cha = np.max(x_test,axis=1)-np.min(x_test,axis=1)\n",
    "for i in range(60000):\n",
    "    x_train[i]=(x_train[i]-tr_min[i])/tr_cha[i]\n",
    "for i in range(10000):\n",
    "    x_test[i]=(x_test[i]-te_min[i])/te_cha[i]"
   ]
  },
  {
   "cell_type": "code",
   "execution_count": 158,
   "metadata": {},
   "outputs": [],
   "source": [
    "# split the train as 10 categories\n",
    "JS = SJBAYES()\n",
    "JS.train(x_train,y_train)\n",
    "x0_train, y0_train = JS.split_category(0)\n",
    "x1_train, y1_train = JS.split_category(1)\n",
    "x2_train, y2_train = JS.split_category(2)\n",
    "x3_train, y3_train = JS.split_category(3)\n",
    "x4_train, y4_train = JS.split_category(4)\n",
    "x5_train, y5_train = JS.split_category(5)\n",
    "x6_train, y6_train = JS.split_category(6)\n",
    "x7_train, y7_train = JS.split_category(7)\n",
    "x8_train, y8_train = JS.split_category(8)\n",
    "x9_train, y9_train = JS.split_category(9)\n",
    "\n",
    "# get mean and variance matrix for training set\n",
    "img_col = keep_dim\n",
    "miu0,sig0=JS.MLE_miu_sigma(img_col, x0_train)\n",
    "miu1,sig1=JS.MLE_miu_sigma(img_col, x1_train)\n",
    "miu2,sig2=JS.MLE_miu_sigma(img_col, x2_train)\n",
    "miu3,sig3=JS.MLE_miu_sigma(img_col, x3_train)\n",
    "miu4,sig4=JS.MLE_miu_sigma(img_col, x4_train)\n",
    "miu5,sig5=JS.MLE_miu_sigma(img_col, x5_train)\n",
    "miu6,sig6=JS.MLE_miu_sigma(img_col, x6_train)\n",
    "miu7,sig7=JS.MLE_miu_sigma(img_col, x7_train)\n",
    "miu8,sig8=JS.MLE_miu_sigma(img_col, x8_train)\n",
    "miu9,sig9=JS.MLE_miu_sigma(img_col, x9_train)"
   ]
  },
  {
   "cell_type": "code",
   "execution_count": 159,
   "metadata": {},
   "outputs": [],
   "source": [
    "W0, w0, w00 = JS.para_for_case3(miu0, sig0, x0_train)\n",
    "W1, w1, w11 = JS.para_for_case3(miu1, sig1, x1_train)\n",
    "W2, w2, w22 = JS.para_for_case3(miu2, sig2, x2_train)\n",
    "W3, w3, w33 = JS.para_for_case3(miu3, sig3, x3_train)\n",
    "W4, w4, w44 = JS.para_for_case3(miu4, sig4, x4_train)\n",
    "W5, w5, w55 = JS.para_for_case3(miu5, sig5, x5_train)\n",
    "W6, w6, w66 = JS.para_for_case3(miu6, sig6, x6_train)\n",
    "W7, w7, w77 = JS.para_for_case3(miu7, sig7, x7_train)\n",
    "W8, w8, w88 = JS.para_for_case3(miu8, sig8, x8_train)\n",
    "W9, w9, w99 = JS.para_for_case3(miu9, sig9, x9_train)"
   ]
  },
  {
   "cell_type": "code",
   "execution_count": 160,
   "metadata": {},
   "outputs": [],
   "source": [
    "# calculate discriminant function\n",
    "y_pred=[]\n",
    "x_test=np.reshape(x_test,(10000,img_col))\n",
    "for i in range(len(x_test)):\n",
    "    g0=JS.discri_fun(img_col, x_test[i], W0, w0, w00)\n",
    "    g1=JS.discri_fun(img_col, x_test[i], W1, w1, w11)\n",
    "    g2=JS.discri_fun(img_col, x_test[i], W2, w2, w22)\n",
    "    g3=JS.discri_fun(img_col, x_test[i], W3, w3, w33)\n",
    "    g4=JS.discri_fun(img_col, x_test[i], W4, w4, w44)\n",
    "    g5=JS.discri_fun(img_col, x_test[i], W5, w5, w55)\n",
    "    g6=JS.discri_fun(img_col, x_test[i], W6, w6, w66)\n",
    "    g7=JS.discri_fun(img_col, x_test[i], W7, w7, w77)\n",
    "    g8=JS.discri_fun(img_col, x_test[i], W8, w8, w88)\n",
    "    g9=JS.discri_fun(img_col, x_test[i], W9, w9, w99)\n",
    "    \n",
    "    g=[g0[0][0],g1[0][0],g2[0][0],g3[0][0],g4[0][0],\n",
    "       g5[0][0],g6[0][0],g7[0][0],g8[0][0],g9[0][0]]\n",
    "    #print(g,y_test[i])  \n",
    "    ind=np.where(g==np.max(g))\n",
    "    y_pred.append(ind[0][0])"
   ]
  },
  {
   "cell_type": "code",
   "execution_count": 161,
   "metadata": {},
   "outputs": [
    {
     "name": "stdout",
     "output_type": "stream",
     "text": [
      "Got 8409 / 10000 correct\n",
      "Accuracy = 0.840900\n"
     ]
    }
   ],
   "source": [
    "num_test = len(y_test)\n",
    "num_correct = np.sum(y_pred == y_test)\n",
    "print('Got %d / %d correct' % (num_correct, num_test))\n",
    "print('Accuracy = %f' % (np.mean(y_test == y_pred)))"
   ]
  },
  {
   "cell_type": "code",
   "execution_count": 162,
   "metadata": {},
   "outputs": [
    {
     "name": "stdout",
     "output_type": "stream",
     "text": [
      "[[636   0  74  15   6 195  12   1  41   0]\n",
      " [  0 895  62   7  11   0   0   6 154   0]\n",
      " [  0   0 964  24   7   3   0   3  28   3]\n",
      " [  0   0  23 865   1  48   1  11  36  25]\n",
      " [  0   0  41   2 821   1   0  18  13  86]\n",
      " [  1   0  16  31   4 783   4  14  25  14]\n",
      " [  0   0  43   1   7  45 836   0  26   0]\n",
      " [  0   0   8   7  52   5   0 886  13  57]\n",
      " [  1   0  26  20   5  19   3  14 873  13]\n",
      " [  0   0   7  10  57  19   0  55  11 850]]\n",
      "              precision    recall  f1-score   support\n",
      "\n",
      "           0      0.997     0.649     0.786       980\n",
      "           1      1.000     0.789     0.882      1135\n",
      "           2      0.763     0.934     0.840      1032\n",
      "           3      0.881     0.856     0.868      1010\n",
      "           4      0.846     0.836     0.841       982\n",
      "           5      0.700     0.878     0.779       892\n",
      "           6      0.977     0.873     0.922       958\n",
      "           7      0.879     0.862     0.870      1028\n",
      "           8      0.716     0.896     0.796       974\n",
      "           9      0.811     0.842     0.826      1009\n",
      "\n",
      "   micro avg      0.841     0.841     0.841     10000\n",
      "   macro avg      0.857     0.842     0.841     10000\n",
      "weighted avg      0.860     0.841     0.842     10000\n",
      "\n"
     ]
    },
    {
     "data": {
      "image/png": "[encoded data removed]",
      "text/plain": [
       "<Figure size 576x576 with 2 Axes>"
      ]
     },
     "metadata": {
      "needs_background": "light"
     },
     "output_type": "display_data"
    }
   ],
   "source": [
    "print(confusion_matrix(y_test, y_pred)) \n",
    "print(classification_report(y_test, y_pred,\n",
    "                            target_names=list(label_dict.values()),digits=3))\n",
    "plt.figure(figsize=(8,8))\n",
    "cnf_matrix = confusion_matrix(y_test, y_pred)\n",
    "classes = list(label_dict.values())\n",
    "plt.imshow(cnf_matrix, interpolation='nearest')\n",
    "plt.colorbar()\n",
    "tick_marks = np.arange(len(classes))\n",
    "_ = plt.xticks(tick_marks, classes, rotation=90)\n",
    "_ = plt.yticks(tick_marks, classes)"
   ]
  },
  {
   "cell_type": "markdown",
   "metadata": {},
   "source": [
    "## PCA + KNN"
   ]
  },
  {
   "cell_type": "code",
   "execution_count": 53,
   "metadata": {},
   "outputs": [],
   "source": [
    "# download MNIST dataset from keras\n",
    "(x_train, y_train), (x_test, y_test) = tf.keras.datasets.mnist.load_data()\n",
    "# convert data type to float 32\n",
    "x_train=np.float32(x_train)\n",
    "x_test=np.float32(x_test)\n",
    "x_train = x_train / 255.0\n",
    "x_test = x_test / 255.0\n",
    "# reconstruct dataset and stack them as a big one for dimension deduction\n",
    "X_train = x_train.reshape(np.shape(x_train)[0], 28*28)\n",
    "X_test = x_test.reshape(np.shape(x_test)[0], 28*28)\n",
    "big_X=np.vstack((X_train,X_test))"
   ]
  },
  {
   "cell_type": "code",
   "execution_count": 54,
   "metadata": {},
   "outputs": [],
   "source": [
    "# build PCA class\n",
    "class SJPCA(object):\n",
    "    def __init__(self):\n",
    "        pass\n",
    "\n",
    "    def train(self, X):\n",
    "        self.x_train = X\n",
    "    \n",
    "    def compute_mean_covar_eigen(self):\n",
    "        # get average image and get mean image by summing each row\n",
    "        tr_mean = np.mean(self.x_train, axis=0)\n",
    "        tr_mean = np.reshape(tr_mean,(1,np.shape(tr_mean)[0]))\n",
    "\n",
    "        # subtract the mean\n",
    "        xtr_m = self.x_train - tr_mean\n",
    "\n",
    "        # calculate covariance matrix\n",
    "        tr_cov = np.dot(xtr_m.T,xtr_m)\n",
    "        \n",
    "        # get eigenvalue and eigenvector\n",
    "        tr_val, tr_vec = eig(tr_cov)\n",
    "        \n",
    "        return xtr_m, tr_cov, tr_val, tr_vec\n",
    "    \n",
    "    def get_comp_K(self,tr_val, threshold):\n",
    "        cum_lambda = np.cumsum(tr_val)\n",
    "        total_lamda = cum_lambda[-1]\n",
    "        \n",
    "        # get the principal component number that we want to keep\n",
    "        for keep_dim in range(len(tr_val)):\n",
    "            rate = cum_lambda[keep_dim]/total_lamda\n",
    "            if rate >= threshold: \n",
    "                return keep_dim\n",
    "                break\n",
    "            else: continue\n",
    "            \n",
    "    def deduct_img(self, xtr_m, tr_vec, keep_dim):\n",
    "        x_proj= np.dot(xtr_m, tr_vec.T[:,0:keep_dim])\n",
    "        return x_proj"
   ]
  },
  {
   "cell_type": "code",
   "execution_count": 55,
   "metadata": {},
   "outputs": [],
   "source": [
    "class SJKNN(object):\n",
    "    def __init__(self):\n",
    "        pass\n",
    "\n",
    "    def train(self, X, Y):\n",
    "    # the nearest neighbor classifier simply remembers all the training data\n",
    "        self.X_train = X\n",
    "        self.Y_train = Y\n",
    "                             \n",
    "    def compute_distances_no_loops(self, X_test):\n",
    "        num_test = np.shape(X_test)[0]\n",
    "        num_train = np.shape(self.X_train)[0]\n",
    "        dists = np.zeros((num_test, num_train)) \n",
    "        dists = np.sqrt(self.getNormMatrix(X_test, num_train).T + \n",
    "                        self.getNormMatrix(self.X_train, num_test) - \n",
    "                        2 * np.dot(X_test, self.X_train.T))\n",
    "        pass\n",
    "        return(dists)\n",
    "    \n",
    "    def getNormMatrix(self, x, lines_num):\n",
    "        return(np.ones((lines_num, 1)) * np.sum(np.square(x), axis = 1))\n",
    "\n",
    "    def predict_labels(self, dists, k):\n",
    "        num_test = np.shape(dists)[0]\n",
    "        Y_pred = np.zeros(num_test)\n",
    "        for i in range(num_test):\n",
    "            closest_y = []\n",
    "            kids = np.argsort(dists[i])\n",
    "            closest_y = self.Y_train[kids[:k]]\n",
    "            count = 0\n",
    "            label = 0\n",
    "            for j in closest_y:\n",
    "                tmp = 0\n",
    "                for kk in closest_y:\n",
    "                    tmp += (kk == j)\n",
    "                if tmp > count:\n",
    "                    count = tmp\n",
    "                    label = j\n",
    "            Y_pred[i] = label\n",
    "        return Y_pred \n",
    "           \n",
    "    def predict(self, X_test, k):\n",
    "        num_test = X_test.shape[0]\n",
    "        # lets make sure that the output type matches the input type\n",
    "        ypred = np.zeros(num_test, dtype = self.Y_train.dtype)\n",
    "        dists = self.compute_distances_no_loops(X_test)\n",
    "        return self.predict_labels(dists, k=k)"
   ]
  },
  {
   "cell_type": "markdown",
   "metadata": {},
   "source": [
    "### Retain 90% Eigenvalues"
   ]
  },
  {
   "cell_type": "code",
   "execution_count": 56,
   "metadata": {},
   "outputs": [
    {
     "name": "stdout",
     "output_type": "stream",
     "text": [
      "86\n"
     ]
    }
   ],
   "source": [
    "# Deduct Training Set\n",
    "SJ = SJPCA()\n",
    "SJ.train(big_X)\n",
    "xtr_m, tr_cov, tr_val, tr_vec = SJ.compute_mean_covar_eigen()\n",
    "keep_dim = SJ.get_comp_K(tr_val, 0.90)\n",
    "new_big_X = SJ.deduct_img(xtr_m, tr_vec, keep_dim)\n",
    "print(keep_dim)"
   ]
  },
  {
   "cell_type": "code",
   "execution_count": 57,
   "metadata": {},
   "outputs": [],
   "source": [
    "# resplit the dataset and normalize them with min-max normalization\n",
    "x_train = new_big_X[0:60000,:]\n",
    "x_test = new_big_X[60000:70000,:]\n",
    "tr_min = np.min(x_train,axis=1)\n",
    "tr_cha = np.max(x_train,axis=1)-np.min(x_train,axis=1)\n",
    "te_min = np.min(x_test,axis=1)\n",
    "te_cha = np.max(x_test,axis=1)-np.min(x_test,axis=1)\n",
    "for i in range(60000):\n",
    "    x_train[i]=(x_train[i]-tr_min[i])/tr_cha[i]\n",
    "for i in range(10000):\n",
    "    x_test[i]=(x_test[i]-te_min[i])/te_cha[i]"
   ]
  },
  {
   "cell_type": "code",
   "execution_count": 6,
   "metadata": {},
   "outputs": [
    {
     "data": {
      "text/plain": [
       "4"
      ]
     },
     "execution_count": 6,
     "metadata": {},
     "output_type": "execute_result"
    }
   ],
   "source": [
    "import numpy as np\n",
    "kk=[1,2,3,4,5]\n",
    "np.where(kk==np.max(kk))[0][0]"
   ]
  },
  {
   "cell_type": "code",
   "execution_count": 58,
   "metadata": {},
   "outputs": [
    {
     "name": "stdout",
     "output_type": "stream",
     "text": [
      "Got 7955 / 10000 correct\n",
      "k = 3, Accuracy = 0.795500\n",
      "Got 8035 / 10000 correct\n",
      "k = 5, Accuracy = 0.803500\n"
     ]
    }
   ],
   "source": [
    "# select best k\n",
    "K=[3, 5]\n",
    "classifier = SJKNN()\n",
    "classifier.train(x_train, y_train)\n",
    "num_test = len(y_test)\n",
    "for i in K:\n",
    "    Y_test_pred=classifier.predict(x_test, k=i)\n",
    "    num_correct = np.sum(Y_test_pred == y_test)\n",
    "    print('Got %d / %d correct' % (num_correct, num_test))\n",
    "    print('k = %s, Accuracy = %f' % (i, np.mean(y_test == Y_test_pred)))"
   ]
  },
  {
   "cell_type": "code",
   "execution_count": 59,
   "metadata": {},
   "outputs": [
    {
     "name": "stdout",
     "output_type": "stream",
     "text": [
      "Got 8035 / 10000 correct\n",
      "k = 5, Accuracy = 0.803500\n",
      "[[ 892    0    3   20    1   13   38    0   13    0]\n",
      " [   0 1110    7    2    1    1    6    4    2    2]\n",
      " [  25   32  824   29   11   16   49    3   41    2]\n",
      " [  36    1   19  778    5  106   16    6   32   11]\n",
      " [   2   16   22    2  805    5   10   19    5   96]\n",
      " [  34   10    8  205   12  541   18   13   33   18]\n",
      " [  43    5   12    6    5    3  876    0    8    0]\n",
      " [   1   30    6    5   44    5    2  780    6  149]\n",
      " [  50   27   18   31    7   33   33   12  751   12]\n",
      " [   3   13    6   25   87    6    4  183    4  678]]\n",
      "              precision    recall  f1-score   support\n",
      "\n",
      "           0      0.821     0.910     0.864       980\n",
      "           1      0.892     0.978     0.933      1135\n",
      "           2      0.891     0.798     0.842      1032\n",
      "           3      0.705     0.770     0.736      1010\n",
      "           4      0.823     0.820     0.821       982\n",
      "           5      0.742     0.607     0.667       892\n",
      "           6      0.833     0.914     0.872       958\n",
      "           7      0.765     0.759     0.762      1028\n",
      "           8      0.839     0.771     0.804       974\n",
      "           9      0.700     0.672     0.686      1009\n",
      "\n",
      "   micro avg      0.803     0.803     0.803     10000\n",
      "   macro avg      0.801     0.800     0.799     10000\n",
      "weighted avg      0.803     0.803     0.801     10000\n",
      "\n"
     ]
    },
    {
     "data": {
      "image/png": "[encoded data removed]",
      "text/plain": [
       "<Figure size 576x576 with 2 Axes>"
      ]
     },
     "metadata": {
      "needs_background": "light"
     },
     "output_type": "display_data"
    }
   ],
   "source": [
    "Y_test_pred=classifier.predict(x_test, k=5)\n",
    "num_correct = np.sum(Y_test_pred == y_test)\n",
    "print('Got %d / %d correct' % (num_correct, num_test))\n",
    "print('k = %s, Accuracy = %f' % (5, np.mean(y_test == Y_test_pred)))\n",
    "print(confusion_matrix(y_test, Y_test_pred))  \n",
    "print(classification_report(y_test, Y_test_pred,\n",
    "                            target_names=list(label_dict.values()),digits=3))\n",
    "plt.figure(figsize=(8,8))\n",
    "cnf_matrix = confusion_matrix(y_test, y_pred)\n",
    "classes = list(label_dict.values())\n",
    "plt.imshow(cnf_matrix, interpolation='nearest')\n",
    "plt.colorbar()\n",
    "tick_marks = np.arange(len(classes))\n",
    "_ = plt.xticks(tick_marks, classes, rotation=90)\n",
    "_ = plt.yticks(tick_marks, classes)"
   ]
  },
  {
   "cell_type": "markdown",
   "metadata": {},
   "source": [
    "### Retain 95% Eigenvalues"
   ]
  },
  {
   "cell_type": "code",
   "execution_count": 61,
   "metadata": {},
   "outputs": [
    {
     "name": "stdout",
     "output_type": "stream",
     "text": [
      "153\n"
     ]
    }
   ],
   "source": [
    "# Deduct Training Set\n",
    "SJ = SJPCA()\n",
    "SJ.train(big_X)\n",
    "xtr_m, tr_cov, tr_val, tr_vec = SJ.compute_mean_covar_eigen()\n",
    "keep_dim = SJ.get_comp_K(tr_val, 0.95)\n",
    "new_big_X = SJ.deduct_img(xtr_m, tr_vec, keep_dim)\n",
    "print(keep_dim)"
   ]
  },
  {
   "cell_type": "code",
   "execution_count": 62,
   "metadata": {},
   "outputs": [],
   "source": [
    "# resplit the dataset and normalize them with min-max normalization\n",
    "x_train = new_big_X[0:60000,:]\n",
    "x_test = new_big_X[60000:70000,:]\n",
    "tr_min = np.min(x_train,axis=1)\n",
    "tr_cha = np.max(x_train,axis=1)-np.min(x_train,axis=1)\n",
    "te_min = np.min(x_test,axis=1)\n",
    "te_cha = np.max(x_test,axis=1)-np.min(x_test,axis=1)\n",
    "for i in range(60000):\n",
    "    x_train[i]=(x_train[i]-tr_min[i])/tr_cha[i]\n",
    "for i in range(10000):\n",
    "    x_test[i]=(x_test[i]-te_min[i])/te_cha[i]"
   ]
  },
  {
   "cell_type": "code",
   "execution_count": 63,
   "metadata": {},
   "outputs": [
    {
     "name": "stdout",
     "output_type": "stream",
     "text": [
      "Got 9146 / 10000 correct\n",
      "k = 3, Accuracy = 0.914600\n",
      "Got 9142 / 10000 correct\n",
      "k = 5, Accuracy = 0.914200\n"
     ]
    }
   ],
   "source": [
    "# select best k\n",
    "K=[3, 5]\n",
    "classifier = SJKNN()\n",
    "classifier.train(x_train, y_train)\n",
    "num_test = len(y_test)\n",
    "for i in K:\n",
    "    Y_test_pred=classifier.predict(x_test, k=i)\n",
    "    num_correct = np.sum(Y_test_pred == y_test)\n",
    "    print('Got %d / %d correct' % (num_correct, num_test))\n",
    "    print('k = %s, Accuracy = %f' % (i, np.mean(y_test == Y_test_pred)))"
   ]
  },
  {
   "cell_type": "code",
   "execution_count": 66,
   "metadata": {},
   "outputs": [
    {
     "name": "stdout",
     "output_type": "stream",
     "text": [
      "Got 9146 / 10000 correct\n",
      "k = 3, Accuracy = 0.914600\n",
      "[[ 960    0    0    4    0    0   12    0    4    0]\n",
      " [   0 1125    4    2    0    1    1    1    1    0]\n",
      " [  17   11  952   11    5    4    9    7   13    3]\n",
      " [  14    2   10  899    2   55    1    4   13   10]\n",
      " [   1    9    5    0  887    0    7   10    0   63]\n",
      " [  14    5    1   92    7  731   12    4   16   10]\n",
      " [  20    4    2    1    6    3  920    0    2    0]\n",
      " [   0   27    9    0   18    0    1  925    1   47]\n",
      " [  26    8    6   13    4   20   10    6  872    9]\n",
      " [   4   10    4   18   34    6    2   54    2  875]]\n",
      "              precision    recall  f1-score   support\n",
      "\n",
      "           0      0.909     0.980     0.943       980\n",
      "           1      0.937     0.991     0.963      1135\n",
      "           2      0.959     0.922     0.940      1032\n",
      "           3      0.864     0.890     0.877      1010\n",
      "           4      0.921     0.903     0.912       982\n",
      "           5      0.891     0.820     0.854       892\n",
      "           6      0.944     0.960     0.952       958\n",
      "           7      0.915     0.900     0.907      1028\n",
      "           8      0.944     0.895     0.919       974\n",
      "           9      0.860     0.867     0.864      1009\n",
      "\n",
      "   micro avg      0.915     0.915     0.915     10000\n",
      "   macro avg      0.914     0.913     0.913     10000\n",
      "weighted avg      0.915     0.915     0.914     10000\n",
      "\n"
     ]
    },
    {
     "data": {
      "image/png": "[encoded data removed]",
      "text/plain": [
       "<Figure size 576x576 with 2 Axes>"
      ]
     },
     "metadata": {
      "needs_background": "light"
     },
     "output_type": "display_data"
    }
   ],
   "source": [
    "Y_test_pred=classifier.predict(x_test, k=3)\n",
    "num_correct = np.sum(Y_test_pred == y_test)\n",
    "print('Got %d / %d correct' % (num_correct, num_test))\n",
    "print('k = %s, Accuracy = %f' % (3, np.mean(y_test == Y_test_pred)))\n",
    "print(confusion_matrix(y_test, Y_test_pred)) \n",
    "print(classification_report(y_test, Y_test_pred,\n",
    "                            target_names=list(label_dict.values()),digits=3))\n",
    "plt.figure(figsize=(8,8))\n",
    "cnf_matrix = confusion_matrix(y_test, y_pred)\n",
    "classes = list(label_dict.values())\n",
    "plt.imshow(cnf_matrix, interpolation='nearest')\n",
    "plt.colorbar()\n",
    "tick_marks = np.arange(len(classes))\n",
    "_ = plt.xticks(tick_marks, classes, rotation=90)\n",
    "_ = plt.yticks(tick_marks, classes)"
   ]
  },
  {
   "cell_type": "markdown",
   "metadata": {},
   "source": [
    "## PCA + SVM"
   ]
  },
  {
   "cell_type": "code",
   "execution_count": 58,
   "metadata": {},
   "outputs": [],
   "source": [
    "(x_train, y_train), (x_test, y_test) = tf.keras.datasets.mnist.load_data()\n",
    "# convert data type to float 32\n",
    "X_train=np.float32(x_train)\n",
    "X_test=np.float32(x_test)\n",
    "X_train = X_train / 255.0\n",
    "X_test = X_test / 255.0\n",
    "x_train = X_train.reshape(np.shape(X_train)[0], 28*28)\n",
    "x_test = X_test.reshape(np.shape(X_test)[0], 28*28)\n",
    "big_X=np.vstack((x_train,x_test))"
   ]
  },
  {
   "cell_type": "code",
   "execution_count": 59,
   "metadata": {},
   "outputs": [],
   "source": [
    "# build PCA class\n",
    "class SJPCA(object):\n",
    "    def __init__(self):\n",
    "        pass\n",
    "\n",
    "    def train(self, X):\n",
    "        self.x_train = X\n",
    "    \n",
    "    def compute_mean_covar_eigen(self):\n",
    "        # get average image and get mean image by summing each row\n",
    "        tr_mean = np.mean(self.x_train, axis=0)\n",
    "        tr_mean = np.reshape(tr_mean,(1,np.shape(tr_mean)[0]))\n",
    "\n",
    "        # subtract the mean\n",
    "        xtr_m = self.x_train - tr_mean\n",
    "\n",
    "        # calculate covariance matrix\n",
    "        tr_cov = np.dot(xtr_m.T,xtr_m)\n",
    "        \n",
    "        # get eigenvalue and eigenvector\n",
    "        tr_val, tr_vec = eig(tr_cov)\n",
    "        \n",
    "        return xtr_m, tr_cov, tr_val, tr_vec\n",
    "    \n",
    "    def get_comp_K(self,tr_val, threshold):\n",
    "        cum_lambda = np.cumsum(tr_val)\n",
    "        total_lamda = cum_lambda[-1]\n",
    "        \n",
    "        # get the principal component number that we want to keep\n",
    "        for keep_dim in range(len(tr_val)):\n",
    "            rate = cum_lambda[keep_dim]/total_lamda\n",
    "            if rate >= threshold: \n",
    "                return keep_dim\n",
    "                break\n",
    "            else: continue\n",
    "            \n",
    "    def deduct_img(self, xtr_m, tr_vec, keep_dim):\n",
    "        x_proj= np.dot(xtr_m, tr_vec.T[:,0:keep_dim])\n",
    "        return x_proj"
   ]
  },
  {
   "cell_type": "markdown",
   "metadata": {},
   "source": [
    "### Retain 90% Eigenvalues"
   ]
  },
  {
   "cell_type": "code",
   "execution_count": 60,
   "metadata": {},
   "outputs": [
    {
     "name": "stdout",
     "output_type": "stream",
     "text": [
      "86\n"
     ]
    }
   ],
   "source": [
    "# Deduct Training Set\n",
    "SJ = SJPCA()\n",
    "SJ.train(big_X)\n",
    "xtr_m, tr_cov, tr_val, tr_vec = SJ.compute_mean_covar_eigen()\n",
    "keep_dim = SJ.get_comp_K(tr_val, 0.90)\n",
    "new_big_X = SJ.deduct_img(xtr_m, tr_vec, keep_dim)\n",
    "print(keep_dim)"
   ]
  },
  {
   "cell_type": "code",
   "execution_count": 61,
   "metadata": {},
   "outputs": [],
   "source": [
    "# resplit the dataset and normalize them with min-max normalization\n",
    "x_train = new_big_X[0:60000,:]\n",
    "x_test = new_big_X[60000:70000,:]\n",
    "tr_min = np.min(x_train,axis=1)\n",
    "tr_cha = np.max(x_train,axis=1)-np.min(x_train,axis=1)\n",
    "te_min = np.min(x_test,axis=1)\n",
    "te_cha = np.max(x_test,axis=1)-np.min(x_test,axis=1)\n",
    "for i in range(60000):\n",
    "    x_train[i]=(x_train[i]-tr_min[i])/tr_cha[i]\n",
    "for i in range(10000):\n",
    "    x_test[i]=(x_test[i]-te_min[i])/te_cha[i]"
   ]
  },
  {
   "cell_type": "code",
   "execution_count": 62,
   "metadata": {},
   "outputs": [],
   "source": [
    "X_train = x_train.tolist()\n",
    "Y_train = y_train.tolist()\n",
    "X_test  = x_test.tolist()\n",
    "Y_test  = y_test.tolist()"
   ]
  },
  {
   "cell_type": "markdown",
   "metadata": {},
   "source": [
    "#### Linear Kernel"
   ]
  },
  {
   "cell_type": "code",
   "execution_count": 63,
   "metadata": {},
   "outputs": [],
   "source": [
    "C=[53.95,54,54.1,54.3,54.5]\n",
    "prob = svm_problem(Y_train[0:20000], X_train[0:20000])\n",
    "param1 = svm_parameter('-t 0 -c 53.95 -b 1')\n",
    "param2 = svm_parameter('-t 0 -c 54 -b 1')\n",
    "param3 = svm_parameter('-t 0 -c 54.1 -b 1')\n",
    "param4 = svm_parameter('-t 0 -c 54.3 -b 1')\n",
    "param5 = svm_parameter('-t 0 -c 54.5 -b 1')"
   ]
  },
  {
   "cell_type": "code",
   "execution_count": 9,
   "metadata": {},
   "outputs": [
    {
     "name": "stdout",
     "output_type": "stream",
     "text": [
      "Model supports probability estimates, but disabled in predicton.\n",
      "Accuracy = 79.28% (7928/10000) (classification)\n",
      "(79.28, 3.2961, 0.6453380439059659)\n",
      "Model supports probability estimates, but disabled in predicton.\n",
      "Accuracy = 79.3% (7930/10000) (classification)\n",
      "(79.3, 3.2981, 0.6451649241897514)\n",
      "Model supports probability estimates, but disabled in predicton.\n",
      "Accuracy = 79.28% (7928/10000) (classification)\n",
      "(79.28, 3.2994, 0.6450263724846607)\n",
      "Model supports probability estimates, but disabled in predicton.\n",
      "Accuracy = 79.29% (7929/10000) (classification)\n",
      "(79.29, 3.2943, 0.6454761151052784)\n",
      "Model supports probability estimates, but disabled in predicton.\n",
      "Accuracy = 79.28% (7928/10000) (classification)\n",
      "(79.28, 3.297, 0.6452699412369616)\n"
     ]
    }
   ],
   "source": [
    "P=[param1,param2,param3,param4,param5]\n",
    "for i in range(len(P)):\n",
    "    model = svm_train(prob, P[i])\n",
    "    p_label, p_acc, p_val = svm_predict(Y_test, X_test, model)\n",
    "    print(p_acc)"
   ]
  },
  {
   "cell_type": "code",
   "execution_count": 64,
   "metadata": {},
   "outputs": [
    {
     "name": "stdout",
     "output_type": "stream",
     "text": [
      "Model supports probability estimates, but disabled in predicton.\n",
      "Accuracy = 79.3% (7930/10000) (classification)\n"
     ]
    }
   ],
   "source": [
    "param2 = svm_parameter('-t 0 -c 54 -b 1')\n",
    "model = svm_train(prob, param2)\n",
    "p_label, p_acc, p_val = svm_predict(Y_test, X_test, model)"
   ]
  },
  {
   "cell_type": "code",
   "execution_count": 65,
   "metadata": {},
   "outputs": [
    {
     "name": "stdout",
     "output_type": "stream",
     "text": [
      "Got 7930 / 10000 correct\n",
      "Accuracy = 0.793000\n",
      "[[ 850    1    7   18    6   54   32    0   12    0]\n",
      " [   0 1080   17    5    5    6    3    2   17    0]\n",
      " [  15   23  814   35   19   32   33    3   55    3]\n",
      " [  25    2   38  755    6  116   10    9   33   16]\n",
      " [   4    7   18    4  816   18   13   20    6   76]\n",
      " [  38   20   33  138   26  562   18    6   29   22]\n",
      " [  27    7   26    1   22   19  851    0    5    0]\n",
      " [   0   18   14   10   39   11    5  780    9  142]\n",
      " [  75   21   26   45   20   55   25   11  691    5]\n",
      " [   4    7    3   20   90   23    1  126    4  731]]\n",
      "              precision    recall  f1-score   support\n",
      "\n",
      "           0      0.819     0.867     0.842       980\n",
      "           1      0.911     0.952     0.931      1135\n",
      "           2      0.817     0.789     0.803      1032\n",
      "           3      0.732     0.748     0.740      1010\n",
      "           4      0.778     0.831     0.804       982\n",
      "           5      0.627     0.630     0.629       892\n",
      "           6      0.859     0.888     0.873       958\n",
      "           7      0.815     0.759     0.786      1028\n",
      "           8      0.803     0.709     0.753       974\n",
      "           9      0.735     0.724     0.730      1009\n",
      "\n",
      "   micro avg      0.793     0.793     0.793     10000\n",
      "   macro avg      0.790     0.790     0.789     10000\n",
      "weighted avg      0.793     0.793     0.792     10000\n",
      "\n"
     ]
    },
    {
     "data": {
      "image/png": "[encoded data removed]",
      "text/plain": [
       "<Figure size 576x576 with 2 Axes>"
      ]
     },
     "metadata": {
      "needs_background": "light"
     },
     "output_type": "display_data"
    }
   ],
   "source": [
    "y_pred=p_label\n",
    "num_test = len(Y_test)\n",
    "num_correct = np.sum(y_pred == y_test)\n",
    "print('Got %d / %d correct' % (num_correct, num_test))\n",
    "print('Accuracy = %f' % (np.mean(y_test == y_pred)))\n",
    "print(confusion_matrix(y_test, y_pred)) \n",
    "print(classification_report(y_test, y_pred,\n",
    "                            target_names=list(label_dict.values()),digits=3))\n",
    "plt.figure(figsize=(8,8))\n",
    "cnf_matrix = confusion_matrix(y_test, y_pred)\n",
    "classes = list(label_dict.values())\n",
    "plt.imshow(cnf_matrix, interpolation='nearest')\n",
    "plt.colorbar()\n",
    "tick_marks = np.arange(len(classes))\n",
    "_ = plt.xticks(tick_marks, classes, rotation=90)\n",
    "_ = plt.yticks(tick_marks, classes)"
   ]
  },
  {
   "cell_type": "markdown",
   "metadata": {},
   "source": [
    "#### RBF Kernel"
   ]
  },
  {
   "cell_type": "code",
   "execution_count": 67,
   "metadata": {},
   "outputs": [],
   "source": [
    "C=[121,124,127,129]\n",
    "prob = svm_problem(Y_train[0:20000], X_train[0:20000])\n",
    "param1 = svm_parameter('-t 2 -c 121 -b 1')\n",
    "param2 = svm_parameter('-t 2 -c 124 -b 1')\n",
    "param3 = svm_parameter('-t 2 -c 127 -b 1')\n",
    "param4 = svm_parameter('-t 2 -c 129 -b 1')"
   ]
  },
  {
   "cell_type": "code",
   "execution_count": 13,
   "metadata": {},
   "outputs": [
    {
     "name": "stdout",
     "output_type": "stream",
     "text": [
      "Model supports probability estimates, but disabled in predicton.\n",
      "Accuracy = 83.39% (8339/10000) (classification)\n",
      "(83.39, 2.7104, 0.7036783550745542)\n",
      "Model supports probability estimates, but disabled in predicton.\n",
      "Accuracy = 83.43% (8343/10000) (classification)\n",
      "(83.43, 2.7022, 0.7045479398580405)\n",
      "Model supports probability estimates, but disabled in predicton.\n",
      "Accuracy = 83.42% (8342/10000) (classification)\n",
      "(83.42, 2.7038, 0.7043683398516122)\n",
      "Model supports probability estimates, but disabled in predicton.\n",
      "Accuracy = 83.45% (8345/10000) (classification)\n",
      "(83.45, 2.706, 0.704216641982182)\n"
     ]
    }
   ],
   "source": [
    "P=[param1,param2,param3,param4]\n",
    "for i in range(len(P)):\n",
    "    model = svm_train(prob, P[i])\n",
    "    p_label, p_acc, p_val = svm_predict(Y_test, X_test, model)\n",
    "    print(p_acc)"
   ]
  },
  {
   "cell_type": "code",
   "execution_count": 68,
   "metadata": {},
   "outputs": [
    {
     "name": "stdout",
     "output_type": "stream",
     "text": [
      "Model supports probability estimates, but disabled in predicton.\n",
      "Accuracy = 83.45% (8345/10000) (classification)\n"
     ]
    }
   ],
   "source": [
    "param4 = svm_parameter('-t 2 -c 129 -b 1')\n",
    "model = svm_train(prob, param4)\n",
    "p_label, p_acc, p_val = svm_predict(Y_test, X_test, model)"
   ]
  },
  {
   "cell_type": "code",
   "execution_count": 69,
   "metadata": {},
   "outputs": [
    {
     "name": "stdout",
     "output_type": "stream",
     "text": [
      "Got 8345 / 10000 correct\n",
      "Accuracy = 0.834500\n",
      "[[ 872    0    7   15    7   31   36    0   12    0]\n",
      " [   0 1108   10    2    2    1    5    2    5    0]\n",
      " [  16   11  859   29   14   17   28    4   52    2]\n",
      " [  22    0   22  809    3   98   10    9   29    8]\n",
      " [   4    8   16    1  831    6    8   18    6   84]\n",
      " [  30    4   11  113   21  656   16    7   24   10]\n",
      " [  27    3   23    1   16   15  868    0    5    0]\n",
      " [   1   17   15    6   41    6    1  800    7  134]\n",
      " [  64   11   23   22   16   27   16   11  777    7]\n",
      " [   4    7    3   19   71   19    2  117    2  765]]\n",
      "              precision    recall  f1-score   support\n",
      "\n",
      "           0      0.838     0.890     0.863       980\n",
      "           1      0.948     0.976     0.962      1135\n",
      "           2      0.869     0.832     0.850      1032\n",
      "           3      0.795     0.801     0.798      1010\n",
      "           4      0.813     0.846     0.829       982\n",
      "           5      0.749     0.735     0.742       892\n",
      "           6      0.877     0.906     0.891       958\n",
      "           7      0.826     0.778     0.802      1028\n",
      "           8      0.845     0.798     0.821       974\n",
      "           9      0.757     0.758     0.758      1009\n",
      "\n",
      "   micro avg      0.835     0.835     0.835     10000\n",
      "   macro avg      0.832     0.832     0.832     10000\n",
      "weighted avg      0.834     0.835     0.834     10000\n",
      "\n"
     ]
    },
    {
     "data": {
      "image/png": "[encoded data removed]",
      "text/plain": [
       "<Figure size 576x576 with 2 Axes>"
      ]
     },
     "metadata": {
      "needs_background": "light"
     },
     "output_type": "display_data"
    }
   ],
   "source": [
    "y_pred=p_label\n",
    "num_test = len(Y_test)\n",
    "num_correct = np.sum(y_pred == y_test)\n",
    "print('Got %d / %d correct' % (num_correct, num_test))\n",
    "print('Accuracy = %f' % (np.mean(y_test == y_pred)))\n",
    "print(confusion_matrix(y_test, y_pred)) \n",
    "print(classification_report(y_test, y_pred,\n",
    "                            target_names=list(label_dict.values()),digits=3))\n",
    "plt.figure(figsize=(8,8))\n",
    "cnf_matrix = confusion_matrix(y_test, y_pred)\n",
    "classes = list(label_dict.values())\n",
    "plt.imshow(cnf_matrix, interpolation='nearest')\n",
    "plt.colorbar()\n",
    "tick_marks = np.arange(len(classes))\n",
    "_ = plt.xticks(tick_marks, classes, rotation=90)\n",
    "_ = plt.yticks(tick_marks, classes)"
   ]
  },
  {
   "cell_type": "markdown",
   "metadata": {},
   "source": [
    "### Retain 95% Eigenvalues"
   ]
  },
  {
   "cell_type": "code",
   "execution_count": 16,
   "metadata": {},
   "outputs": [
    {
     "name": "stdout",
     "output_type": "stream",
     "text": [
      "153\n"
     ]
    }
   ],
   "source": [
    "# Deduct Training Set\n",
    "SJ = SJPCA()\n",
    "SJ.train(big_X)\n",
    "xtr_m, tr_cov, tr_val, tr_vec = SJ.compute_mean_covar_eigen()\n",
    "keep_dim = SJ.get_comp_K(tr_val, 0.95)\n",
    "new_big_X = SJ.deduct_img(xtr_m, tr_vec, keep_dim)\n",
    "print(keep_dim)"
   ]
  },
  {
   "cell_type": "code",
   "execution_count": 17,
   "metadata": {},
   "outputs": [],
   "source": [
    "# resplit the dataset and normalize them with min-max normalization\n",
    "x_train = new_big_X[0:60000,:]\n",
    "x_test = new_big_X[60000:70000,:]\n",
    "tr_min = np.min(x_train,axis=1)\n",
    "tr_cha = np.max(x_train,axis=1)-np.min(x_train,axis=1)\n",
    "te_min = np.min(x_test,axis=1)\n",
    "te_cha = np.max(x_test,axis=1)-np.min(x_test,axis=1)\n",
    "for i in range(60000):\n",
    "    x_train[i]=(x_train[i]-tr_min[i])/tr_cha[i]\n",
    "for i in range(10000):\n",
    "    x_test[i]=(x_test[i]-te_min[i])/te_cha[i]"
   ]
  },
  {
   "cell_type": "code",
   "execution_count": 18,
   "metadata": {},
   "outputs": [],
   "source": [
    "X_train = x_train.tolist()\n",
    "Y_train = y_train.tolist()\n",
    "X_test  = x_test.tolist()\n",
    "Y_test  = y_test.tolist()"
   ]
  },
  {
   "cell_type": "markdown",
   "metadata": {},
   "source": [
    "#### Linear Kernel"
   ]
  },
  {
   "cell_type": "code",
   "execution_count": 19,
   "metadata": {},
   "outputs": [],
   "source": [
    "C=[9.03,9.05,9.055,9.06]\n",
    "prob = svm_problem(Y_train[0:20000], X_train[0:20000])\n",
    "param1 = svm_parameter('-t 0 -c 9.03 -b 1')\n",
    "param2 = svm_parameter('-t 0 -c 9.05 -b 1')\n",
    "param3 = svm_parameter('-t 0 -c 9.055 -b 1')\n",
    "param4 = svm_parameter('-t 0 -c 9.06 -b 1')"
   ]
  },
  {
   "cell_type": "code",
   "execution_count": 20,
   "metadata": {},
   "outputs": [
    {
     "name": "stdout",
     "output_type": "stream",
     "text": [
      "Model supports probability estimates, but disabled in predicton.\n",
      "Accuracy = 89.74% (8974/10000) (classification)\n",
      "(89.74, 1.6183, 0.8153624855084941)\n",
      "Model supports probability estimates, but disabled in predicton.\n",
      "Accuracy = 89.74% (8974/10000) (classification)\n",
      "(89.74, 1.6169, 0.8155189255113864)\n",
      "Model supports probability estimates, but disabled in predicton.\n",
      "Accuracy = 89.74% (8974/10000) (classification)\n",
      "(89.74, 1.6169, 0.8155189255113864)\n",
      "Model supports probability estimates, but disabled in predicton.\n",
      "Accuracy = 89.73% (8973/10000) (classification)\n",
      "(89.73, 1.6205, 0.8151134658623745)\n"
     ]
    }
   ],
   "source": [
    "P=[param1,param2,param3,param4]\n",
    "for i in range(len(P)):\n",
    "    model = svm_train(prob, P[i])\n",
    "    p_label, p_acc, p_val = svm_predict(Y_test, X_test, model)\n",
    "    print(p_acc)"
   ]
  },
  {
   "cell_type": "code",
   "execution_count": 49,
   "metadata": {},
   "outputs": [
    {
     "name": "stdout",
     "output_type": "stream",
     "text": [
      "Model supports probability estimates, but disabled in predicton.\n",
      "Accuracy = 89.74% (8974/10000) (classification)\n"
     ]
    }
   ],
   "source": [
    "param2 = svm_parameter('-t 0 -c 9.05 -b 1')\n",
    "model = svm_train(prob, param2)\n",
    "p_label, p_acc, p_val = svm_predict(Y_test, X_test, model)"
   ]
  },
  {
   "cell_type": "code",
   "execution_count": 50,
   "metadata": {},
   "outputs": [
    {
     "name": "stdout",
     "output_type": "stream",
     "text": [
      "Got 8974 / 10000 correct\n",
      "Accuracy = 0.897400\n",
      "[[ 914    0    3    9    1   36   14    1    2    0]\n",
      " [   0 1107    8    2    0    5    2    4    7    0]\n",
      " [   8   11  908   19   13   10   10   10   41    2]\n",
      " [   3    1   36  875    2   55    3    6   19   10]\n",
      " [   3    1   11    0  918    4    6    4    6   29]\n",
      " [   8    6    6   41   10  756   12    7   35   11]\n",
      " [  16    2   10    3   12   23  890    0    2    0]\n",
      " [   1   14   20   10   17    4    1  915    3   43]\n",
      " [  12   11   16   18   10   42   14    9  822   20]\n",
      " [   7    7    1   12   40   17    1   44   11  869]]\n",
      "              precision    recall  f1-score   support\n",
      "\n",
      "           0      0.940     0.933     0.936       980\n",
      "           1      0.954     0.975     0.965      1135\n",
      "           2      0.891     0.880     0.885      1032\n",
      "           3      0.885     0.866     0.875      1010\n",
      "           4      0.897     0.935     0.916       982\n",
      "           5      0.794     0.848     0.820       892\n",
      "           6      0.934     0.929     0.931       958\n",
      "           7      0.915     0.890     0.902      1028\n",
      "           8      0.867     0.844     0.855       974\n",
      "           9      0.883     0.861     0.872      1009\n",
      "\n",
      "   micro avg      0.897     0.897     0.897     10000\n",
      "   macro avg      0.896     0.896     0.896     10000\n",
      "weighted avg      0.898     0.897     0.897     10000\n",
      "\n"
     ]
    },
    {
     "data": {
      "image/png": "[encoded data removed]",
      "text/plain": [
       "<Figure size 576x576 with 2 Axes>"
      ]
     },
     "metadata": {
      "needs_background": "light"
     },
     "output_type": "display_data"
    }
   ],
   "source": [
    "y_pred=p_label\n",
    "num_test = len(Y_test)\n",
    "num_correct = np.sum(y_pred == y_test)\n",
    "print('Got %d / %d correct' % (num_correct, num_test))\n",
    "print('Accuracy = %f' % (np.mean(y_test == y_pred)))\n",
    "print(confusion_matrix(y_test, y_pred)) \n",
    "print(classification_report(y_test, y_pred,\n",
    "                            target_names=list(label_dict.values()),digits=3))\n",
    "plt.figure(figsize=(8,8))\n",
    "cnf_matrix = confusion_matrix(y_test, y_pred)\n",
    "classes = list(label_dict.values())\n",
    "plt.imshow(cnf_matrix, interpolation='nearest')\n",
    "plt.colorbar()\n",
    "tick_marks = np.arange(len(classes))\n",
    "_ = plt.xticks(tick_marks, classes, rotation=90)\n",
    "_ = plt.yticks(tick_marks, classes)"
   ]
  },
  {
   "cell_type": "markdown",
   "metadata": {},
   "source": [
    "#### RBF Kernel"
   ]
  },
  {
   "cell_type": "code",
   "execution_count": 43,
   "metadata": {},
   "outputs": [],
   "source": [
    "C=[114,120,125,129]\n",
    "prob = svm_problem(Y_train[0:20000], X_train[0:20000])\n",
    "param1 = svm_parameter('-t 2 -c 114 -b 1')\n",
    "param2 = svm_parameter('-t 2 -c 120 -b 1')\n",
    "param3 = svm_parameter('-t 2 -c 125 -b 1')\n",
    "param4 = svm_parameter('-t 2 -c 129 -b 1')"
   ]
  },
  {
   "cell_type": "code",
   "execution_count": 44,
   "metadata": {},
   "outputs": [
    {
     "name": "stdout",
     "output_type": "stream",
     "text": [
      "Model supports probability estimates, but disabled in predicton.\n",
      "Accuracy = 92.14% (9214/10000) (classification)\n",
      "(92.14, 1.2379, 0.8573398319503869)\n",
      "Model supports probability estimates, but disabled in predicton.\n",
      "Accuracy = 92.14% (9214/10000) (classification)\n",
      "(92.14, 1.241, 0.8570281706490617)\n",
      "Model supports probability estimates, but disabled in predicton.\n",
      "Accuracy = 92.19% (9219/10000) (classification)\n",
      "(92.19000000000001, 1.2275, 0.8585118655121964)\n",
      "Model supports probability estimates, but disabled in predicton.\n",
      "Accuracy = 92.18% (9218/10000) (classification)\n",
      "(92.17999999999999, 1.2298, 0.8582607124236713)\n"
     ]
    }
   ],
   "source": [
    "P=[param1,param2,param3,param4]\n",
    "for i in range(len(P)):\n",
    "    model = svm_train(prob, P[i])\n",
    "    p_label, p_acc, p_val = svm_predict(Y_test, X_test, model)\n",
    "    print(p_acc)"
   ]
  },
  {
   "cell_type": "code",
   "execution_count": 46,
   "metadata": {},
   "outputs": [
    {
     "name": "stdout",
     "output_type": "stream",
     "text": [
      "Model supports probability estimates, but disabled in predicton.\n",
      "Accuracy = 92.19% (9219/10000) (classification)\n"
     ]
    }
   ],
   "source": [
    "param2 = svm_parameter('-t 2 -c 125 -b 1')\n",
    "model = svm_train(prob, param2)\n",
    "p_label, p_acc, p_val = svm_predict(Y_test, X_test, model)"
   ]
  },
  {
   "cell_type": "code",
   "execution_count": 47,
   "metadata": {},
   "outputs": [
    {
     "name": "stdout",
     "output_type": "stream",
     "text": [
      "Got 9219 / 10000 correct\n",
      "Accuracy = 0.921900\n",
      "[[ 935    0    1    8    0   20   14    1    1    0]\n",
      " [   0 1117    4    2    1    3    1    2    5    0]\n",
      " [   6    6  949   11   12    6    8    6   26    2]\n",
      " [   3    1   22  913    2   36    2    7   14   10]\n",
      " [   2    0    9    1  929    3    3    3    3   29]\n",
      " [   8    3    4   44   10  781   12    3   19    8]\n",
      " [  15    2    9    1   13   17  898    0    3    0]\n",
      " [   0   12   17    5   14    1    1  942    4   32]\n",
      " [  12    6    9   11    8   25   15    7  867   14]\n",
      " [   2    6    2   13   36   11    2   42    7  888]]\n",
      "              precision    recall  f1-score   support\n",
      "\n",
      "           0      0.951     0.954     0.953       980\n",
      "           1      0.969     0.984     0.976      1135\n",
      "           2      0.925     0.920     0.922      1032\n",
      "           3      0.905     0.904     0.904      1010\n",
      "           4      0.906     0.946     0.926       982\n",
      "           5      0.865     0.876     0.870       892\n",
      "           6      0.939     0.937     0.938       958\n",
      "           7      0.930     0.916     0.923      1028\n",
      "           8      0.914     0.890     0.902       974\n",
      "           9      0.903     0.880     0.892      1009\n",
      "\n",
      "   micro avg      0.922     0.922     0.922     10000\n",
      "   macro avg      0.921     0.921     0.921     10000\n",
      "weighted avg      0.922     0.922     0.922     10000\n",
      "\n"
     ]
    },
    {
     "data": {
      "image/png": "[encoded data removed]",
      "text/plain": [
       "<Figure size 576x576 with 2 Axes>"
      ]
     },
     "metadata": {
      "needs_background": "light"
     },
     "output_type": "display_data"
    }
   ],
   "source": [
    "y_pred=p_label\n",
    "num_test = len(Y_test)\n",
    "num_correct = np.sum(y_pred == y_test)\n",
    "print('Got %d / %d correct' % (num_correct, num_test))\n",
    "print('Accuracy = %f' % (np.mean(y_test == y_pred)))\n",
    "print(confusion_matrix(y_test, y_pred)) \n",
    "print(classification_report(y_test, y_pred,\n",
    "                            target_names=list(label_dict.values()),digits=3))\n",
    "plt.figure(figsize=(8,8))\n",
    "cnf_matrix = confusion_matrix(y_test, y_pred)\n",
    "classes = list(label_dict.values())\n",
    "plt.imshow(cnf_matrix, interpolation='nearest')\n",
    "plt.colorbar()\n",
    "tick_marks = np.arange(len(classes))\n",
    "_ = plt.xticks(tick_marks, classes, rotation=90)\n",
    "_ = plt.yticks(tick_marks, classes)"
   ]
  }
 ],
 "metadata": {
  "kernelspec": {
   "display_name": "Python 3",
   "language": "python",
   "name": "python3"
  },
  "language_info": {
   "codemirror_mode": {
    "name": "ipython",
    "version": 3
   },
   "file_extension": ".py",
   "mimetype": "text/x-python",
   "name": "python",
   "nbconvert_exporter": "python",
   "pygments_lexer": "ipython3",
   "version": "3.6.8"
  }
 },
 "nbformat": 4,
 "nbformat_minor": 2
}
