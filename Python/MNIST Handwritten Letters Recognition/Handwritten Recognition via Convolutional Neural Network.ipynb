{
 "cells": [
  {
   "cell_type": "markdown",
   "metadata": {
    "colab_type": "text",
    "id": "p0F9ZJcXkvV6"
   },
   "source": [
    "<h4 align=\"center\">Jian Sun</h4>\n",
    "<h4 align=\"center\">DUID: 873397832</h4>\n",
    "\n",
    "# Content\n",
    "- Introduction\n",
    "- Model\n",
    "- Result\n",
    "  - Train VGG-16 with MNIST from Scratch\n",
    "  - Predict MNIST by Trained Imagenet Weight in VGG-16\n",
    "  - Freeze All The Convolutional Layers Retrain VGG-16 Network On MNIST\n",
    "  - Freeze All The Fully Connected Layers Retrain VGG-16 Network On MNIST\n",
    "- Discussion\n",
    "- Appendix"
   ]
  },
  {
   "cell_type": "markdown",
   "metadata": {
    "colab_type": "text",
    "id": "lcNCcwyrl_19"
   },
   "source": [
    "# Introduction\n",
    "\n",
    "In this project, we implement two methods to recognize MNIST dataset. \n",
    "\n",
    "One is to code the VGG-16 from scratch and train it with the MNIST from the very beginning, another method is to train MNISR with existing VGG-16 weight drawn from Imagenet dataset. Specifically, we will discuss the prediction capability after freezing all convolutional layers or freezing all fully connected layers. This will help us to learn the power of different layers in convolutional neural network. Before doing the experiment, we hypothesize that fully connected layer is vital crucial. Without it, the whole nerual network will perform extremely worse. Conversely, convolional layer doesn't play an important layer for MNIST dataset, since it is a binery image dataset, not the colorful one. \n",
    "\n",
    "# Model\n",
    "## Data Processing\n",
    "The whole MNIST is splitted as the following three parts.\n",
    "\n",
    "The training set has 48000  28X28 images;  \n",
    "the validation set has 12000 28X28 images;  \n",
    "the testing set has 10000 28X28 images.  \n",
    "\n",
    "Then, given that the VGG-16 doesn't accept image which size is smaller than 32X32, the current images have to be enlarged. The method here is adding paddings. And the final size is 34X34, which fits for VGG-16 model.\n",
    "\n",
    "## Train VGG-16 with MNIST from Scratch\n",
    "This part starts from stacking layers. With the help of Sequence() from keras, we build the network up. And we set the batch size as 16, epoch as 500, optimizer as adam, loss as categorical cross entropy loss.\n",
    "\n",
    "Callbacks funciton is used here to reduce the learning rate automatically and stop the training when validation loss doesn't change for 10 epochs, this function saves us lots of time and is very convenient.\n",
    "\n",
    "## Predict MNIST by Trained Imagenet Weight in VGG-16\n",
    "A very powerful function, VGG16() from keras.applications helps to construct the neural network here. And we set the batch size as 16, epoch as 100, optimizer as adam, loss as categorical cross entropy loss.\n",
    " \n",
    "Callbacks funciton is also used here to reduce the learning rate automatically and stop the training when validation loss doesn't change for 8 epochs, this function saves us lots of time and is very convenient.\n",
    " \n",
    "## Freeze All The Convolutional Layers Retrain VGG-16 Network On MNIST\n",
    "A very powerful function, VGG16() from keras.applications helps to construct the neural network here. And we set the batch size as 16, epoch as 100, optimizer as adam, loss as categorical cross entropy loss. Additionally, the convolutional layers are frozen by code: layer.trainable = False.\n",
    " \n",
    "Callbacks funciton is also used here to reduce the learning rate automatically and stop the training when validation loss doesn't change for 8 epochs, this function saves us lots of time and is very convenient.\n",
    "\n",
    "## Freeze All The Fully Connected Layers Retrain VGG-16 Network On MNIST\n",
    "A very powerful function, VGG16() from keras.applications helps to construct the neural network here. And we set the batch size as 16, epoch as 100, optimizer as adam, loss as categorical cross entropy loss. Additionally, the fully connected layers are frozen by code: layer.trainable = False.\n",
    " \n",
    "Callbacks funciton is also used here to reduce the learning rate automatically and stop the training when validation loss doesn't change for 8 epochs, this function saves us lots of time and is very convenient.\n"
   ]
  },
  {
   "cell_type": "markdown",
   "metadata": {
    "colab_type": "text",
    "id": "hJB4BgLD-Yra"
   },
   "source": [
    "# Train VGG-16 with MNIST from Scratch\n",
    "\n",
    "The training stops at epoach 11 with the training loss of 4.9966e-04, the training accuracy of 0.9999, the validation loss of 0.0688 and the validation accuracy of 0.9934, when the learning rate is 7.999999979801942e-07.\n",
    "\n",
    "Next, we use this weight to predict testing set, the prediction loss is 0.0492 and the prediction accuracy is 0.9953.\n",
    "\n"
   ]
  },
  {
   "cell_type": "code",
   "execution_count": 111,
   "metadata": {
    "colab": {
     "base_uri": "https://localhost:8080/",
     "height": 968
    },
    "colab_type": "code",
    "id": "UNp168BK-rge",
    "outputId": "7d4ad453-7f17-41f3-f357-eeca64eb837c"
   },
   "outputs": [
    {
     "name": "stdout",
     "output_type": "stream",
     "text": [
      "Got 9953 / 10000 correct\n",
      "Accuracy = 0.995300\n",
      "[[ 977    0    0    0    0    0    2    1    0    0]\n",
      " [   0 1130    1    2    0    0    0    1    1    0]\n",
      " [   0    0 1029    1    0    0    0    2    0    0]\n",
      " [   0    0    0 1006    0    3    0    0    1    0]\n",
      " [   0    0    0    0  977    0    1    0    0    4]\n",
      " [   0    0    0    5    0  886    1    0    0    0]\n",
      " [   4    2    0    0    0    0  952    0    0    0]\n",
      " [   0    2    1    0    0    0    0 1024    0    1]\n",
      " [   0    0    0    1    0    0    0    0  972    1]\n",
      " [   0    0    0    0    4    1    0    2    2 1000]]\n",
      "              precision    recall  f1-score   support\n",
      "\n",
      "           0      0.996     0.997     0.996       980\n",
      "           1      0.996     0.996     0.996      1135\n",
      "           2      0.998     0.997     0.998      1032\n",
      "           3      0.991     0.996     0.994      1010\n",
      "           4      0.996     0.995     0.995       982\n",
      "           5      0.996     0.993     0.994       892\n",
      "           6      0.996     0.994     0.995       958\n",
      "           7      0.994     0.996     0.995      1028\n",
      "           8      0.996     0.998     0.997       974\n",
      "           9      0.994     0.991     0.993      1009\n",
      "\n",
      "    accuracy                          0.995     10000\n",
      "   macro avg      0.995     0.995     0.995     10000\n",
      "weighted avg      0.995     0.995     0.995     10000\n",
      "\n"
     ]
    },
    {
     "data": {
      "image/png": "[encoded data removed]",
      "text/plain": [
       "<Figure size 576x576 with 2 Axes>"
      ]
     },
     "metadata": {
      "tags": []
     },
     "output_type": "display_data"
    }
   ],
   "source": [
    "print('Got %d / %d correct' % (num_correct, num_test))\n",
    "print('Accuracy = %f' % (np.mean(y_test == y_pred)))\n",
    "print(confusion_matrix(y_test, y_pred)) \n",
    "print(classification_report(y_test, y_pred,\n",
    "                            target_names=list(label_dict.values()),digits=3))\n",
    "plt.figure(figsize=(8,8))\n",
    "cnf_matrix = confusion_matrix(y_test, y_pred)\n",
    "classes = list(label_dict.values())\n",
    "plt.imshow(cnf_matrix, interpolation='nearest')\n",
    "plt.colorbar()\n",
    "tick_marks = np.arange(len(classes))\n",
    "_ = plt.xticks(tick_marks, classes, rotation=90)\n",
    "_ = plt.yticks(tick_marks, classes)"
   ]
  },
  {
   "cell_type": "markdown",
   "metadata": {
    "colab_type": "text",
    "id": "wnsD1TFx-e6n"
   },
   "source": [
    "# Predict MNIST by Trained Imagenet Weight in VGG-16\n",
    "\n",
    "The training stops at epoach 37 with the training loss of 0.0303, the training accuracy of 0.9920, the validation loss of 0.0724 and the validation accuracy of 0.9778, when the learning rate is 6.400000529538374e-08.\n",
    "\n",
    "Next, we use this weight to predict testing set, the prediction loss is 0.0672 and the prediction accuracy is 0.9788."
   ]
  },
  {
   "cell_type": "code",
   "execution_count": 0,
   "metadata": {
    "colab": {
     "base_uri": "https://localhost:8080/",
     "height": 968
    },
    "colab_type": "code",
    "id": "EI0CTb9K-w64",
    "outputId": "e30cab72-c64a-4b3f-bfc8-c2214c7912df"
   },
   "outputs": [
    {
     "name": "stdout",
     "output_type": "stream",
     "text": [
      "Got 9788 / 10000 correct\n",
      "Accuracy = 0.978800\n",
      "[[ 969    0    1    0    0    4    5    1    0    0]\n",
      " [   0 1123    0    0    3    0    4    4    1    0]\n",
      " [   1    1 1008    4    2    4    4    5    2    1]\n",
      " [   0    0   10  977    0   16    0    3    2    2]\n",
      " [   0    1    1    0  967    1    2    3    4    3]\n",
      " [   2    0    7    9    1  864    0    2    6    1]\n",
      " [   7    0    4    0    0    2  944    0    1    0]\n",
      " [   0    5    4    2    8    0    0 1004    1    4]\n",
      " [   0    0    6    2    3    4    1    1  956    1]\n",
      " [   3    0    3    2    7    2    0    5   11  976]]\n",
      "              precision    recall  f1-score   support\n",
      "\n",
      "           0      0.987     0.989     0.988       980\n",
      "           1      0.994     0.989     0.992      1135\n",
      "           2      0.966     0.977     0.971      1032\n",
      "           3      0.981     0.967     0.974      1010\n",
      "           4      0.976     0.985     0.980       982\n",
      "           5      0.963     0.969     0.966       892\n",
      "           6      0.983     0.985     0.984       958\n",
      "           7      0.977     0.977     0.977      1028\n",
      "           8      0.972     0.982     0.977       974\n",
      "           9      0.988     0.967     0.977      1009\n",
      "\n",
      "    accuracy                          0.979     10000\n",
      "   macro avg      0.979     0.979     0.979     10000\n",
      "weighted avg      0.979     0.979     0.979     10000\n",
      "\n"
     ]
    },
    {
     "data": {
      "image/png": "[encoded data removed]",
      "text/plain": [
       "<Figure size 576x576 with 2 Axes>"
      ]
     },
     "metadata": {
      "tags": []
     },
     "output_type": "display_data"
    }
   ],
   "source": [
    "print('Got %d / %d correct' % (num_correct, num_test))\n",
    "print('Accuracy = %f' % (np.mean(y_test == y_pred)))\n",
    "print(confusion_matrix(y_test, y_pred)) \n",
    "print(classification_report(y_test, y_pred,\n",
    "                            target_names=list(label_dict.values()),digits=3))\n",
    "plt.figure(figsize=(8,8))\n",
    "cnf_matrix = confusion_matrix(y_test, y_pred)\n",
    "classes = list(label_dict.values())\n",
    "plt.imshow(cnf_matrix, interpolation='nearest')\n",
    "plt.colorbar()\n",
    "tick_marks = np.arange(len(classes))\n",
    "_ = plt.xticks(tick_marks, classes, rotation=90)\n",
    "_ = plt.yticks(tick_marks, classes)"
   ]
  },
  {
   "cell_type": "markdown",
   "metadata": {
    "colab_type": "text",
    "id": "N3rsgusE-fJR"
   },
   "source": [
    "# Freeze All The Convolutional Layers Retrain VGG-16 Network On MNIST\n",
    "\n",
    "The training stops at epoach 22 with the training loss of 0.0272, the training accuracy of 0.9924, the validation loss of 0.0723 and the validation accuracy of 0.9788, when the learning rate is 6.400000529538374e-08.\n",
    "\n",
    "Next, we use this weight to predict testing set, the prediction loss is 0.0693 and the prediction accuracy is 0.9771."
   ]
  },
  {
   "cell_type": "code",
   "execution_count": 0,
   "metadata": {
    "colab": {
     "base_uri": "https://localhost:8080/",
     "height": 968
    },
    "colab_type": "code",
    "id": "J_45etwMFgYa",
    "outputId": "5a2c37ea-9da6-4bfc-b9bf-655b48e453d8"
   },
   "outputs": [
    {
     "name": "stdout",
     "output_type": "stream",
     "text": [
      "Got 9771 / 10000 correct\n",
      "Accuracy = 0.977100\n",
      "[[ 967    0    1    0    0    3    5    1    2    1]\n",
      " [   0 1125    0    0    3    0    4    2    1    0]\n",
      " [   1    2 1000    8    2    6    3    6    3    1]\n",
      " [   0    0    9  976    0   18    0    4    2    1]\n",
      " [   0    1    0    0  968    1    3    2    3    4]\n",
      " [   2    0    4   13    1  861    3    2    5    1]\n",
      " [   7    1    2    0    1    3  941    0    2    1]\n",
      " [   0    3    4    3   10    0    0 1002    1    5]\n",
      " [   0    0    3    4    2    4    2    2  955    2]\n",
      " [   3    0    3    3    5    3    0    4   12  976]]\n",
      "              precision    recall  f1-score   support\n",
      "\n",
      "           0      0.987     0.987     0.987       980\n",
      "           1      0.994     0.991     0.993      1135\n",
      "           2      0.975     0.969     0.972      1032\n",
      "           3      0.969     0.966     0.968      1010\n",
      "           4      0.976     0.986     0.981       982\n",
      "           5      0.958     0.965     0.961       892\n",
      "           6      0.979     0.982     0.981       958\n",
      "           7      0.978     0.975     0.976      1028\n",
      "           8      0.969     0.980     0.974       974\n",
      "           9      0.984     0.967     0.976      1009\n",
      "\n",
      "    accuracy                          0.977     10000\n",
      "   macro avg      0.977     0.977     0.977     10000\n",
      "weighted avg      0.977     0.977     0.977     10000\n",
      "\n"
     ]
    },
    {
     "data": {
      "image/png": "[encoded data removed]",
      "text/plain": [
       "<Figure size 576x576 with 2 Axes>"
      ]
     },
     "metadata": {
      "tags": []
     },
     "output_type": "display_data"
    }
   ],
   "source": [
    "print('Got %d / %d correct' % (num_correct, num_test))\n",
    "print('Accuracy = %f' % (np.mean(y_test == y_pred)))\n",
    "print(confusion_matrix(y_test, y_pred)) \n",
    "print(classification_report(y_test, y_pred,\n",
    "                            target_names=list(label_dict.values()),digits=3))\n",
    "plt.figure(figsize=(8,8))\n",
    "cnf_matrix = confusion_matrix(y_test, y_pred)\n",
    "classes = list(label_dict.values())\n",
    "plt.imshow(cnf_matrix, interpolation='nearest')\n",
    "plt.colorbar()\n",
    "tick_marks = np.arange(len(classes))\n",
    "_ = plt.xticks(tick_marks, classes, rotation=90)\n",
    "_ = plt.yticks(tick_marks, classes)"
   ]
  },
  {
   "cell_type": "markdown",
   "metadata": {
    "colab_type": "text",
    "id": "e1c7aT3n-fSR"
   },
   "source": [
    "# Freeze All The Fully Connected Layers Retrain VGG-16 Network On MNIST\n",
    "\n",
    "The training stops at epoach 9 with the training loss of 2.4916, the training accuracy of 0.1330, the validation loss of 2.5009 and the validation accuracy of 0.1352, when the learning rate is 8.000000525498762e-06.\n",
    "\n",
    "Next, we use this weight to predict testing set, the prediction loss is 2.4918 and the prediction accuracy is  0.1296.\n"
   ]
  },
  {
   "cell_type": "code",
   "execution_count": 0,
   "metadata": {
    "colab": {
     "base_uri": "https://localhost:8080/",
     "height": 1022
    },
    "colab_type": "code",
    "id": "lw2IsWE0_r0B",
    "outputId": "e54c1e3b-6e15-4447-adfd-144b2f917a0e"
   },
   "outputs": [
    {
     "name": "stdout",
     "output_type": "stream",
     "text": [
      "Got 1296 / 10000 correct\n",
      "Accuracy = 0.129600\n",
      "[[   0    0    0    0    0    0    0    0  980    0]\n",
      " [   0    0    0    4  821  266    0    2   34    8]\n",
      " [   0    0    0    0    5    0    0   10 1015    2]\n",
      " [   0    0    0    0    4    0    0    0 1005    1]\n",
      " [   0    0    0    5  315   27    0   12  612   11]\n",
      " [   0    0    0    0    8    0    0    2  881    1]\n",
      " [   0    0    0    0    8    1    0    3  939    7]\n",
      " [   0    0    0    0  217   48    0    8  702   53]\n",
      " [   0    0    0    0    2    0    0    0  972    0]\n",
      " [   0    0    0    0   15    5    0    0  988    1]]\n",
      "              precision    recall  f1-score   support\n",
      "\n",
      "           0      0.000     0.000     0.000       980\n",
      "           1      0.000     0.000     0.000      1135\n",
      "           2      0.000     0.000     0.000      1032\n",
      "           3      0.000     0.000     0.000      1010\n",
      "           4      0.226     0.321     0.265       982\n",
      "           5      0.000     0.000     0.000       892\n",
      "           6      0.000     0.000     0.000       958\n",
      "           7      0.216     0.008     0.015      1028\n",
      "           8      0.120     0.998     0.214       974\n",
      "           9      0.012     0.001     0.002      1009\n",
      "\n",
      "    accuracy                          0.130     10000\n",
      "   macro avg      0.057     0.133     0.050     10000\n",
      "weighted avg      0.057     0.130     0.049     10000\n",
      "\n"
     ]
    },
    {
     "name": "stderr",
     "output_type": "stream",
     "text": [
      "/usr/local/lib/python3.6/dist-packages/sklearn/metrics/classification.py:1437: UndefinedMetricWarning: Precision and F-score are ill-defined and being set to 0.0 in labels with no predicted samples.\n",
      "  'precision', 'predicted', average, warn_for)\n"
     ]
    },
    {
     "data": {
      "image/png": "[encoded data removed]",
      "text/plain": [
       "<Figure size 576x576 with 2 Axes>"
      ]
     },
     "metadata": {
      "tags": []
     },
     "output_type": "display_data"
    }
   ],
   "source": [
    "print('Got %d / %d correct' % (num_correct, num_test))\n",
    "print('Accuracy = %f' % (np.mean(y_test == y_pred)))\n",
    "print(confusion_matrix(y_test, y_pred)) \n",
    "print(classification_report(y_test, y_pred,\n",
    "                            target_names=list(label_dict.values()),digits=3))\n",
    "plt.figure(figsize=(8,8))\n",
    "cnf_matrix = confusion_matrix(y_test, y_pred)\n",
    "classes = list(label_dict.values())\n",
    "plt.imshow(cnf_matrix, interpolation='nearest')\n",
    "plt.colorbar()\n",
    "tick_marks = np.arange(len(classes))\n",
    "_ = plt.xticks(tick_marks, classes, rotation=90)\n",
    "_ = plt.yticks(tick_marks, classes)"
   ]
  },
  {
   "cell_type": "markdown",
   "metadata": {
    "colab_type": "text",
    "id": "50EUhp9Z_WhZ"
   },
   "source": [
    "\n",
    " \n",
    "## Discussion\n",
    "\n",
    "Here is a detailed table for all 4 parts.\n",
    "\n",
    "Methods           | Scratch  | Retrain | Freeze Conv | Freeze Fully Con\n",
    "------------------|----------|---------|-------------|---------------------------\n",
    "Train Acc         | 99.99%   | 99.20%  | 99.24%      | 13.30%\n",
    "Train Loss        | 5e^-4    | 0.0303  | 0.0272      | 2.4916 \n",
    "Valid Acc         | 99.34%   | 97.78%  | 97.88%      | 13.52%\n",
    "Valid Loss        | 0.0688   | 0.0724  | 0.0723      | 2.5009\n",
    "Test Acc          | 99.53%   | 97.88%  | 97.71%      | 12.96%\n",
    "Test Loss         | 0.0492   | 0.0672  | 0.0693      | 2.4918\n",
    "Time Per Epoch    | 143s     | 5s      | 5.5s        | 3s\n",
    "Learning Rate     | 8e^-7    | 6e^-8   | 6e^-8       | 8e^-6\n",
    "\n",
    "As we can see, the total rank for training part is Scratch > Freeze Conv > Retrain > Freeze Fully Con. Scratch performs best on training part. VGG-16 freezing all convolutional layers performs bettern than Retrain it on MNIST. It is a little weird, but it is truth. Meanwhile, VGG-16 freezing all full connected layers performs worst. \n",
    "\n",
    "The total rank for testing part is Scratch > Retrain > Freeze Conv >  Freeze Fully Con. \n",
    "\n",
    "In general, from this comparison, we recognize that full connected layer is so important for CNN, however, if we close convolutional layer, our result will not be influenced a lot. Perhaps, it is due to MNIST dataset as the binery image dataset, not the colorful one. Thus lossing convoluitonal layers doesn't affect a lot on CNN's performance. However, lossing fully connected layer means different, it will ruin your prediction, since we need softmax to do classification.\n",
    "\n",
    "CNN is a powerful model, there is huge CNN families. We hope to dig more."
   ]
  },
  {
   "cell_type": "markdown",
   "metadata": {
    "colab_type": "text",
    "id": "55I9HtBu_sHa"
   },
   "source": [
    "# Appendix\n",
    "## Load Packages"
   ]
  },
  {
   "cell_type": "code",
   "execution_count": 0,
   "metadata": {
    "colab": {},
    "colab_type": "code",
    "id": "MjJiOc-7zofs"
   },
   "outputs": [],
   "source": [
    "# import dataset and seperate them as train set and test set\n",
    "# index x represents image, index y represents label\n",
    "\n",
    "import tensorflow as tf\n",
    "import keras\n",
    "from numpy.linalg import *\n",
    "from tensorflow import keras\n",
    "import matplotlib.pyplot as plt\n",
    "from keras.optimizers import Adam\n",
    "from keras.models import Sequential\n",
    "from keras.applications import VGG16\n",
    "from keras.utils import to_categorical\n",
    "from keras.layers.convolutional import *\n",
    "from keras import callbacks, layers, optimizers, models\n",
    "import os, cv2, random, sklearn, sklearn.metrics, numpy as np\n",
    "from sklearn.preprocessing import StandardScaler\n",
    "from keras.metrics import categorical_crossentropy\n",
    "from sklearn.model_selection import train_test_split\n",
    "from keras.layers.normalization import BatchNormalization\n",
    "from keras.layers import Input, Dense, Conv2D, MaxPooling2D, Activation, Dropout, Flatten\n",
    "from sklearn.metrics import classification_report, confusion_matrix \n",
    "from keras.layers.convolutional import Convolution2D, MaxPooling2D, ZeroPadding2D\n",
    "from __future__ import absolute_import, division, print_function, unicode_literals"
   ]
  },
  {
   "cell_type": "markdown",
   "metadata": {
    "colab_type": "text",
    "id": "YxgQsHu0p-6M"
   },
   "source": [
    "## Load Dataset and Data Preparing"
   ]
  },
  {
   "cell_type": "code",
   "execution_count": 0,
   "metadata": {
    "colab": {},
    "colab_type": "code",
    "id": "1ztGd5-h0o9f"
   },
   "outputs": [],
   "source": [
    "# download MNIST dataset from keras\n",
    "(x_train, y_train), (x_test, y_test) = tf.keras.datasets.mnist.load_data()\n",
    "y_train_labels = to_categorical(y_train)\n",
    "y_test_labels = to_categorical(y_test)\n",
    "# make sure the 10 classes\n",
    "label_dict = {0: '0', 1: '1', 2: '2', 3: '3', 4: '4',\n",
    "              5: '5', 6: '6', 7: '7', 8: '8', 9: '9'}\n"
   ]
  },
  {
   "cell_type": "code",
   "execution_count": 86,
   "metadata": {
    "colab": {
     "base_uri": "https://localhost:8080/",
     "height": 592
    },
    "colab_type": "code",
    "id": "bo09mkui4HvG",
    "outputId": "4a065873-1ce6-41f9-ccc5-ac0123f24edc"
   },
   "outputs": [
    {
     "data": {
      "image/png": "[encoded data removed]",
      "text/plain": [
       "<Figure size 720x720 with 25 Axes>"
      ]
     },
     "metadata": {
      "tags": []
     },
     "output_type": "display_data"
    }
   ],
   "source": [
    "# Verify that the data is in the correct format.\n",
    "plt.figure(figsize=(10,10))\n",
    "for i in range(25):\n",
    "    plt.subplot(5,5,i+1)\n",
    "    plt.xticks([])\n",
    "    plt.yticks([])\n",
    "    plt.grid(False)\n",
    "    plt.imshow(x_train[i], cmap=plt.cm.binary)\n",
    "    plt.xlabel(label_dict[y_train[i]])\n",
    "plt.show()"
   ]
  },
  {
   "cell_type": "code",
   "execution_count": 186,
   "metadata": {
    "colab": {
     "base_uri": "https://localhost:8080/",
     "height": 119
    },
    "colab_type": "code",
    "id": "6urIsf-N-TUt",
    "outputId": "b94bb674-0cb0-49bf-c422-e2610aaed4ee"
   },
   "outputs": [
    {
     "name": "stdout",
     "output_type": "stream",
     "text": [
      "(60000, 784, 3)\n",
      "(10000, 784, 3)\n",
      "(60000, 28, 28, 3)\n",
      "(10000, 28, 28, 3)\n",
      "(60000, 34, 34, 3)\n",
      "(10000, 34, 34, 3)\n"
     ]
    }
   ],
   "source": [
    "x_train = x_train.reshape(np.shape(x_train)[0], 28*28)\n",
    "x_test = x_test.reshape(np.shape(x_test)[0], 28*28)\n",
    "# Convert the images into 3 channels\n",
    "X_train=np.dstack([x_train] * 3)\n",
    "X_test=np.dstack([x_test] * 3)\n",
    "print(np.shape(X_train))\n",
    "print(np.shape(X_test))\n",
    "# Reshape images as per the tensor format required by tensorflow\n",
    "X_train = X_train.reshape(-1, 28,28,3)\n",
    "X_test = X_test.reshape (-1,28,28,3)\n",
    "print(np.shape(X_train))\n",
    "print(np.shape(X_test))\n",
    "# Resize the images 34*34 as required by VGG16\n",
    "X_tr = np.pad(X_train, ((0,0),(3,3),(3,3),(0,0)), 'constant')\n",
    "X_te = np.pad(X_test, ((0,0),(3,3),(3,3),(0,0)), 'constant')\n",
    "X_tr = np.float32(X_tr)/255.\n",
    "X_te = np.float32(X_te)/255.\n",
    "print(np.shape(X_tr))\n",
    "print(np.shape(X_te))"
   ]
  },
  {
   "cell_type": "code",
   "execution_count": 187,
   "metadata": {
    "colab": {
     "base_uri": "https://localhost:8080/",
     "height": 34
    },
    "colab_type": "code",
    "id": "ngCmWp9W0pAO",
    "outputId": "21a97174-a7b3-4fdd-c1b8-19d9d188bf11"
   },
   "outputs": [
    {
     "data": {
      "text/plain": [
       "((48000, 34, 34, 3), (12000, 34, 34, 3), (48000, 10), (12000, 10))"
      ]
     },
     "execution_count": 187,
     "metadata": {
      "tags": []
     },
     "output_type": "execute_result"
    }
   ],
   "source": [
    "\n",
    "# Splitting train data as train and validation data\n",
    "train_X,valid_X,train_label,valid_label = train_test_split(X_tr,\n",
    "                                                           y_train_labels,\n",
    "                                                           test_size=0.2,\n",
    "                                                           random_state=13)\n",
    "# Finally check the data size whether it is as per tensorflow and VGG16 requirement\n",
    "train_X.shape,valid_X.shape,train_label.shape,valid_label.shape"
   ]
  },
  {
   "cell_type": "code",
   "execution_count": 0,
   "metadata": {
    "colab": {},
    "colab_type": "code",
    "id": "06g9MSBiDu9_"
   },
   "outputs": [],
   "source": [
    "# Define the parameters for instanitaing VGG16 model. \n",
    "IMG_WIDTH = 34\n",
    "IMG_HEIGHT = 34\n",
    "IMG_DEPTH = 3\n",
    "BATCH_SIZE = 16"
   ]
  },
  {
   "cell_type": "markdown",
   "metadata": {
    "colab_type": "text",
    "id": "gfyYpgL6HESK"
   },
   "source": [
    "## Train VGG-16 with MNIST from Scratch"
   ]
  },
  {
   "cell_type": "code",
   "execution_count": 176,
   "metadata": {
    "colab": {
     "base_uri": "https://localhost:8080/",
     "height": 850
    },
    "colab_type": "code",
    "id": "j_jhH8h3C0Qe",
    "outputId": "91004e25-04b6-4049-b421-de95d5ec0b62"
   },
   "outputs": [
    {
     "name": "stdout",
     "output_type": "stream",
     "text": [
      "_________________________________________________________________\n",
      "Layer (type)                 Output Shape              Param #   \n",
      "=================================================================\n",
      "block1_conv1 (Conv2D)        (None, 34, 34, 64)        1792      \n",
      "_________________________________________________________________\n",
      "block1_conv2 (Conv2D)        (None, 34, 34, 64)        36928     \n",
      "_________________________________________________________________\n",
      "block1_pool (MaxPooling2D)   (None, 17, 17, 64)        0         \n",
      "_________________________________________________________________\n",
      "block2_conv1 (Conv2D)        (None, 17, 17, 128)       73856     \n",
      "_________________________________________________________________\n",
      "block2_conv2 (Conv2D)        (None, 17, 17, 128)       147584    \n",
      "_________________________________________________________________\n",
      "block2_pool (MaxPooling2D)   (None, 8, 8, 128)         0         \n",
      "_________________________________________________________________\n",
      "block3_conv1 (Conv2D)        (None, 8, 8, 256)         295168    \n",
      "_________________________________________________________________\n",
      "block3_conv2 (Conv2D)        (None, 8, 8, 256)         590080    \n",
      "_________________________________________________________________\n",
      "block3_conv3 (Conv2D)        (None, 8, 8, 256)         590080    \n",
      "_________________________________________________________________\n",
      "block3_pool (MaxPooling2D)   (None, 4, 4, 256)         0         \n",
      "_________________________________________________________________\n",
      "block4_conv1 (Conv2D)        (None, 4, 4, 512)         1180160   \n",
      "_________________________________________________________________\n",
      "block4_conv2 (Conv2D)        (None, 4, 4, 512)         2359808   \n",
      "_________________________________________________________________\n",
      "block4_conv3 (Conv2D)        (None, 4, 4, 512)         2359808   \n",
      "_________________________________________________________________\n",
      "block4_pool (MaxPooling2D)   (None, 2, 2, 512)         0         \n",
      "_________________________________________________________________\n",
      "block5_conv1 (Conv2D)        (None, 2, 2, 512)         2359808   \n",
      "_________________________________________________________________\n",
      "block5_conv2 (Conv2D)        (None, 2, 2, 512)         2359808   \n",
      "_________________________________________________________________\n",
      "block5_conv3 (Conv2D)        (None, 2, 2, 512)         2359808   \n",
      "_________________________________________________________________\n",
      "block5_pool (MaxPooling2D)   (None, 1, 1, 512)         0         \n",
      "_________________________________________________________________\n",
      "flatten (Flatten)            (None, 512)               0         \n",
      "_________________________________________________________________\n",
      "fc1 (Dense)                  (None, 4096)              2101248   \n",
      "_________________________________________________________________\n",
      "fc2 (Dense)                  (None, 4096)              16781312  \n",
      "=================================================================\n",
      "Total params: 33,597,248\n",
      "Trainable params: 33,597,248\n",
      "Non-trainable params: 0\n",
      "_________________________________________________________________\n"
     ]
    }
   ],
   "source": [
    "input_tensor = Input(shape=(IMG_WIDTH, IMG_HEIGHT, IMG_DEPTH))\n",
    "#input_tensor = input_tensor\n",
    "vg16_m = VGG16(weights=None,input_tensor = input_tensor)\n",
    "type(vg16_m)\n",
    "model = Sequential()\n",
    "for layer in vg16_m.layers[0:22]:\n",
    "  model.add(layer)\n",
    "model.summary()"
   ]
  },
  {
   "cell_type": "code",
   "execution_count": 140,
   "metadata": {
    "colab": {
     "base_uri": "https://localhost:8080/",
     "height": 884
    },
    "colab_type": "code",
    "id": "r0YlyZjUexN4",
    "outputId": "03b259de-da0a-4838-a9d3-4e8b0fd613f7"
   },
   "outputs": [
    {
     "name": "stdout",
     "output_type": "stream",
     "text": [
      "_________________________________________________________________\n",
      "Layer (type)                 Output Shape              Param #   \n",
      "=================================================================\n",
      "block1_conv1 (Conv2D)        (None, 34, 34, 64)        1792      \n",
      "_________________________________________________________________\n",
      "block1_conv2 (Conv2D)        (None, 34, 34, 64)        36928     \n",
      "_________________________________________________________________\n",
      "block1_pool (MaxPooling2D)   (None, 17, 17, 64)        0         \n",
      "_________________________________________________________________\n",
      "block2_conv1 (Conv2D)        (None, 17, 17, 128)       73856     \n",
      "_________________________________________________________________\n",
      "block2_conv2 (Conv2D)        (None, 17, 17, 128)       147584    \n",
      "_________________________________________________________________\n",
      "block2_pool (MaxPooling2D)   (None, 8, 8, 128)         0         \n",
      "_________________________________________________________________\n",
      "block3_conv1 (Conv2D)        (None, 8, 8, 256)         295168    \n",
      "_________________________________________________________________\n",
      "block3_conv2 (Conv2D)        (None, 8, 8, 256)         590080    \n",
      "_________________________________________________________________\n",
      "block3_conv3 (Conv2D)        (None, 8, 8, 256)         590080    \n",
      "_________________________________________________________________\n",
      "block3_pool (MaxPooling2D)   (None, 4, 4, 256)         0         \n",
      "_________________________________________________________________\n",
      "block4_conv1 (Conv2D)        (None, 4, 4, 512)         1180160   \n",
      "_________________________________________________________________\n",
      "block4_conv2 (Conv2D)        (None, 4, 4, 512)         2359808   \n",
      "_________________________________________________________________\n",
      "block4_conv3 (Conv2D)        (None, 4, 4, 512)         2359808   \n",
      "_________________________________________________________________\n",
      "block4_pool (MaxPooling2D)   (None, 2, 2, 512)         0         \n",
      "_________________________________________________________________\n",
      "block5_conv1 (Conv2D)        (None, 2, 2, 512)         2359808   \n",
      "_________________________________________________________________\n",
      "block5_conv2 (Conv2D)        (None, 2, 2, 512)         2359808   \n",
      "_________________________________________________________________\n",
      "block5_conv3 (Conv2D)        (None, 2, 2, 512)         2359808   \n",
      "_________________________________________________________________\n",
      "block5_pool (MaxPooling2D)   (None, 1, 1, 512)         0         \n",
      "_________________________________________________________________\n",
      "flatten (Flatten)            (None, 512)               0         \n",
      "_________________________________________________________________\n",
      "fc1 (Dense)                  (None, 4096)              2101248   \n",
      "_________________________________________________________________\n",
      "fc2 (Dense)                  (None, 4096)              16781312  \n",
      "_________________________________________________________________\n",
      "dense_10 (Dense)             (None, 10)                40970     \n",
      "=================================================================\n",
      "Total params: 33,638,218\n",
      "Trainable params: 33,638,218\n",
      "Non-trainable params: 0\n",
      "_________________________________________________________________\n"
     ]
    }
   ],
   "source": [
    "model.add(Dense(10, activation='softmax'))\n",
    "model.summary()"
   ]
  },
  {
   "cell_type": "code",
   "execution_count": 0,
   "metadata": {
    "colab": {},
    "colab_type": "code",
    "id": "9dzc3fS4F_8J"
   },
   "outputs": [],
   "source": [
    "NB_EPOCHS = 100\n",
    "\n",
    "# Compile the model.\n",
    "model.compile(Adam(lr=0.0001),\n",
    "              loss='categorical_crossentropy',\n",
    "              metrics=['accuracy'])"
   ]
  },
  {
   "cell_type": "code",
   "execution_count": 105,
   "metadata": {
    "colab": {
     "base_uri": "https://localhost:8080/",
     "height": 71
    },
    "colab_type": "code",
    "id": "GFHYELCWGLrF",
    "outputId": "9f6e7343-4d1f-4c7a-9a95-18ce9f41da8f"
   },
   "outputs": [
    {
     "name": "stderr",
     "output_type": "stream",
     "text": [
      "/usr/local/lib/python3.6/dist-packages/keras/callbacks.py:1065: UserWarning: `epsilon` argument is deprecated and will be removed, use `min_delta` instead.\n",
      "  warnings.warn('`epsilon` argument is deprecated and '\n"
     ]
    }
   ],
   "source": [
    "from keras import callbacks\n",
    "# Incorporating reduced learning and early stopping for callback\n",
    "reduce_learning = callbacks.ReduceLROnPlateau(\n",
    "    monitor='val_loss',\n",
    "    factor=0.2,\n",
    "    patience=2,\n",
    "    verbose=1,\n",
    "    mode='auto',\n",
    "    epsilon=0.0001,\n",
    "    cooldown=2,\n",
    "    min_lr=0)\n",
    "\n",
    "eary_stopping = callbacks.EarlyStopping(\n",
    "    monitor='val_loss',\n",
    "    min_delta=0.0003,\n",
    "    patience=6,\n",
    "    verbose=1,\n",
    "    mode='auto')\n",
    "\n",
    "callbacks = [reduce_learning, eary_stopping]"
   ]
  },
  {
   "cell_type": "code",
   "execution_count": 106,
   "metadata": {
    "colab": {
     "base_uri": "https://localhost:8080/",
     "height": 527
    },
    "colab_type": "code",
    "id": "uTQuyDzylpe8",
    "outputId": "510b0961-babf-44b7-fa86-5f6671bc9c5a"
   },
   "outputs": [
    {
     "name": "stdout",
     "output_type": "stream",
     "text": [
      "Train on 48000 samples, validate on 12000 samples\n",
      "Epoch 1/100\n",
      " - 147s - loss: 0.0311 - acc: 0.9933 - val_loss: 0.0585 - val_acc: 0.9894\n",
      "Epoch 2/100\n",
      " - 144s - loss: 0.0332 - acc: 0.9933 - val_loss: 0.0518 - val_acc: 0.9914\n",
      "Epoch 3/100\n",
      " - 144s - loss: 0.0261 - acc: 0.9943 - val_loss: 0.0554 - val_acc: 0.9905\n",
      "Epoch 4/100\n",
      " - 143s - loss: 0.0269 - acc: 0.9948 - val_loss: 0.0533 - val_acc: 0.9892\n",
      "\n",
      "Epoch 00004: ReduceLROnPlateau reducing learning rate to 1.9999999494757503e-05.\n",
      "Epoch 5/100\n",
      " - 143s - loss: 0.0080 - acc: 0.9984 - val_loss: 0.0374 - val_acc: 0.9930\n",
      "Epoch 6/100\n",
      " - 143s - loss: 0.0030 - acc: 0.9992 - val_loss: 0.0491 - val_acc: 0.9936\n",
      "Epoch 7/100\n",
      " - 143s - loss: 0.0039 - acc: 0.9994 - val_loss: 0.0528 - val_acc: 0.9937\n",
      "\n",
      "Epoch 00007: ReduceLROnPlateau reducing learning rate to 3.999999898951501e-06.\n",
      "Epoch 8/100\n",
      " - 143s - loss: 0.0015 - acc: 0.9997 - val_loss: 0.0550 - val_acc: 0.9934\n",
      "Epoch 9/100\n",
      " - 143s - loss: 7.9653e-04 - acc: 0.9999 - val_loss: 0.0622 - val_acc: 0.9932\n",
      "Epoch 10/100\n",
      " - 143s - loss: 6.3383e-04 - acc: 0.9999 - val_loss: 0.0677 - val_acc: 0.9933\n",
      "\n",
      "Epoch 00010: ReduceLROnPlateau reducing learning rate to 7.999999979801942e-07.\n",
      "Epoch 11/100\n",
      " - 143s - loss: 4.9966e-04 - acc: 0.9999 - val_loss: 0.0688 - val_acc: 0.9934\n",
      "Epoch 00011: early stopping\n"
     ]
    }
   ],
   "source": [
    "mt=model.fit(train_X, train_label, \n",
    "             batch_size=16, epochs=NB_EPOCHS,\n",
    "             verbose=2, callbacks=callbacks,\n",
    "             validation_data=(valid_X, valid_label)\n",
    "            )"
   ]
  },
  {
   "cell_type": "code",
   "execution_count": 110,
   "metadata": {
    "colab": {
     "base_uri": "https://localhost:8080/",
     "height": 544
    },
    "colab_type": "code",
    "id": "-t4Z8lyS191N",
    "outputId": "02dac7ca-4bc8-45fa-8c19-46b99f575b2a"
   },
   "outputs": [
    {
     "name": "stdout",
     "output_type": "stream",
     "text": [
      "10000/10000 [==============================] - 3s 310us/step\n",
      "Test Accuracy:0.995300, Test Loss:0.049209.\n",
      "Got 9953 / 10000 correct\n",
      "Accuracy = 0.995300\n",
      "[[ 977    0    0    0    0    0    2    1    0    0]\n",
      " [   0 1130    1    2    0    0    0    1    1    0]\n",
      " [   0    0 1029    1    0    0    0    2    0    0]\n",
      " [   0    0    0 1006    0    3    0    0    1    0]\n",
      " [   0    0    0    0  977    0    1    0    0    4]\n",
      " [   0    0    0    5    0  886    1    0    0    0]\n",
      " [   4    2    0    0    0    0  952    0    0    0]\n",
      " [   0    2    1    0    0    0    0 1024    0    1]\n",
      " [   0    0    0    1    0    0    0    0  972    1]\n",
      " [   0    0    0    0    4    1    0    2    2 1000]]\n",
      "              precision    recall  f1-score   support\n",
      "\n",
      "           0      0.996     0.997     0.996       980\n",
      "           1      0.996     0.996     0.996      1135\n",
      "           2      0.998     0.997     0.998      1032\n",
      "           3      0.991     0.996     0.994      1010\n",
      "           4      0.996     0.995     0.995       982\n",
      "           5      0.996     0.993     0.994       892\n",
      "           6      0.996     0.994     0.995       958\n",
      "           7      0.994     0.996     0.995      1028\n",
      "           8      0.996     0.998     0.997       974\n",
      "           9      0.994     0.991     0.993      1009\n",
      "\n",
      "    accuracy                          0.995     10000\n",
      "   macro avg      0.995     0.995     0.995     10000\n",
      "weighted avg      0.995     0.995     0.995     10000\n",
      "\n"
     ]
    }
   ],
   "source": [
    "test_loss, test_acc = model.evaluate(X_te, y_test_labels)\n",
    "print('Test Accuracy:%4f, Test Loss:%4f.' %(test_acc,test_loss))\n",
    "# Make Prediction\n",
    "pred_result = model.predict(X_te)\n",
    "y_pred=[]\n",
    "for i in range(np.shape(y_test)[0]):\n",
    "  num = np.where(pred_result[i]==max(pred_result[i]))\n",
    "  y_pred.append(num[0][0])\n",
    "y_pred = np.transpose(y_pred)\n",
    "# calculate accuracy\n",
    "num_test = len(y_test)\n",
    "num_correct = np.sum(y_pred == y_test)\n",
    "print('Got %d / %d correct' % (num_correct, num_test))\n",
    "print('Accuracy = %f' % (np.mean(y_test == y_pred)))\n",
    "from sklearn.metrics import classification_report, confusion_matrix \n",
    "print(confusion_matrix(y_test, y_pred)) \n",
    "print(classification_report(y_test, y_pred,\n",
    "                            target_names=list(label_dict.values()),digits=3))"
   ]
  },
  {
   "cell_type": "markdown",
   "metadata": {
    "colab_type": "text",
    "id": "essqKXG_HEjj"
   },
   "source": [
    "## Predict MNIST by Trained Imagenet Weight in VGG-16"
   ]
  },
  {
   "cell_type": "code",
   "execution_count": 195,
   "metadata": {
    "colab": {
     "base_uri": "https://localhost:8080/",
     "height": 54
    },
    "colab_type": "code",
    "id": "UEerYffeHSI_",
    "outputId": "1104767d-a55b-419c-c77a-c09e36d58b56"
   },
   "outputs": [
    {
     "data": {
      "text/plain": [
       "'\\n#conv_base.summary()\\nmodel = Sequential()\\nfor layer in conv_base.layers:\\n          model.add(layer)\\n          \\nmodel.summary()\\n'"
      ]
     },
     "execution_count": 195,
     "metadata": {
      "tags": []
     },
     "output_type": "execute_result"
    }
   ],
   "source": [
    "#  Create base model of VGG16\n",
    "from keras.layers import Input\n",
    "input_tensor = Input(shape=(IMG_HEIGHT, IMG_WIDTH, IMG_DEPTH))\n",
    "conv_base = VGG16(weights='imagenet',include_top=False, \n",
    "                  input_tensor = input_tensor)\n",
    "\n",
    "type(conv_base)"
   ]
  },
  {
   "cell_type": "code",
   "execution_count": 0,
   "metadata": {
    "colab": {
     "base_uri": "https://localhost:8080/",
     "height": 68
    },
    "colab_type": "code",
    "id": "EvtaUPifJyrC",
    "outputId": "e692ef7c-1055-4f88-c44b-03e472489332"
   },
   "outputs": [
    {
     "name": "stdout",
     "output_type": "stream",
     "text": [
      "48000/48000 [==============================] - 18s 381us/step\n",
      "10000/10000 [==============================] - 4s 381us/step\n",
      "12000/12000 [==============================] - 5s 383us/step\n"
     ]
    }
   ],
   "source": [
    " # Extracting features\n",
    "train_features = conv_base.predict(np.array(train_X), batch_size=BATCH_SIZE, verbose=1)\n",
    "test_features = conv_base.predict(np.array(X_te), batch_size=BATCH_SIZE, verbose=1)\n",
    "val_features = conv_base.predict(np.array(valid_X), batch_size=BATCH_SIZE, verbose=1)"
   ]
  },
  {
   "cell_type": "code",
   "execution_count": 0,
   "metadata": {
    "colab": {},
    "colab_type": "code",
    "id": "_eWK-BTxKzyx"
   },
   "outputs": [],
   "source": [
    "np.savez(\"train_features\", train_features, train_label)\n",
    "np.savez(\"test_features\", test_features, y_test_labels)\n",
    "np.savez(\"val_features\", val_features, valid_label)"
   ]
  },
  {
   "cell_type": "code",
   "execution_count": 0,
   "metadata": {
    "colab": {
     "base_uri": "https://localhost:8080/",
     "height": 68
    },
    "colab_type": "code",
    "id": "zWKSOjp0Kz17",
    "outputId": "4cded49d-ca91-449e-8d44-9865c7cd3e9e"
   },
   "outputs": [
    {
     "name": "stdout",
     "output_type": "stream",
     "text": [
      "(48000, 1, 1, 512) \n",
      " (10000, 1, 1, 512) \n",
      " (12000, 1, 1, 512)\n"
     ]
    }
   ],
   "source": [
    "# Current shape of features\n",
    "print(train_features.shape, \"\\n\",  test_features.shape, \"\\n\", val_features.shape)"
   ]
  },
  {
   "cell_type": "code",
   "execution_count": 0,
   "metadata": {
    "colab": {},
    "colab_type": "code",
    "id": "jjiP84cGJyu5"
   },
   "outputs": [],
   "source": [
    "# Flatten extracted features\n",
    "train_features_flat = np.reshape(train_features, (48000, 1*1*512))\n",
    "test_features_flat = np.reshape(test_features, (10000, 1*1*512))\n",
    "val_features_flat = np.reshape(val_features, (12000, 1*1*512))"
   ]
  },
  {
   "cell_type": "code",
   "execution_count": 0,
   "metadata": {
    "colab": {},
    "colab_type": "code",
    "id": "_QHh4MbTCzbQ"
   },
   "outputs": [],
   "source": [
    "from keras import models\n",
    "from keras.models import Model\n",
    "from keras import layers\n",
    "from keras import optimizers\n",
    "from keras import callbacks\n",
    "from keras.layers.advanced_activations import LeakyReLU\n",
    "model_c = models.Sequential()\n",
    "model_c.add(layers.Dense(512, activation='relu', input_dim=(1*1*512)))\n",
    "model_c.add(layers.LeakyReLU(alpha=0.1))\n",
    "model_c.add(layers.Dense(10, activation='softmax'))"
   ]
  },
  {
   "cell_type": "code",
   "execution_count": 0,
   "metadata": {
    "colab": {},
    "colab_type": "code",
    "id": "60zT5TUe5jy3"
   },
   "outputs": [],
   "source": [
    "NB_TRAIN_SAMPLES = train_features_flat.shape[0]\n",
    "NB_VALIDATION_SAMPLES = val_features_flat.shape[0]\n",
    "NB_EPOCHS = 100\n",
    "\n",
    "# Compile the model.\n",
    "model_c.compile(optimizer='adam',\n",
    "              loss='categorical_crossentropy',\n",
    "              metrics=['accuracy'])"
   ]
  },
  {
   "cell_type": "code",
   "execution_count": 0,
   "metadata": {
    "colab": {
     "base_uri": "https://localhost:8080/",
     "height": 71
    },
    "colab_type": "code",
    "id": "2ike8OcpMj9p",
    "outputId": "fd84bbbd-ae51-4691-ac2f-f622cb286eed"
   },
   "outputs": [
    {
     "name": "stderr",
     "output_type": "stream",
     "text": [
      "/usr/local/lib/python3.6/dist-packages/keras/callbacks.py:1065: UserWarning: `epsilon` argument is deprecated and will be removed, use `min_delta` instead.\n",
      "  warnings.warn('`epsilon` argument is deprecated and '\n"
     ]
    }
   ],
   "source": [
    "# Incorporating reduced learning and early stopping for callback\n",
    "reduce_learning = callbacks.ReduceLROnPlateau(\n",
    "    monitor='val_loss',\n",
    "    factor=0.2,\n",
    "    patience=2,\n",
    "    verbose=1,\n",
    "    mode='auto',\n",
    "    epsilon=0.0001,\n",
    "    cooldown=2,\n",
    "    min_lr=0)\n",
    "\n",
    "eary_stopping = callbacks.EarlyStopping(\n",
    "    monitor='val_loss',\n",
    "    min_delta=0.0003,\n",
    "    patience=8,\n",
    "    verbose=1,\n",
    "    mode='auto')\n",
    "\n",
    "callbacks = [reduce_learning, eary_stopping]"
   ]
  },
  {
   "cell_type": "code",
   "execution_count": 0,
   "metadata": {
    "colab": {
     "base_uri": "https://localhost:8080/",
     "height": 1513
    },
    "colab_type": "code",
    "id": "NtWwCFx86ZSM",
    "outputId": "b2ed4e31-d2ca-40f7-cd0c-f747b1a29361"
   },
   "outputs": [
    {
     "name": "stdout",
     "output_type": "stream",
     "text": [
      "Train on 48000 samples, validate on 12000 samples\n",
      "Epoch 1/100\n",
      "48000/48000 [==============================] - 5s 112us/step - loss: 0.3400 - acc: 0.8962 - val_loss: 0.1871 - val_acc: 0.9385\n",
      "Epoch 2/100\n",
      "48000/48000 [==============================] - 5s 97us/step - loss: 0.1631 - acc: 0.9472 - val_loss: 0.1368 - val_acc: 0.9557\n",
      "Epoch 3/100\n",
      "48000/48000 [==============================] - 5s 97us/step - loss: 0.1389 - acc: 0.9547 - val_loss: 0.1327 - val_acc: 0.9575\n",
      "Epoch 4/100\n",
      "48000/48000 [==============================] - 5s 97us/step - loss: 0.1198 - acc: 0.9608 - val_loss: 0.1475 - val_acc: 0.9511\n",
      "Epoch 5/100\n",
      "48000/48000 [==============================] - 5s 95us/step - loss: 0.1087 - acc: 0.9643 - val_loss: 0.1182 - val_acc: 0.9625\n",
      "Epoch 6/100\n",
      "48000/48000 [==============================] - 5s 96us/step - loss: 0.1028 - acc: 0.9663 - val_loss: 0.1109 - val_acc: 0.9652\n",
      "Epoch 7/100\n",
      "48000/48000 [==============================] - 5s 97us/step - loss: 0.0941 - acc: 0.9685 - val_loss: 0.0994 - val_acc: 0.9696\n",
      "Epoch 8/100\n",
      "48000/48000 [==============================] - 5s 97us/step - loss: 0.0897 - acc: 0.9692 - val_loss: 0.1261 - val_acc: 0.9606\n",
      "Epoch 9/100\n",
      "48000/48000 [==============================] - 5s 97us/step - loss: 0.0842 - acc: 0.9719 - val_loss: 0.1133 - val_acc: 0.9644\n",
      "\n",
      "Epoch 00009: ReduceLROnPlateau reducing learning rate to 0.00020000000949949026.\n",
      "Epoch 10/100\n",
      "48000/48000 [==============================] - 5s 97us/step - loss: 0.0556 - acc: 0.9821 - val_loss: 0.0820 - val_acc: 0.9729\n",
      "Epoch 11/100\n",
      "48000/48000 [==============================] - 5s 97us/step - loss: 0.0524 - acc: 0.9832 - val_loss: 0.0829 - val_acc: 0.9738\n",
      "Epoch 12/100\n",
      "48000/48000 [==============================] - 5s 96us/step - loss: 0.0505 - acc: 0.9837 - val_loss: 0.0814 - val_acc: 0.9740\n",
      "Epoch 13/100\n",
      "48000/48000 [==============================] - 5s 97us/step - loss: 0.0493 - acc: 0.9841 - val_loss: 0.0820 - val_acc: 0.9745\n",
      "Epoch 14/100\n",
      "48000/48000 [==============================] - 5s 97us/step - loss: 0.0478 - acc: 0.9847 - val_loss: 0.0800 - val_acc: 0.9752\n",
      "Epoch 15/100\n",
      "48000/48000 [==============================] - 5s 96us/step - loss: 0.0457 - acc: 0.9854 - val_loss: 0.0784 - val_acc: 0.9773\n",
      "Epoch 16/100\n",
      "48000/48000 [==============================] - 5s 97us/step - loss: 0.0447 - acc: 0.9860 - val_loss: 0.0766 - val_acc: 0.9761\n",
      "Epoch 17/100\n",
      "48000/48000 [==============================] - 5s 107us/step - loss: 0.0432 - acc: 0.9863 - val_loss: 0.0760 - val_acc: 0.9761\n",
      "Epoch 18/100\n",
      "48000/48000 [==============================] - 5s 106us/step - loss: 0.0425 - acc: 0.9867 - val_loss: 0.0774 - val_acc: 0.9755\n",
      "Epoch 19/100\n",
      "48000/48000 [==============================] - 5s 96us/step - loss: 0.0410 - acc: 0.9866 - val_loss: 0.0755 - val_acc: 0.9769\n",
      "Epoch 20/100\n",
      "48000/48000 [==============================] - 5s 97us/step - loss: 0.0403 - acc: 0.9875 - val_loss: 0.0800 - val_acc: 0.9755\n",
      "Epoch 21/100\n",
      "48000/48000 [==============================] - 5s 96us/step - loss: 0.0385 - acc: 0.9880 - val_loss: 0.0787 - val_acc: 0.9757\n",
      "\n",
      "Epoch 00021: ReduceLROnPlateau reducing learning rate to 4.0000001899898055e-05.\n",
      "Epoch 22/100\n",
      "48000/48000 [==============================] - 5s 97us/step - loss: 0.0333 - acc: 0.9901 - val_loss: 0.0727 - val_acc: 0.9778\n",
      "Epoch 23/100\n",
      "48000/48000 [==============================] - 5s 96us/step - loss: 0.0326 - acc: 0.9907 - val_loss: 0.0731 - val_acc: 0.9778\n",
      "Epoch 24/100\n",
      "48000/48000 [==============================] - 5s 96us/step - loss: 0.0322 - acc: 0.9908 - val_loss: 0.0727 - val_acc: 0.9782\n",
      "\n",
      "Epoch 00024: ReduceLROnPlateau reducing learning rate to 8.000000525498762e-06.\n",
      "Epoch 25/100\n",
      "48000/48000 [==============================] - 5s 95us/step - loss: 0.0310 - acc: 0.9915 - val_loss: 0.0726 - val_acc: 0.9778\n",
      "Epoch 26/100\n",
      "48000/48000 [==============================] - 5s 95us/step - loss: 0.0309 - acc: 0.9915 - val_loss: 0.0725 - val_acc: 0.9777\n",
      "Epoch 27/100\n",
      "48000/48000 [==============================] - 5s 96us/step - loss: 0.0308 - acc: 0.9916 - val_loss: 0.0723 - val_acc: 0.9775\n",
      "Epoch 28/100\n",
      "48000/48000 [==============================] - 5s 95us/step - loss: 0.0307 - acc: 0.9915 - val_loss: 0.0724 - val_acc: 0.9776\n",
      "Epoch 29/100\n",
      "48000/48000 [==============================] - 5s 96us/step - loss: 0.0307 - acc: 0.9918 - val_loss: 0.0723 - val_acc: 0.9778\n",
      "\n",
      "Epoch 00029: ReduceLROnPlateau reducing learning rate to 1.6000001778593287e-06.\n",
      "Epoch 30/100\n",
      "48000/48000 [==============================] - 5s 101us/step - loss: 0.0304 - acc: 0.9918 - val_loss: 0.0723 - val_acc: 0.9779\n",
      "Epoch 31/100\n",
      "48000/48000 [==============================] - 5s 113us/step - loss: 0.0304 - acc: 0.9918 - val_loss: 0.0724 - val_acc: 0.9779\n",
      "Epoch 32/100\n",
      "48000/48000 [==============================] - 5s 106us/step - loss: 0.0304 - acc: 0.9919 - val_loss: 0.0724 - val_acc: 0.9778\n",
      "\n",
      "Epoch 00032: ReduceLROnPlateau reducing learning rate to 3.200000264769187e-07.\n",
      "Epoch 33/100\n",
      "48000/48000 [==============================] - 5s 100us/step - loss: 0.0303 - acc: 0.9919 - val_loss: 0.0724 - val_acc: 0.9778\n",
      "Epoch 34/100\n",
      "48000/48000 [==============================] - 5s 108us/step - loss: 0.0303 - acc: 0.9919 - val_loss: 0.0724 - val_acc: 0.9778\n",
      "Epoch 35/100\n",
      "48000/48000 [==============================] - 5s 105us/step - loss: 0.0303 - acc: 0.9920 - val_loss: 0.0724 - val_acc: 0.9778\n",
      "\n",
      "Epoch 00035: ReduceLROnPlateau reducing learning rate to 6.400000529538374e-08.\n",
      "Epoch 36/100\n",
      "48000/48000 [==============================] - 5s 97us/step - loss: 0.0303 - acc: 0.9920 - val_loss: 0.0724 - val_acc: 0.9778\n",
      "Epoch 37/100\n",
      "48000/48000 [==============================] - 5s 98us/step - loss: 0.0303 - acc: 0.9920 - val_loss: 0.0724 - val_acc: 0.9778\n",
      "Epoch 00037: early stopping\n"
     ]
    }
   ],
   "source": [
    "# Train the the model\n",
    "mt=model_c.fit(\n",
    "    train_features_flat,\n",
    "    train_label,\n",
    "    epochs=NB_EPOCHS,\n",
    "    validation_data=(val_features_flat, valid_label),\n",
    "    callbacks=callbacks\n",
    ")"
   ]
  },
  {
   "cell_type": "code",
   "execution_count": 0,
   "metadata": {
    "colab": {
     "base_uri": "https://localhost:8080/",
     "height": 51
    },
    "colab_type": "code",
    "id": "ZWJOXjuORLgP",
    "outputId": "fba9f142-8b97-4876-e033-bdc88e5f66aa"
   },
   "outputs": [
    {
     "name": "stdout",
     "output_type": "stream",
     "text": [
      "10000/10000 [==============================] - 0s 36us/step\n",
      "Test Accuracy:0.978800, Test Loss:0.067221.\n"
     ]
    }
   ],
   "source": [
    "# Evaluate accuracy\n",
    "test_loss, test_acc = model_c.evaluate(test_features_flat, y_test_labels)\n",
    "print('Test Accuracy:%4f, Test Loss:%4f.' %(test_acc,test_loss))"
   ]
  },
  {
   "cell_type": "code",
   "execution_count": 0,
   "metadata": {
    "colab": {},
    "colab_type": "code",
    "id": "xKojkQzJDpsW"
   },
   "outputs": [],
   "source": [
    "# Make Prediction\n",
    "pred_result = model_c.predict(test_features_flat)\n",
    "y_pred=[]\n",
    "for i in range(np.shape(y_test)[0]):\n",
    "    num = np.where(pred_result[i]==max(pred_result[i]))\n",
    "    y_pred.append(num[0][0])\n",
    "y_pred = np.transpose(y_pred)"
   ]
  },
  {
   "cell_type": "code",
   "execution_count": 0,
   "metadata": {
    "colab": {
     "base_uri": "https://localhost:8080/",
     "height": 510
    },
    "colab_type": "code",
    "id": "GDuhH3tRG7HQ",
    "outputId": "1937f23c-99a2-4885-ff79-d36799170dfa"
   },
   "outputs": [
    {
     "name": "stdout",
     "output_type": "stream",
     "text": [
      "Got 9788 / 10000 correct\n",
      "Accuracy = 0.978800\n",
      "[[ 969    0    1    0    0    4    5    1    0    0]\n",
      " [   0 1123    0    0    3    0    4    4    1    0]\n",
      " [   1    1 1008    4    2    4    4    5    2    1]\n",
      " [   0    0   10  977    0   16    0    3    2    2]\n",
      " [   0    1    1    0  967    1    2    3    4    3]\n",
      " [   2    0    7    9    1  864    0    2    6    1]\n",
      " [   7    0    4    0    0    2  944    0    1    0]\n",
      " [   0    5    4    2    8    0    0 1004    1    4]\n",
      " [   0    0    6    2    3    4    1    1  956    1]\n",
      " [   3    0    3    2    7    2    0    5   11  976]]\n",
      "              precision    recall  f1-score   support\n",
      "\n",
      "           0      0.987     0.989     0.988       980\n",
      "           1      0.994     0.989     0.992      1135\n",
      "           2      0.966     0.977     0.971      1032\n",
      "           3      0.981     0.967     0.974      1010\n",
      "           4      0.976     0.985     0.980       982\n",
      "           5      0.963     0.969     0.966       892\n",
      "           6      0.983     0.985     0.984       958\n",
      "           7      0.977     0.977     0.977      1028\n",
      "           8      0.972     0.982     0.977       974\n",
      "           9      0.988     0.967     0.977      1009\n",
      "\n",
      "    accuracy                          0.979     10000\n",
      "   macro avg      0.979     0.979     0.979     10000\n",
      "weighted avg      0.979     0.979     0.979     10000\n",
      "\n"
     ]
    }
   ],
   "source": [
    "# calculate accuracy\n",
    "num_test = len(y_test)\n",
    "num_correct = np.sum(y_pred == y_test)\n",
    "print('Got %d / %d correct' % (num_correct, num_test))\n",
    "print('Accuracy = %f' % (np.mean(y_test == y_pred)))\n",
    "from sklearn.metrics import classification_report, confusion_matrix \n",
    "print(confusion_matrix(y_test, y_pred)) \n",
    "print(classification_report(y_test, y_pred,\n",
    "                            target_names=list(label_dict.values()),digits=3))"
   ]
  },
  {
   "cell_type": "markdown",
   "metadata": {
    "colab_type": "text",
    "id": "WvL9ICVYF1xQ"
   },
   "source": [
    "## Freeze All The Convolutional Layers Retrain VGG-16 Network On MNIST"
   ]
  },
  {
   "cell_type": "code",
   "execution_count": 0,
   "metadata": {
    "colab": {
     "base_uri": "https://localhost:8080/",
     "height": 782
    },
    "colab_type": "code",
    "id": "7CDSVgEHFUm2",
    "outputId": "caaa52f8-6c1c-4499-a3e3-d01a1021cae3"
   },
   "outputs": [
    {
     "name": "stdout",
     "output_type": "stream",
     "text": [
      "_________________________________________________________________\n",
      "Layer (type)                 Output Shape              Param #   \n",
      "=================================================================\n",
      "input_4 (InputLayer)         (None, 34, 34, 3)         0         \n",
      "_________________________________________________________________\n",
      "block1_conv1 (Conv2D)        (None, 34, 34, 64)        1792      \n",
      "_________________________________________________________________\n",
      "block1_conv2 (Conv2D)        (None, 34, 34, 64)        36928     \n",
      "_________________________________________________________________\n",
      "block1_pool (MaxPooling2D)   (None, 17, 17, 64)        0         \n",
      "_________________________________________________________________\n",
      "block2_conv1 (Conv2D)        (None, 17, 17, 128)       73856     \n",
      "_________________________________________________________________\n",
      "block2_conv2 (Conv2D)        (None, 17, 17, 128)       147584    \n",
      "_________________________________________________________________\n",
      "block2_pool (MaxPooling2D)   (None, 8, 8, 128)         0         \n",
      "_________________________________________________________________\n",
      "block3_conv1 (Conv2D)        (None, 8, 8, 256)         295168    \n",
      "_________________________________________________________________\n",
      "block3_conv2 (Conv2D)        (None, 8, 8, 256)         590080    \n",
      "_________________________________________________________________\n",
      "block3_conv3 (Conv2D)        (None, 8, 8, 256)         590080    \n",
      "_________________________________________________________________\n",
      "block3_pool (MaxPooling2D)   (None, 4, 4, 256)         0         \n",
      "_________________________________________________________________\n",
      "block4_conv1 (Conv2D)        (None, 4, 4, 512)         1180160   \n",
      "_________________________________________________________________\n",
      "block4_conv2 (Conv2D)        (None, 4, 4, 512)         2359808   \n",
      "_________________________________________________________________\n",
      "block4_conv3 (Conv2D)        (None, 4, 4, 512)         2359808   \n",
      "_________________________________________________________________\n",
      "block4_pool (MaxPooling2D)   (None, 2, 2, 512)         0         \n",
      "_________________________________________________________________\n",
      "block5_conv1 (Conv2D)        (None, 2, 2, 512)         2359808   \n",
      "_________________________________________________________________\n",
      "block5_conv2 (Conv2D)        (None, 2, 2, 512)         2359808   \n",
      "_________________________________________________________________\n",
      "block5_conv3 (Conv2D)        (None, 2, 2, 512)         2359808   \n",
      "_________________________________________________________________\n",
      "block5_pool (MaxPooling2D)   (None, 1, 1, 512)         0         \n",
      "=================================================================\n",
      "Total params: 14,714,688\n",
      "Trainable params: 14,714,688\n",
      "Non-trainable params: 0\n",
      "_________________________________________________________________\n"
     ]
    }
   ],
   "source": [
    "#  Create base model of VGG16\n",
    "from keras.applications import VGG16;\n",
    "from keras.layers import Input\n",
    "input_tensor = Input(shape=(IMG_HEIGHT, IMG_WIDTH, IMG_DEPTH))\n",
    "freeze = VGG16(weights='imagenet',include_top=False, \n",
    "                  input_tensor = input_tensor)\n",
    "freeze.summary()"
   ]
  },
  {
   "cell_type": "code",
   "execution_count": 0,
   "metadata": {
    "colab": {
     "base_uri": "https://localhost:8080/",
     "height": 54
    },
    "colab_type": "code",
    "id": "S4hLYyMuGjQK",
    "outputId": "3557a955-746e-4c49-de8c-c453b1034d76"
   },
   "outputs": [
    {
     "data": {
      "text/plain": [
       "'\\n    for layer in freeze.layers[3:4]:\\n    layer.trainable = False\\nfor layer in freeze.layers[6:8]:\\n    layer.trainable = False\\nfor layer in freeze.layers[10:12]:\\n    layer.trainable = False\\nfor layer in freeze.layers[14:16]:\\n    layer.trainable = False\\n    '"
      ]
     },
     "execution_count": 54,
     "metadata": {
      "tags": []
     },
     "output_type": "execute_result"
    }
   ],
   "source": [
    "# Freeze the layers which you don't want to train. Here I am freezing the first 5 layers.\n",
    "for layer in freeze.layers:\n",
    "    layer.trainable = False"
   ]
  },
  {
   "cell_type": "code",
   "execution_count": 0,
   "metadata": {
    "colab": {
     "base_uri": "https://localhost:8080/",
     "height": 68
    },
    "colab_type": "code",
    "id": "8FHZUtDgFUpd",
    "outputId": "b6c0b313-7eaf-4742-ef2f-12e7b572161e"
   },
   "outputs": [
    {
     "name": "stdout",
     "output_type": "stream",
     "text": [
      "48000/48000 [==============================] - 18s 383us/step\n",
      "10000/10000 [==============================] - 4s 383us/step\n",
      "12000/12000 [==============================] - 5s 383us/step\n"
     ]
    }
   ],
   "source": [
    "# Extracting features\n",
    "train_features = freeze.predict(np.array(train_X), batch_size=BATCH_SIZE, verbose=1)\n",
    "test_features = freeze.predict(np.array(X_te), batch_size=BATCH_SIZE, verbose=1)\n",
    "val_features = freeze.predict(np.array(valid_X), batch_size=BATCH_SIZE, verbose=1)"
   ]
  },
  {
   "cell_type": "code",
   "execution_count": 0,
   "metadata": {
    "colab": {},
    "colab_type": "code",
    "id": "nQw3v3OsFUsN"
   },
   "outputs": [],
   "source": [
    "np.savez(\"train_features\", train_features, train_label)\n",
    "np.savez(\"test_features\", test_features, y_test_labels)\n",
    "np.savez(\"val_features\", val_features, valid_label)"
   ]
  },
  {
   "cell_type": "code",
   "execution_count": 0,
   "metadata": {
    "colab": {
     "base_uri": "https://localhost:8080/",
     "height": 68
    },
    "colab_type": "code",
    "id": "LGdqVpHSHGzi",
    "outputId": "68a7b6cf-bf49-4e70-b1cc-fcdb0c1998a2"
   },
   "outputs": [
    {
     "name": "stdout",
     "output_type": "stream",
     "text": [
      "(48000, 1, 1, 512) \n",
      " (10000, 1, 1, 512) \n",
      " (12000, 1, 1, 512)\n"
     ]
    }
   ],
   "source": [
    "# Current shape of features\n",
    "print(train_features.shape, \"\\n\",  test_features.shape, \"\\n\", val_features.shape)"
   ]
  },
  {
   "cell_type": "code",
   "execution_count": 0,
   "metadata": {
    "colab": {},
    "colab_type": "code",
    "id": "oBymV1m_HG6e"
   },
   "outputs": [],
   "source": [
    "# Flatten extracted features\n",
    "train_features_flat = np.reshape(train_features, (48000, 1*1*512))\n",
    "test_features_flat = np.reshape(test_features, (10000, 1*1*512))\n",
    "val_features_flat = np.reshape(val_features, (12000, 1*1*512))"
   ]
  },
  {
   "cell_type": "code",
   "execution_count": 0,
   "metadata": {
    "colab": {},
    "colab_type": "code",
    "id": "safIsZ7lHG9Y"
   },
   "outputs": [],
   "source": [
    "from keras import models\n",
    "from keras.models import Model\n",
    "from keras import layers\n",
    "from keras import optimizers\n",
    "from keras import callbacks\n",
    "from keras.layers.advanced_activations import LeakyReLU\n",
    "frz_con = models.Sequential()\n",
    "frz_con.add(layers.Dense(512, activation='relu', input_dim=(1*1*512)))\n",
    "frz_con.add(layers.LeakyReLU(alpha=0.1))\n",
    "frz_con.add(layers.Dense(512, activation='relu', input_dim=(1*1*512)))\n",
    "frz_con.add(layers.Dense(10, activation='softmax'))"
   ]
  },
  {
   "cell_type": "code",
   "execution_count": 0,
   "metadata": {
    "colab": {},
    "colab_type": "code",
    "id": "bS6hUX4cHRfg"
   },
   "outputs": [],
   "source": [
    "NB_TRAIN_SAMPLES = train_features_flat.shape[0]\n",
    "NB_VALIDATION_SAMPLES = val_features_flat.shape[0]\n",
    "NB_EPOCHS = 100\n",
    "\n",
    "# Compile the model.\n",
    "frz_con.compile(optimizer='adam',\n",
    "              loss='categorical_crossentropy',\n",
    "              metrics=['accuracy'])"
   ]
  },
  {
   "cell_type": "code",
   "execution_count": 0,
   "metadata": {
    "colab": {
     "base_uri": "https://localhost:8080/",
     "height": 71
    },
    "colab_type": "code",
    "id": "YnHQV8z3Hcc8",
    "outputId": "628d9820-c440-40dd-e3e6-e902f4e55e54"
   },
   "outputs": [
    {
     "name": "stderr",
     "output_type": "stream",
     "text": [
      "/usr/local/lib/python3.6/dist-packages/keras/callbacks.py:1065: UserWarning: `epsilon` argument is deprecated and will be removed, use `min_delta` instead.\n",
      "  warnings.warn('`epsilon` argument is deprecated and '\n"
     ]
    }
   ],
   "source": [
    "# Incorporating reduced learning and early stopping for callback\n",
    "reduce_learning = callbacks.ReduceLROnPlateau(\n",
    "    monitor='val_loss',\n",
    "    factor=0.2,\n",
    "    patience=2,\n",
    "    verbose=1,\n",
    "    mode='auto',\n",
    "    epsilon=0.0001,\n",
    "    cooldown=2,\n",
    "    min_lr=0)\n",
    "\n",
    "eary_stopping = callbacks.EarlyStopping(\n",
    "    monitor='val_loss',\n",
    "    min_delta=0,\n",
    "    patience=8,\n",
    "    verbose=1,\n",
    "    mode='auto')\n",
    "\n",
    "callbacks = [reduce_learning, eary_stopping]"
   ]
  },
  {
   "cell_type": "code",
   "execution_count": 0,
   "metadata": {
    "colab": {
     "base_uri": "https://localhost:8080/",
     "height": 1105
    },
    "colab_type": "code",
    "id": "HKh91PqDHRiR",
    "outputId": "a7843668-23f6-4998-bbb2-ee7578a62bc8"
   },
   "outputs": [
    {
     "name": "stdout",
     "output_type": "stream",
     "text": [
      "Train on 48000 samples, validate on 12000 samples\n",
      "Epoch 1/100\n",
      "48000/48000 [==============================] - 6s 121us/step - loss: 0.3069 - acc: 0.8986 - val_loss: 0.1590 - val_acc: 0.9487\n",
      "Epoch 2/100\n",
      "48000/48000 [==============================] - 5s 112us/step - loss: 0.1606 - acc: 0.9480 - val_loss: 0.1617 - val_acc: 0.9493\n",
      "Epoch 3/100\n",
      "48000/48000 [==============================] - 6s 119us/step - loss: 0.1342 - acc: 0.9561 - val_loss: 0.1472 - val_acc: 0.9514\n",
      "Epoch 4/100\n",
      "48000/48000 [==============================] - 6s 121us/step - loss: 0.1205 - acc: 0.9593 - val_loss: 0.1121 - val_acc: 0.9638\n",
      "Epoch 5/100\n",
      "48000/48000 [==============================] - 5s 110us/step - loss: 0.1077 - acc: 0.9648 - val_loss: 0.1392 - val_acc: 0.9549\n",
      "Epoch 6/100\n",
      "48000/48000 [==============================] - 5s 111us/step - loss: 0.0987 - acc: 0.9674 - val_loss: 0.1204 - val_acc: 0.9611\n",
      "\n",
      "Epoch 00006: ReduceLROnPlateau reducing learning rate to 0.00020000000949949026.\n",
      "Epoch 7/100\n",
      "48000/48000 [==============================] - 5s 111us/step - loss: 0.0571 - acc: 0.9815 - val_loss: 0.0839 - val_acc: 0.9744\n",
      "Epoch 8/100\n",
      "48000/48000 [==============================] - 5s 112us/step - loss: 0.0503 - acc: 0.9838 - val_loss: 0.0805 - val_acc: 0.9740\n",
      "Epoch 9/100\n",
      "48000/48000 [==============================] - 5s 111us/step - loss: 0.0476 - acc: 0.9844 - val_loss: 0.0777 - val_acc: 0.9758\n",
      "Epoch 10/100\n",
      "48000/48000 [==============================] - 5s 111us/step - loss: 0.0447 - acc: 0.9853 - val_loss: 0.0751 - val_acc: 0.9767\n",
      "Epoch 11/100\n",
      "48000/48000 [==============================] - 5s 110us/step - loss: 0.0409 - acc: 0.9861 - val_loss: 0.0848 - val_acc: 0.9737\n",
      "Epoch 12/100\n",
      "48000/48000 [==============================] - 5s 111us/step - loss: 0.0387 - acc: 0.9874 - val_loss: 0.0788 - val_acc: 0.9760\n",
      "\n",
      "Epoch 00012: ReduceLROnPlateau reducing learning rate to 4.0000001899898055e-05.\n",
      "Epoch 13/100\n",
      "48000/48000 [==============================] - 5s 110us/step - loss: 0.0288 - acc: 0.9914 - val_loss: 0.0727 - val_acc: 0.9782\n",
      "Epoch 14/100\n",
      "48000/48000 [==============================] - 5s 111us/step - loss: 0.0271 - acc: 0.9917 - val_loss: 0.0731 - val_acc: 0.9778\n",
      "Epoch 15/100\n",
      "48000/48000 [==============================] - 5s 111us/step - loss: 0.0264 - acc: 0.9920 - val_loss: 0.0734 - val_acc: 0.9781\n",
      "\n",
      "Epoch 00015: ReduceLROnPlateau reducing learning rate to 8.000000525498762e-06.\n",
      "Epoch 16/100\n",
      "48000/48000 [==============================] - 5s 112us/step - loss: 0.0243 - acc: 0.9933 - val_loss: 0.0725 - val_acc: 0.9781\n",
      "Epoch 17/100\n",
      "48000/48000 [==============================] - 5s 111us/step - loss: 0.0239 - acc: 0.9933 - val_loss: 0.0722 - val_acc: 0.9781\n",
      "Epoch 18/100\n",
      "48000/48000 [==============================] - 6s 120us/step - loss: 0.0237 - acc: 0.9936 - val_loss: 0.0727 - val_acc: 0.9783\n",
      "Epoch 19/100\n",
      "48000/48000 [==============================] - 6s 120us/step - loss: 0.0236 - acc: 0.9934 - val_loss: 0.0726 - val_acc: 0.9786\n",
      "\n",
      "Epoch 00019: ReduceLROnPlateau reducing learning rate to 1.6000001778593287e-06.\n",
      "Epoch 20/100\n",
      "48000/48000 [==============================] - 5s 110us/step - loss: 0.0231 - acc: 0.9936 - val_loss: 0.0725 - val_acc: 0.9784\n",
      "Epoch 21/100\n",
      "48000/48000 [==============================] - 5s 111us/step - loss: 0.0230 - acc: 0.9936 - val_loss: 0.0725 - val_acc: 0.9783\n",
      "Epoch 22/100\n",
      "48000/48000 [==============================] - 5s 111us/step - loss: 0.0230 - acc: 0.9937 - val_loss: 0.0725 - val_acc: 0.9782\n",
      "\n",
      "Epoch 00022: ReduceLROnPlateau reducing learning rate to 3.200000264769187e-07.\n",
      "Epoch 23/100\n",
      "48000/48000 [==============================] - 5s 112us/step - loss: 0.0229 - acc: 0.9938 - val_loss: 0.0725 - val_acc: 0.9782\n",
      "Epoch 24/100\n",
      "48000/48000 [==============================] - 5s 110us/step - loss: 0.0229 - acc: 0.9938 - val_loss: 0.0726 - val_acc: 0.9782\n",
      "Epoch 25/100\n",
      "48000/48000 [==============================] - 5s 110us/step - loss: 0.0228 - acc: 0.9938 - val_loss: 0.0726 - val_acc: 0.9782\n",
      "\n",
      "Epoch 00025: ReduceLROnPlateau reducing learning rate to 6.400000529538374e-08.\n",
      "Epoch 00025: early stopping\n"
     ]
    }
   ],
   "source": [
    "# Train the the model\n",
    "mt=frz_con.fit(\n",
    "    train_features_flat,\n",
    "    train_label,\n",
    "    epochs=NB_EPOCHS,\n",
    "    validation_data=(val_features_flat, valid_label),\n",
    "    callbacks=callbacks\n",
    ")"
   ]
  },
  {
   "cell_type": "code",
   "execution_count": 0,
   "metadata": {
    "colab": {
     "base_uri": "https://localhost:8080/",
     "height": 51
    },
    "colab_type": "code",
    "id": "chMdMllKHmcW",
    "outputId": "00b92aab-44c6-4c52-c7c6-3d72910e029f"
   },
   "outputs": [
    {
     "name": "stdout",
     "output_type": "stream",
     "text": [
      "10000/10000 [==============================] - 0s 40us/step\n",
      "Test Accuracy:0.977100, Test Loss:0.069289.\n"
     ]
    }
   ],
   "source": [
    "# Evaluate accuracy\n",
    "test_loss, test_acc = frz_con.evaluate(test_features_flat, y_test_labels)\n",
    "print('Test Accuracy:%4f, Test Loss:%4f.' %(test_acc,test_loss))"
   ]
  },
  {
   "cell_type": "code",
   "execution_count": 0,
   "metadata": {
    "colab": {},
    "colab_type": "code",
    "id": "gKz-CSaLH5Se"
   },
   "outputs": [],
   "source": [
    "# Make Prediction\n",
    "pred_result = frz_con.predict(test_features_flat)\n",
    "y_pred=[]\n",
    "for i in range(np.shape(y_test)[0]):\n",
    "  num = np.where(pred_result[i]==max(pred_result[i]))\n",
    "  y_pred.append(num[0][0])\n",
    "y_pred = np.transpose(y_pred)"
   ]
  },
  {
   "cell_type": "code",
   "execution_count": 0,
   "metadata": {
    "colab": {
     "base_uri": "https://localhost:8080/",
     "height": 510
    },
    "colab_type": "code",
    "id": "Sdwr-Wq_H5ag",
    "outputId": "87b7d31b-9bce-4cf1-b93e-c6cd7e1c6d23"
   },
   "outputs": [
    {
     "name": "stdout",
     "output_type": "stream",
     "text": [
      "Got 9771 / 10000 correct\n",
      "Accuracy = 0.977100\n",
      "[[ 967    0    1    0    0    3    5    1    2    1]\n",
      " [   0 1125    0    0    3    0    4    2    1    0]\n",
      " [   1    2 1000    8    2    6    3    6    3    1]\n",
      " [   0    0    9  976    0   18    0    4    2    1]\n",
      " [   0    1    0    0  968    1    3    2    3    4]\n",
      " [   2    0    4   13    1  861    3    2    5    1]\n",
      " [   7    1    2    0    1    3  941    0    2    1]\n",
      " [   0    3    4    3   10    0    0 1002    1    5]\n",
      " [   0    0    3    4    2    4    2    2  955    2]\n",
      " [   3    0    3    3    5    3    0    4   12  976]]\n",
      "              precision    recall  f1-score   support\n",
      "\n",
      "           0      0.987     0.987     0.987       980\n",
      "           1      0.994     0.991     0.993      1135\n",
      "           2      0.975     0.969     0.972      1032\n",
      "           3      0.969     0.966     0.968      1010\n",
      "           4      0.976     0.986     0.981       982\n",
      "           5      0.958     0.965     0.961       892\n",
      "           6      0.979     0.982     0.981       958\n",
      "           7      0.978     0.975     0.976      1028\n",
      "           8      0.969     0.980     0.974       974\n",
      "           9      0.984     0.967     0.976      1009\n",
      "\n",
      "    accuracy                          0.977     10000\n",
      "   macro avg      0.977     0.977     0.977     10000\n",
      "weighted avg      0.977     0.977     0.977     10000\n",
      "\n"
     ]
    }
   ],
   "source": [
    "# calculate accuracy\n",
    "num_test = len(y_test)\n",
    "num_correct = np.sum(y_pred == y_test)\n",
    "print('Got %d / %d correct' % (num_correct, num_test))\n",
    "print('Accuracy = %f' % (np.mean(y_test == y_pred)))\n",
    "from sklearn.metrics import classification_report, confusion_matrix \n",
    "print(confusion_matrix(y_test, y_pred)) \n",
    "print(classification_report(y_test, y_pred,\n",
    "                            target_names=list(label_dict.values()),digits=3))"
   ]
  },
  {
   "cell_type": "markdown",
   "metadata": {
    "colab_type": "text",
    "id": "LcNuxQeNNWWA"
   },
   "source": [
    "## Freeze All The Full Connected Layers Retrain VGG-16 Network On MNIST"
   ]
  },
  {
   "cell_type": "code",
   "execution_count": 0,
   "metadata": {
    "colab": {
     "base_uri": "https://localhost:8080/",
     "height": 782
    },
    "colab_type": "code",
    "id": "35BsxuveNWky",
    "outputId": "edb36226-ec5d-4330-b321-5800f253c67a"
   },
   "outputs": [
    {
     "name": "stdout",
     "output_type": "stream",
     "text": [
      "_________________________________________________________________\n",
      "Layer (type)                 Output Shape              Param #   \n",
      "=================================================================\n",
      "input_9 (InputLayer)         (None, 34, 34, 3)         0         \n",
      "_________________________________________________________________\n",
      "block1_conv1 (Conv2D)        (None, 34, 34, 64)        1792      \n",
      "_________________________________________________________________\n",
      "block1_conv2 (Conv2D)        (None, 34, 34, 64)        36928     \n",
      "_________________________________________________________________\n",
      "block1_pool (MaxPooling2D)   (None, 17, 17, 64)        0         \n",
      "_________________________________________________________________\n",
      "block2_conv1 (Conv2D)        (None, 17, 17, 128)       73856     \n",
      "_________________________________________________________________\n",
      "block2_conv2 (Conv2D)        (None, 17, 17, 128)       147584    \n",
      "_________________________________________________________________\n",
      "block2_pool (MaxPooling2D)   (None, 8, 8, 128)         0         \n",
      "_________________________________________________________________\n",
      "block3_conv1 (Conv2D)        (None, 8, 8, 256)         295168    \n",
      "_________________________________________________________________\n",
      "block3_conv2 (Conv2D)        (None, 8, 8, 256)         590080    \n",
      "_________________________________________________________________\n",
      "block3_conv3 (Conv2D)        (None, 8, 8, 256)         590080    \n",
      "_________________________________________________________________\n",
      "block3_pool (MaxPooling2D)   (None, 4, 4, 256)         0         \n",
      "_________________________________________________________________\n",
      "block4_conv1 (Conv2D)        (None, 4, 4, 512)         1180160   \n",
      "_________________________________________________________________\n",
      "block4_conv2 (Conv2D)        (None, 4, 4, 512)         2359808   \n",
      "_________________________________________________________________\n",
      "block4_conv3 (Conv2D)        (None, 4, 4, 512)         2359808   \n",
      "_________________________________________________________________\n",
      "block4_pool (MaxPooling2D)   (None, 2, 2, 512)         0         \n",
      "_________________________________________________________________\n",
      "block5_conv1 (Conv2D)        (None, 2, 2, 512)         2359808   \n",
      "_________________________________________________________________\n",
      "block5_conv2 (Conv2D)        (None, 2, 2, 512)         2359808   \n",
      "_________________________________________________________________\n",
      "block5_conv3 (Conv2D)        (None, 2, 2, 512)         2359808   \n",
      "_________________________________________________________________\n",
      "block5_pool (MaxPooling2D)   (None, 1, 1, 512)         0         \n",
      "=================================================================\n",
      "Total params: 14,714,688\n",
      "Trainable params: 14,714,688\n",
      "Non-trainable params: 0\n",
      "_________________________________________________________________\n"
     ]
    }
   ],
   "source": [
    "#  Create base model of VGG16\n",
    "from keras.applications import VGG16;\n",
    "from keras.layers import Input\n",
    "input_tensor = Input(shape=(IMG_HEIGHT, IMG_WIDTH, IMG_DEPTH))\n",
    "freeze = VGG16(weights='imagenet',include_top=False, \n",
    "                  input_tensor = input_tensor)\n",
    "freeze.summary()"
   ]
  },
  {
   "cell_type": "code",
   "execution_count": 0,
   "metadata": {
    "colab": {
     "base_uri": "https://localhost:8080/",
     "height": 68
    },
    "colab_type": "code",
    "id": "hmEY1sylNWn_",
    "outputId": "1943f097-6ac9-41e5-9782-d31607e34a2a"
   },
   "outputs": [
    {
     "name": "stdout",
     "output_type": "stream",
     "text": [
      "48000/48000 [==============================] - 19s 401us/step\n",
      "10000/10000 [==============================] - 4s 400us/step\n",
      "12000/12000 [==============================] - 5s 403us/step\n"
     ]
    }
   ],
   "source": [
    "# Extracting features\n",
    "train_features = freeze.predict(np.array(train_X), batch_size=BATCH_SIZE, verbose=1)\n",
    "test_features = freeze.predict(np.array(X_te), batch_size=BATCH_SIZE, verbose=1)\n",
    "val_features = freeze.predict(np.array(valid_X), batch_size=BATCH_SIZE, verbose=1)"
   ]
  },
  {
   "cell_type": "code",
   "execution_count": 0,
   "metadata": {
    "colab": {},
    "colab_type": "code",
    "id": "0Rab-CvhNWrB"
   },
   "outputs": [],
   "source": [
    "np.savez(\"train_features\", train_features, train_label)\n",
    "np.savez(\"test_features\", test_features, y_test_labels)\n",
    "np.savez(\"val_features\", val_features, valid_label)"
   ]
  },
  {
   "cell_type": "code",
   "execution_count": 0,
   "metadata": {
    "colab": {
     "base_uri": "https://localhost:8080/",
     "height": 68
    },
    "colab_type": "code",
    "id": "7ZZKMHLFN82Q",
    "outputId": "7d27bf86-44db-4dfb-dc68-c6f9d53f82c0"
   },
   "outputs": [
    {
     "name": "stdout",
     "output_type": "stream",
     "text": [
      "(48000, 1, 1, 512) \n",
      " (10000, 1, 1, 512) \n",
      " (12000, 1, 1, 512)\n"
     ]
    }
   ],
   "source": [
    "# Current shape of features\n",
    "print(train_features.shape, \"\\n\",  test_features.shape, \"\\n\", val_features.shape)"
   ]
  },
  {
   "cell_type": "code",
   "execution_count": 0,
   "metadata": {
    "colab": {},
    "colab_type": "code",
    "id": "FAU1RjH-OHai"
   },
   "outputs": [],
   "source": [
    "# Flatten extracted features\n",
    "train_features_flat = np.reshape(train_features, (48000, 1*1*512))\n",
    "test_features_flat = np.reshape(test_features, (10000, 1*1*512))\n",
    "val_features_flat = np.reshape(val_features, (12000, 1*1*512))"
   ]
  },
  {
   "cell_type": "code",
   "execution_count": 0,
   "metadata": {
    "colab": {},
    "colab_type": "code",
    "id": "4G21XcJmN85v"
   },
   "outputs": [],
   "source": [
    "from keras import models\n",
    "from keras.models import Model\n",
    "from keras import layers\n",
    "from keras import optimizers\n",
    "from keras import callbacks\n",
    "from keras.layers.advanced_activations import LeakyReLU\n",
    "frz_fcn = models.Sequential()\n",
    "frz_fcn.add(layers.Dense(512, activation='relu', input_dim=(1*1*512)))\n",
    "frz_con.add(layers.Dense(512, activation='relu', input_dim=(1*1*512)))\n",
    "frz_fcn.add(layers.Dense(10, activation='softmax'))"
   ]
  },
  {
   "cell_type": "code",
   "execution_count": 0,
   "metadata": {
    "colab": {},
    "colab_type": "code",
    "id": "dOGX-uZdN9CT"
   },
   "outputs": [],
   "source": [
    "# Freeze the layers which you don't want to train. Here I am freezing the first 5 layers.\n",
    "for layer in frz_fcn.layers[0:2]:\n",
    "    layer.trainable = False"
   ]
  },
  {
   "cell_type": "code",
   "execution_count": 0,
   "metadata": {
    "colab": {},
    "colab_type": "code",
    "id": "T9jGIMoHORCm"
   },
   "outputs": [],
   "source": [
    "NB_TRAIN_SAMPLES = train_features_flat.shape[0]\n",
    "NB_VALIDATION_SAMPLES = val_features_flat.shape[0]\n",
    "NB_EPOCHS = 100\n",
    "\n",
    "# Compile the model.\n",
    "\n",
    "frz_fcn.compile(optimizer='adam',\n",
    "              loss='categorical_crossentropy',\n",
    "              metrics=['accuracy'])"
   ]
  },
  {
   "cell_type": "code",
   "execution_count": 0,
   "metadata": {
    "colab": {
     "base_uri": "https://localhost:8080/",
     "height": 71
    },
    "colab_type": "code",
    "id": "o-6d9pCuORH4",
    "outputId": "92f88569-c208-438b-e40b-bde0111b5cf8"
   },
   "outputs": [
    {
     "name": "stderr",
     "output_type": "stream",
     "text": [
      "/usr/local/lib/python3.6/dist-packages/keras/callbacks.py:1065: UserWarning: `epsilon` argument is deprecated and will be removed, use `min_delta` instead.\n",
      "  warnings.warn('`epsilon` argument is deprecated and '\n"
     ]
    }
   ],
   "source": [
    "# Incorporating reduced learning and early stopping for callback\n",
    "reduce_learning = callbacks.ReduceLROnPlateau(\n",
    "    monitor='val_loss',\n",
    "    factor=0.2,\n",
    "    patience=2,\n",
    "    verbose=1,\n",
    "    mode='auto',\n",
    "    epsilon=0.0001,\n",
    "    cooldown=2,\n",
    "    min_lr=0)\n",
    "\n",
    "eary_stopping = callbacks.EarlyStopping(\n",
    "    monitor='val_loss',\n",
    "    min_delta=0,\n",
    "    patience=8,\n",
    "    verbose=1,\n",
    "    mode='auto')\n",
    "\n",
    "callbacks = [reduce_learning, eary_stopping]"
   ]
  },
  {
   "cell_type": "code",
   "execution_count": 0,
   "metadata": {
    "colab": {
     "base_uri": "https://localhost:8080/",
     "height": 459
    },
    "colab_type": "code",
    "id": "j0PoZPPzPVzZ",
    "outputId": "9d615663-1317-4131-e157-a072ca5c96a8"
   },
   "outputs": [
    {
     "name": "stdout",
     "output_type": "stream",
     "text": [
      "Train on 48000 samples, validate on 12000 samples\n",
      "Epoch 1/100\n",
      "48000/48000 [==============================] - 4s 73us/step - loss: 2.4916 - acc: 0.1330 - val_loss: 2.5009 - val_acc: 0.1352\n",
      "Epoch 2/100\n",
      "48000/48000 [==============================] - 3s 55us/step - loss: 2.4916 - acc: 0.1330 - val_loss: 2.5009 - val_acc: 0.1352\n",
      "Epoch 3/100\n",
      "48000/48000 [==============================] - 3s 55us/step - loss: 2.4916 - acc: 0.1330 - val_loss: 2.5009 - val_acc: 0.1352\n",
      "\n",
      "Epoch 00003: ReduceLROnPlateau reducing learning rate to 0.00020000000949949026.\n",
      "Epoch 4/100\n",
      "48000/48000 [==============================] - 3s 61us/step - loss: 2.4916 - acc: 0.1330 - val_loss: 2.5009 - val_acc: 0.1352\n",
      "Epoch 5/100\n",
      "48000/48000 [==============================] - 3s 64us/step - loss: 2.4916 - acc: 0.1330 - val_loss: 2.5009 - val_acc: 0.1352\n",
      "Epoch 6/100\n",
      "48000/48000 [==============================] - 3s 54us/step - loss: 2.4916 - acc: 0.1330 - val_loss: 2.5009 - val_acc: 0.1352\n",
      "\n",
      "Epoch 00006: ReduceLROnPlateau reducing learning rate to 4.0000001899898055e-05.\n",
      "Epoch 7/100\n",
      "48000/48000 [==============================] - 3s 54us/step - loss: 2.4916 - acc: 0.1330 - val_loss: 2.5009 - val_acc: 0.1352\n",
      "Epoch 8/100\n",
      "48000/48000 [==============================] - 3s 55us/step - loss: 2.4916 - acc: 0.1330 - val_loss: 2.5009 - val_acc: 0.1352\n",
      "Epoch 9/100\n",
      "48000/48000 [==============================] - 3s 54us/step - loss: 2.4916 - acc: 0.1330 - val_loss: 2.5009 - val_acc: 0.1352\n",
      "\n",
      "Epoch 00009: ReduceLROnPlateau reducing learning rate to 8.000000525498762e-06.\n",
      "Epoch 00009: early stopping\n"
     ]
    }
   ],
   "source": [
    "# Train the the model\n",
    "mt=frz_fcn.fit(\n",
    "    train_features_flat,\n",
    "    train_label,\n",
    "    epochs=NB_EPOCHS,\n",
    "    validation_data=(val_features_flat, valid_label),\n",
    "    callbacks=callbacks\n",
    ")"
   ]
  },
  {
   "cell_type": "code",
   "execution_count": 0,
   "metadata": {
    "colab": {
     "base_uri": "https://localhost:8080/",
     "height": 51
    },
    "colab_type": "code",
    "id": "mxFjevJePXMj",
    "outputId": "c2cef3d6-90c1-4996-b464-4508e91a7272"
   },
   "outputs": [
    {
     "name": "stdout",
     "output_type": "stream",
     "text": [
      "10000/10000 [==============================] - 0s 43us/step\n",
      "Test Accuracy:0.129600, Test Loss:2.491812.\n"
     ]
    }
   ],
   "source": [
    "# Evaluate accuracy\n",
    "test_loss, test_acc = frz_fcn.evaluate(test_features_flat, y_test_labels)\n",
    "print('Test Accuracy:%4f, Test Loss:%4f.' %(test_acc,test_loss))"
   ]
  },
  {
   "cell_type": "code",
   "execution_count": 0,
   "metadata": {
    "colab": {},
    "colab_type": "code",
    "id": "5APCa3hfPXUm"
   },
   "outputs": [],
   "source": [
    "# Make Prediction\n",
    "pred_result = frz_fcn.predict(test_features_flat)\n",
    "y_pred=[]\n",
    "for i in range(np.shape(y_test)[0]):\n",
    "  num = np.where(pred_result[i]==max(pred_result[i]))\n",
    "  y_pred.append(num[0][0])\n",
    "y_pred = np.transpose(y_pred)"
   ]
  },
  {
   "cell_type": "code",
   "execution_count": 0,
   "metadata": {
    "colab": {
     "base_uri": "https://localhost:8080/",
     "height": 564
    },
    "colab_type": "code",
    "id": "kGR9Wt2NPV2m",
    "outputId": "3c834ae6-49d1-4631-b0d4-0e712419c62e"
   },
   "outputs": [
    {
     "name": "stdout",
     "output_type": "stream",
     "text": [
      "Got 1296 / 10000 correct\n",
      "Accuracy = 0.129600\n",
      "[[   0    0    0    0    0    0    0    0  980    0]\n",
      " [   0    0    0    4  821  266    0    2   34    8]\n",
      " [   0    0    0    0    5    0    0   10 1015    2]\n",
      " [   0    0    0    0    4    0    0    0 1005    1]\n",
      " [   0    0    0    5  315   27    0   12  612   11]\n",
      " [   0    0    0    0    8    0    0    2  881    1]\n",
      " [   0    0    0    0    8    1    0    3  939    7]\n",
      " [   0    0    0    0  217   48    0    8  702   53]\n",
      " [   0    0    0    0    2    0    0    0  972    0]\n",
      " [   0    0    0    0   15    5    0    0  988    1]]\n",
      "              precision    recall  f1-score   support\n",
      "\n",
      "           0      0.000     0.000     0.000       980\n",
      "           1      0.000     0.000     0.000      1135\n",
      "           2      0.000     0.000     0.000      1032\n",
      "           3      0.000     0.000     0.000      1010\n",
      "           4      0.226     0.321     0.265       982\n",
      "           5      0.000     0.000     0.000       892\n",
      "           6      0.000     0.000     0.000       958\n",
      "           7      0.216     0.008     0.015      1028\n",
      "           8      0.120     0.998     0.214       974\n",
      "           9      0.012     0.001     0.002      1009\n",
      "\n",
      "    accuracy                          0.130     10000\n",
      "   macro avg      0.057     0.133     0.050     10000\n",
      "weighted avg      0.057     0.130     0.049     10000\n",
      "\n"
     ]
    },
    {
     "name": "stderr",
     "output_type": "stream",
     "text": [
      "/usr/local/lib/python3.6/dist-packages/sklearn/metrics/classification.py:1437: UndefinedMetricWarning: Precision and F-score are ill-defined and being set to 0.0 in labels with no predicted samples.\n",
      "  'precision', 'predicted', average, warn_for)\n"
     ]
    }
   ],
   "source": [
    "# calculate accuracy\n",
    "num_test = len(y_test)\n",
    "num_correct = np.sum(y_pred == y_test)\n",
    "print('Got %d / %d correct' % (num_correct, num_test))\n",
    "print('Accuracy = %f' % (np.mean(y_test == y_pred)))\n",
    "from sklearn.metrics import classification_report, confusion_matrix \n",
    "print(confusion_matrix(y_test, y_pred)) \n",
    "print(classification_report(y_test, y_pred,\n",
    "                            target_names=list(label_dict.values()),digits=3))"
   ]
  }
 ],
 "metadata": {
  "accelerator": "GPU",
  "colab": {
   "collapsed_sections": [],
   "name": "CNN.ipynb",
   "provenance": [],
   "version": "0.3.2"
  },
  "kernelspec": {
   "display_name": "Python 3",
   "language": "python",
   "name": "python3"
  },
  "language_info": {
   "codemirror_mode": {
    "name": "ipython",
    "version": 3
   },
   "file_extension": ".py",
   "mimetype": "text/x-python",
   "name": "python",
   "nbconvert_exporter": "python",
   "pygments_lexer": "ipython3",
   "version": "3.6.8"
  }
 },
 "nbformat": 4,
 "nbformat_minor": 1
}
